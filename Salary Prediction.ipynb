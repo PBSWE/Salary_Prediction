{
 "cells": [
  {
   "cell_type": "markdown",
   "metadata": {},
   "source": [
    "# Salary Predictions Based on Job Descriptions"
   ]
  },
  {
   "cell_type": "markdown",
   "metadata": {},
   "source": [
    "# Part 1 - DEFINE"
   ]
  },
  {
   "cell_type": "markdown",
   "metadata": {},
   "source": [
    "### ---- 1 Define the problem ----"
   ]
  },
  {
   "cell_type": "markdown",
   "metadata": {},
   "source": [
    "We want to be able to create salary predictions of certain jobs based on the dataset provided that cointains info about job titles, distance from city, years of experience and other attritbutes. "
   ]
  },
  {
   "cell_type": "code",
   "execution_count": 99,
   "metadata": {},
   "outputs": [],
   "source": [
    "import pandas as pd\n",
    "import numpy as np\n",
    "import matplotlib.pyplot as plt\n",
    "import seaborn as sns\n",
    "from scipy import stats\n",
    "import sklearn\n",
    "from sklearn import preprocessing, metrics\n",
    "from sklearn.preprocessing import LabelEncoder, MinMaxScaler, StandardScaler\n",
    "from sklearn.model_selection import cross_val_score, train_test_split, GridSearchCV, RandomizedSearchCV,RepeatedStratifiedKFold\n",
    "from sklearn.utils import shuffle\n",
    "from sklearn.metrics import mean_squared_error\n",
    "from sklearn.linear_model import LinearRegression, SGDRegressor\n",
    "from sklearn.pipeline import make_pipeline\n",
    "from sklearn.decomposition import PCA\n",
    "from sklearn.tree import DecisionTreeRegressor\n",
    "from sklearn.ensemble import RandomForestRegressor\n",
    "from sklearn.ensemble import GradientBoostingClassifier\n",
    "import inspect\n",
    "import xgboost\n",
    "import pickle\n",
    "\n",
    "%matplotlib inline\n",
    "\n",
    "#Author\n",
    "__author__ = \"Phil Baltazar\"\n",
    "__email__ = \"phillusnow@gmail.com\"\n",
    "__website__ = \"https://github.com/pbswe\""
   ]
  },
  {
   "cell_type": "markdown",
   "metadata": {},
   "source": [
    "## Part 2 - DISCOVER"
   ]
  },
  {
   "cell_type": "markdown",
   "metadata": {},
   "source": [
    "### ---- 2 Load the data ----"
   ]
  },
  {
   "cell_type": "code",
   "execution_count": 100,
   "metadata": {},
   "outputs": [],
   "source": [
    "#load the data into a Pandas dataframe\n",
    "\n",
    "trainFeatDF = pd.read_csv('../Salary_Prediction_Portfolio/data/train_features.csv') \n",
    "trainSalsDF = pd.read_csv('../Salary_Prediction_Portfolio/data/train_salaries.csv')\n",
    "testFeatDF = pd.read_csv('../Salary_Prediction_Portfolio/data/test_features.csv')"
   ]
  },
  {
   "cell_type": "markdown",
   "metadata": {},
   "source": [
    "### ---- 3 Clean the data ----"
   ]
  },
  {
   "cell_type": "code",
   "execution_count": 101,
   "metadata": {},
   "outputs": [
    {
     "data": {
      "text/html": [
       "<div>\n",
       "<style scoped>\n",
       "    .dataframe tbody tr th:only-of-type {\n",
       "        vertical-align: middle;\n",
       "    }\n",
       "\n",
       "    .dataframe tbody tr th {\n",
       "        vertical-align: top;\n",
       "    }\n",
       "\n",
       "    .dataframe thead th {\n",
       "        text-align: right;\n",
       "    }\n",
       "</style>\n",
       "<table border=\"1\" class=\"dataframe\">\n",
       "  <thead>\n",
       "    <tr style=\"text-align: right;\">\n",
       "      <th></th>\n",
       "      <th>jobId</th>\n",
       "      <th>companyId</th>\n",
       "      <th>jobType</th>\n",
       "      <th>degree</th>\n",
       "      <th>major</th>\n",
       "      <th>industry</th>\n",
       "      <th>yearsExperience</th>\n",
       "      <th>milesFromMetropolis</th>\n",
       "    </tr>\n",
       "  </thead>\n",
       "  <tbody>\n",
       "    <tr>\n",
       "      <th>0</th>\n",
       "      <td>JOB1362684407687</td>\n",
       "      <td>COMP37</td>\n",
       "      <td>CFO</td>\n",
       "      <td>MASTERS</td>\n",
       "      <td>MATH</td>\n",
       "      <td>HEALTH</td>\n",
       "      <td>10</td>\n",
       "      <td>83</td>\n",
       "    </tr>\n",
       "    <tr>\n",
       "      <th>1</th>\n",
       "      <td>JOB1362684407688</td>\n",
       "      <td>COMP19</td>\n",
       "      <td>CEO</td>\n",
       "      <td>HIGH_SCHOOL</td>\n",
       "      <td>NONE</td>\n",
       "      <td>WEB</td>\n",
       "      <td>3</td>\n",
       "      <td>73</td>\n",
       "    </tr>\n",
       "    <tr>\n",
       "      <th>2</th>\n",
       "      <td>JOB1362684407689</td>\n",
       "      <td>COMP52</td>\n",
       "      <td>VICE_PRESIDENT</td>\n",
       "      <td>DOCTORAL</td>\n",
       "      <td>PHYSICS</td>\n",
       "      <td>HEALTH</td>\n",
       "      <td>10</td>\n",
       "      <td>38</td>\n",
       "    </tr>\n",
       "    <tr>\n",
       "      <th>3</th>\n",
       "      <td>JOB1362684407690</td>\n",
       "      <td>COMP38</td>\n",
       "      <td>MANAGER</td>\n",
       "      <td>DOCTORAL</td>\n",
       "      <td>CHEMISTRY</td>\n",
       "      <td>AUTO</td>\n",
       "      <td>8</td>\n",
       "      <td>17</td>\n",
       "    </tr>\n",
       "    <tr>\n",
       "      <th>4</th>\n",
       "      <td>JOB1362684407691</td>\n",
       "      <td>COMP7</td>\n",
       "      <td>VICE_PRESIDENT</td>\n",
       "      <td>BACHELORS</td>\n",
       "      <td>PHYSICS</td>\n",
       "      <td>FINANCE</td>\n",
       "      <td>8</td>\n",
       "      <td>16</td>\n",
       "    </tr>\n",
       "    <tr>\n",
       "      <th>5</th>\n",
       "      <td>JOB1362684407692</td>\n",
       "      <td>COMP15</td>\n",
       "      <td>MANAGER</td>\n",
       "      <td>DOCTORAL</td>\n",
       "      <td>COMPSCI</td>\n",
       "      <td>FINANCE</td>\n",
       "      <td>2</td>\n",
       "      <td>31</td>\n",
       "    </tr>\n",
       "    <tr>\n",
       "      <th>6</th>\n",
       "      <td>JOB1362684407693</td>\n",
       "      <td>COMP15</td>\n",
       "      <td>CFO</td>\n",
       "      <td>NONE</td>\n",
       "      <td>NONE</td>\n",
       "      <td>HEALTH</td>\n",
       "      <td>23</td>\n",
       "      <td>24</td>\n",
       "    </tr>\n",
       "    <tr>\n",
       "      <th>7</th>\n",
       "      <td>JOB1362684407694</td>\n",
       "      <td>COMP24</td>\n",
       "      <td>JUNIOR</td>\n",
       "      <td>BACHELORS</td>\n",
       "      <td>CHEMISTRY</td>\n",
       "      <td>EDUCATION</td>\n",
       "      <td>9</td>\n",
       "      <td>70</td>\n",
       "    </tr>\n",
       "    <tr>\n",
       "      <th>8</th>\n",
       "      <td>JOB1362684407695</td>\n",
       "      <td>COMP20</td>\n",
       "      <td>JANITOR</td>\n",
       "      <td>HIGH_SCHOOL</td>\n",
       "      <td>NONE</td>\n",
       "      <td>EDUCATION</td>\n",
       "      <td>1</td>\n",
       "      <td>54</td>\n",
       "    </tr>\n",
       "    <tr>\n",
       "      <th>9</th>\n",
       "      <td>JOB1362684407696</td>\n",
       "      <td>COMP41</td>\n",
       "      <td>VICE_PRESIDENT</td>\n",
       "      <td>BACHELORS</td>\n",
       "      <td>CHEMISTRY</td>\n",
       "      <td>AUTO</td>\n",
       "      <td>17</td>\n",
       "      <td>68</td>\n",
       "    </tr>\n",
       "  </tbody>\n",
       "</table>\n",
       "</div>"
      ],
      "text/plain": [
       "              jobId companyId         jobType       degree      major  \\\n",
       "0  JOB1362684407687    COMP37             CFO      MASTERS       MATH   \n",
       "1  JOB1362684407688    COMP19             CEO  HIGH_SCHOOL       NONE   \n",
       "2  JOB1362684407689    COMP52  VICE_PRESIDENT     DOCTORAL    PHYSICS   \n",
       "3  JOB1362684407690    COMP38         MANAGER     DOCTORAL  CHEMISTRY   \n",
       "4  JOB1362684407691     COMP7  VICE_PRESIDENT    BACHELORS    PHYSICS   \n",
       "5  JOB1362684407692    COMP15         MANAGER     DOCTORAL    COMPSCI   \n",
       "6  JOB1362684407693    COMP15             CFO         NONE       NONE   \n",
       "7  JOB1362684407694    COMP24          JUNIOR    BACHELORS  CHEMISTRY   \n",
       "8  JOB1362684407695    COMP20         JANITOR  HIGH_SCHOOL       NONE   \n",
       "9  JOB1362684407696    COMP41  VICE_PRESIDENT    BACHELORS  CHEMISTRY   \n",
       "\n",
       "    industry  yearsExperience  milesFromMetropolis  \n",
       "0     HEALTH               10                   83  \n",
       "1        WEB                3                   73  \n",
       "2     HEALTH               10                   38  \n",
       "3       AUTO                8                   17  \n",
       "4    FINANCE                8                   16  \n",
       "5    FINANCE                2                   31  \n",
       "6     HEALTH               23                   24  \n",
       "7  EDUCATION                9                   70  \n",
       "8  EDUCATION                1                   54  \n",
       "9       AUTO               17                   68  "
      ]
     },
     "execution_count": 101,
     "metadata": {},
     "output_type": "execute_result"
    }
   ],
   "source": [
    "# Briefly examine the data.\n",
    "\n",
    "trainFeatDF.head(10)"
   ]
  },
  {
   "cell_type": "code",
   "execution_count": 102,
   "metadata": {},
   "outputs": [
    {
     "data": {
      "text/html": [
       "<div>\n",
       "<style scoped>\n",
       "    .dataframe tbody tr th:only-of-type {\n",
       "        vertical-align: middle;\n",
       "    }\n",
       "\n",
       "    .dataframe tbody tr th {\n",
       "        vertical-align: top;\n",
       "    }\n",
       "\n",
       "    .dataframe thead th {\n",
       "        text-align: right;\n",
       "    }\n",
       "</style>\n",
       "<table border=\"1\" class=\"dataframe\">\n",
       "  <thead>\n",
       "    <tr style=\"text-align: right;\">\n",
       "      <th></th>\n",
       "      <th>jobId</th>\n",
       "      <th>salary</th>\n",
       "    </tr>\n",
       "  </thead>\n",
       "  <tbody>\n",
       "    <tr>\n",
       "      <th>0</th>\n",
       "      <td>JOB1362684407687</td>\n",
       "      <td>130</td>\n",
       "    </tr>\n",
       "    <tr>\n",
       "      <th>1</th>\n",
       "      <td>JOB1362684407688</td>\n",
       "      <td>101</td>\n",
       "    </tr>\n",
       "    <tr>\n",
       "      <th>2</th>\n",
       "      <td>JOB1362684407689</td>\n",
       "      <td>137</td>\n",
       "    </tr>\n",
       "    <tr>\n",
       "      <th>3</th>\n",
       "      <td>JOB1362684407690</td>\n",
       "      <td>142</td>\n",
       "    </tr>\n",
       "    <tr>\n",
       "      <th>4</th>\n",
       "      <td>JOB1362684407691</td>\n",
       "      <td>163</td>\n",
       "    </tr>\n",
       "    <tr>\n",
       "      <th>5</th>\n",
       "      <td>JOB1362684407692</td>\n",
       "      <td>113</td>\n",
       "    </tr>\n",
       "    <tr>\n",
       "      <th>6</th>\n",
       "      <td>JOB1362684407693</td>\n",
       "      <td>178</td>\n",
       "    </tr>\n",
       "    <tr>\n",
       "      <th>7</th>\n",
       "      <td>JOB1362684407694</td>\n",
       "      <td>73</td>\n",
       "    </tr>\n",
       "    <tr>\n",
       "      <th>8</th>\n",
       "      <td>JOB1362684407695</td>\n",
       "      <td>31</td>\n",
       "    </tr>\n",
       "    <tr>\n",
       "      <th>9</th>\n",
       "      <td>JOB1362684407696</td>\n",
       "      <td>104</td>\n",
       "    </tr>\n",
       "  </tbody>\n",
       "</table>\n",
       "</div>"
      ],
      "text/plain": [
       "              jobId  salary\n",
       "0  JOB1362684407687     130\n",
       "1  JOB1362684407688     101\n",
       "2  JOB1362684407689     137\n",
       "3  JOB1362684407690     142\n",
       "4  JOB1362684407691     163\n",
       "5  JOB1362684407692     113\n",
       "6  JOB1362684407693     178\n",
       "7  JOB1362684407694      73\n",
       "8  JOB1362684407695      31\n",
       "9  JOB1362684407696     104"
      ]
     },
     "execution_count": 102,
     "metadata": {},
     "output_type": "execute_result"
    }
   ],
   "source": [
    "trainSalsDF.head(10)"
   ]
  },
  {
   "cell_type": "code",
   "execution_count": 103,
   "metadata": {},
   "outputs": [
    {
     "data": {
      "text/html": [
       "<div>\n",
       "<style scoped>\n",
       "    .dataframe tbody tr th:only-of-type {\n",
       "        vertical-align: middle;\n",
       "    }\n",
       "\n",
       "    .dataframe tbody tr th {\n",
       "        vertical-align: top;\n",
       "    }\n",
       "\n",
       "    .dataframe thead th {\n",
       "        text-align: right;\n",
       "    }\n",
       "</style>\n",
       "<table border=\"1\" class=\"dataframe\">\n",
       "  <thead>\n",
       "    <tr style=\"text-align: right;\">\n",
       "      <th></th>\n",
       "      <th>jobId</th>\n",
       "      <th>companyId</th>\n",
       "      <th>jobType</th>\n",
       "      <th>degree</th>\n",
       "      <th>major</th>\n",
       "      <th>industry</th>\n",
       "      <th>yearsExperience</th>\n",
       "      <th>milesFromMetropolis</th>\n",
       "    </tr>\n",
       "  </thead>\n",
       "  <tbody>\n",
       "    <tr>\n",
       "      <th>0</th>\n",
       "      <td>JOB1362685407687</td>\n",
       "      <td>COMP33</td>\n",
       "      <td>MANAGER</td>\n",
       "      <td>HIGH_SCHOOL</td>\n",
       "      <td>NONE</td>\n",
       "      <td>HEALTH</td>\n",
       "      <td>22</td>\n",
       "      <td>73</td>\n",
       "    </tr>\n",
       "    <tr>\n",
       "      <th>1</th>\n",
       "      <td>JOB1362685407688</td>\n",
       "      <td>COMP13</td>\n",
       "      <td>JUNIOR</td>\n",
       "      <td>NONE</td>\n",
       "      <td>NONE</td>\n",
       "      <td>AUTO</td>\n",
       "      <td>20</td>\n",
       "      <td>47</td>\n",
       "    </tr>\n",
       "    <tr>\n",
       "      <th>2</th>\n",
       "      <td>JOB1362685407689</td>\n",
       "      <td>COMP10</td>\n",
       "      <td>CTO</td>\n",
       "      <td>MASTERS</td>\n",
       "      <td>BIOLOGY</td>\n",
       "      <td>HEALTH</td>\n",
       "      <td>17</td>\n",
       "      <td>9</td>\n",
       "    </tr>\n",
       "    <tr>\n",
       "      <th>3</th>\n",
       "      <td>JOB1362685407690</td>\n",
       "      <td>COMP21</td>\n",
       "      <td>MANAGER</td>\n",
       "      <td>HIGH_SCHOOL</td>\n",
       "      <td>NONE</td>\n",
       "      <td>OIL</td>\n",
       "      <td>14</td>\n",
       "      <td>96</td>\n",
       "    </tr>\n",
       "    <tr>\n",
       "      <th>4</th>\n",
       "      <td>JOB1362685407691</td>\n",
       "      <td>COMP36</td>\n",
       "      <td>JUNIOR</td>\n",
       "      <td>DOCTORAL</td>\n",
       "      <td>BIOLOGY</td>\n",
       "      <td>OIL</td>\n",
       "      <td>10</td>\n",
       "      <td>44</td>\n",
       "    </tr>\n",
       "    <tr>\n",
       "      <th>5</th>\n",
       "      <td>JOB1362685407692</td>\n",
       "      <td>COMP40</td>\n",
       "      <td>CTO</td>\n",
       "      <td>MASTERS</td>\n",
       "      <td>COMPSCI</td>\n",
       "      <td>FINANCE</td>\n",
       "      <td>6</td>\n",
       "      <td>23</td>\n",
       "    </tr>\n",
       "    <tr>\n",
       "      <th>6</th>\n",
       "      <td>JOB1362685407693</td>\n",
       "      <td>COMP32</td>\n",
       "      <td>SENIOR</td>\n",
       "      <td>MASTERS</td>\n",
       "      <td>COMPSCI</td>\n",
       "      <td>SERVICE</td>\n",
       "      <td>6</td>\n",
       "      <td>32</td>\n",
       "    </tr>\n",
       "    <tr>\n",
       "      <th>7</th>\n",
       "      <td>JOB1362685407694</td>\n",
       "      <td>COMP11</td>\n",
       "      <td>CEO</td>\n",
       "      <td>BACHELORS</td>\n",
       "      <td>BIOLOGY</td>\n",
       "      <td>SERVICE</td>\n",
       "      <td>9</td>\n",
       "      <td>73</td>\n",
       "    </tr>\n",
       "    <tr>\n",
       "      <th>8</th>\n",
       "      <td>JOB1362685407695</td>\n",
       "      <td>COMP39</td>\n",
       "      <td>MANAGER</td>\n",
       "      <td>DOCTORAL</td>\n",
       "      <td>PHYSICS</td>\n",
       "      <td>HEALTH</td>\n",
       "      <td>6</td>\n",
       "      <td>78</td>\n",
       "    </tr>\n",
       "    <tr>\n",
       "      <th>9</th>\n",
       "      <td>JOB1362685407696</td>\n",
       "      <td>COMP22</td>\n",
       "      <td>VICE_PRESIDENT</td>\n",
       "      <td>NONE</td>\n",
       "      <td>NONE</td>\n",
       "      <td>AUTO</td>\n",
       "      <td>23</td>\n",
       "      <td>97</td>\n",
       "    </tr>\n",
       "  </tbody>\n",
       "</table>\n",
       "</div>"
      ],
      "text/plain": [
       "              jobId companyId         jobType       degree    major industry  \\\n",
       "0  JOB1362685407687    COMP33         MANAGER  HIGH_SCHOOL     NONE   HEALTH   \n",
       "1  JOB1362685407688    COMP13          JUNIOR         NONE     NONE     AUTO   \n",
       "2  JOB1362685407689    COMP10             CTO      MASTERS  BIOLOGY   HEALTH   \n",
       "3  JOB1362685407690    COMP21         MANAGER  HIGH_SCHOOL     NONE      OIL   \n",
       "4  JOB1362685407691    COMP36          JUNIOR     DOCTORAL  BIOLOGY      OIL   \n",
       "5  JOB1362685407692    COMP40             CTO      MASTERS  COMPSCI  FINANCE   \n",
       "6  JOB1362685407693    COMP32          SENIOR      MASTERS  COMPSCI  SERVICE   \n",
       "7  JOB1362685407694    COMP11             CEO    BACHELORS  BIOLOGY  SERVICE   \n",
       "8  JOB1362685407695    COMP39         MANAGER     DOCTORAL  PHYSICS   HEALTH   \n",
       "9  JOB1362685407696    COMP22  VICE_PRESIDENT         NONE     NONE     AUTO   \n",
       "\n",
       "   yearsExperience  milesFromMetropolis  \n",
       "0               22                   73  \n",
       "1               20                   47  \n",
       "2               17                    9  \n",
       "3               14                   96  \n",
       "4               10                   44  \n",
       "5                6                   23  \n",
       "6                6                   32  \n",
       "7                9                   73  \n",
       "8                6                   78  \n",
       "9               23                   97  "
      ]
     },
     "execution_count": 103,
     "metadata": {},
     "output_type": "execute_result"
    }
   ],
   "source": [
    "testFeatDF.head(10)"
   ]
  },
  {
   "cell_type": "code",
   "execution_count": 104,
   "metadata": {},
   "outputs": [
    {
     "name": "stdout",
     "output_type": "stream",
     "text": [
      "(1000000, 8)\n",
      "(1000000, 8)\n",
      "(1000000, 2)\n"
     ]
    }
   ],
   "source": [
    "print(trainFeatDF.shape)\n",
    "print(testFeatDF.shape)\n",
    "print(trainSalsDF.shape)"
   ]
  },
  {
   "cell_type": "code",
   "execution_count": 105,
   "metadata": {},
   "outputs": [],
   "source": [
    "# Verify dtype and length of each dataset via .info() method."
   ]
  },
  {
   "cell_type": "code",
   "execution_count": 106,
   "metadata": {},
   "outputs": [
    {
     "name": "stdout",
     "output_type": "stream",
     "text": [
      "<class 'pandas.core.frame.DataFrame'>\n",
      "RangeIndex: 1000000 entries, 0 to 999999\n",
      "Data columns (total 8 columns):\n",
      " #   Column               Non-Null Count    Dtype \n",
      "---  ------               --------------    ----- \n",
      " 0   jobId                1000000 non-null  object\n",
      " 1   companyId            1000000 non-null  object\n",
      " 2   jobType              1000000 non-null  object\n",
      " 3   degree               1000000 non-null  object\n",
      " 4   major                1000000 non-null  object\n",
      " 5   industry             1000000 non-null  object\n",
      " 6   yearsExperience      1000000 non-null  int64 \n",
      " 7   milesFromMetropolis  1000000 non-null  int64 \n",
      "dtypes: int64(2), object(6)\n",
      "memory usage: 61.0+ MB\n"
     ]
    }
   ],
   "source": [
    "trainFeatDF.info()"
   ]
  },
  {
   "cell_type": "code",
   "execution_count": 107,
   "metadata": {},
   "outputs": [
    {
     "name": "stdout",
     "output_type": "stream",
     "text": [
      "<class 'pandas.core.frame.DataFrame'>\n",
      "RangeIndex: 1000000 entries, 0 to 999999\n",
      "Data columns (total 2 columns):\n",
      " #   Column  Non-Null Count    Dtype \n",
      "---  ------  --------------    ----- \n",
      " 0   jobId   1000000 non-null  object\n",
      " 1   salary  1000000 non-null  int64 \n",
      "dtypes: int64(1), object(1)\n",
      "memory usage: 15.3+ MB\n"
     ]
    }
   ],
   "source": [
    "trainSalsDF.info()"
   ]
  },
  {
   "cell_type": "code",
   "execution_count": 108,
   "metadata": {},
   "outputs": [
    {
     "name": "stdout",
     "output_type": "stream",
     "text": [
      "<class 'pandas.core.frame.DataFrame'>\n",
      "RangeIndex: 1000000 entries, 0 to 999999\n",
      "Data columns (total 8 columns):\n",
      " #   Column               Non-Null Count    Dtype \n",
      "---  ------               --------------    ----- \n",
      " 0   jobId                1000000 non-null  object\n",
      " 1   companyId            1000000 non-null  object\n",
      " 2   jobType              1000000 non-null  object\n",
      " 3   degree               1000000 non-null  object\n",
      " 4   major                1000000 non-null  object\n",
      " 5   industry             1000000 non-null  object\n",
      " 6   yearsExperience      1000000 non-null  int64 \n",
      " 7   milesFromMetropolis  1000000 non-null  int64 \n",
      "dtypes: int64(2), object(6)\n",
      "memory usage: 61.0+ MB\n"
     ]
    }
   ],
   "source": [
    "testFeatDF.info()"
   ]
  },
  {
   "cell_type": "code",
   "execution_count": 109,
   "metadata": {},
   "outputs": [],
   "source": [
    "# Identify numerical and categorical variables."
   ]
  },
  {
   "cell_type": "code",
   "execution_count": 110,
   "metadata": {},
   "outputs": [
    {
     "data": {
      "text/plain": [
       "Index(['jobId', 'companyId', 'jobType', 'degree', 'major', 'industry',\n",
       "       'yearsExperience', 'milesFromMetropolis'],\n",
       "      dtype='object')"
      ]
     },
     "execution_count": 110,
     "metadata": {},
     "output_type": "execute_result"
    }
   ],
   "source": [
    "trainFeatDF.columns"
   ]
  },
  {
   "cell_type": "code",
   "execution_count": 111,
   "metadata": {},
   "outputs": [],
   "source": [
    "# So far we know:\n",
    "# trainFeatDF has 8 columns: 2 of type \"int64\" and 6 of type \"object\".\n",
    "# trainSalsDF has 2 columns: 1 of type \"int64\" and 1 of type \"object\".\n",
    "# testFeatDF has 8 columns:  2 of type \"int64\" and 6 of type \"object\".\n",
    "\n",
    "# Check for missing data and add \"NaN\" if any found. "
   ]
  },
  {
   "cell_type": "code",
   "execution_count": 112,
   "metadata": {},
   "outputs": [],
   "source": [
    "trainFeatDF.replace('?', np.nan, inplace=True)"
   ]
  },
  {
   "cell_type": "code",
   "execution_count": 113,
   "metadata": {},
   "outputs": [],
   "source": [
    "trainSalsDF.replace('?', np.nan, inplace=True)"
   ]
  },
  {
   "cell_type": "code",
   "execution_count": 114,
   "metadata": {},
   "outputs": [],
   "source": [
    "testFeatDF.replace('?', np.nan, inplace=True)"
   ]
  },
  {
   "cell_type": "code",
   "execution_count": 115,
   "metadata": {},
   "outputs": [],
   "source": [
    "# Look for duplicate data, invalid data (e.g. salaries <=0), or corrupt data and remove it."
   ]
  },
  {
   "cell_type": "code",
   "execution_count": 116,
   "metadata": {},
   "outputs": [
    {
     "data": {
      "text/plain": [
       "0"
      ]
     },
     "execution_count": 116,
     "metadata": {},
     "output_type": "execute_result"
    }
   ],
   "source": [
    "trainFeatDF.duplicated().sum()"
   ]
  },
  {
   "cell_type": "code",
   "execution_count": 117,
   "metadata": {},
   "outputs": [
    {
     "data": {
      "text/plain": [
       "0"
      ]
     },
     "execution_count": 117,
     "metadata": {},
     "output_type": "execute_result"
    }
   ],
   "source": [
    "trainSalsDF.duplicated().sum()"
   ]
  },
  {
   "cell_type": "code",
   "execution_count": 118,
   "metadata": {},
   "outputs": [
    {
     "data": {
      "text/plain": [
       "0"
      ]
     },
     "execution_count": 118,
     "metadata": {},
     "output_type": "execute_result"
    }
   ],
   "source": [
    "testFeatDF.duplicated().sum()"
   ]
  },
  {
   "cell_type": "code",
   "execution_count": 119,
   "metadata": {},
   "outputs": [],
   "source": [
    "# Separate both variable types and summarize them."
   ]
  },
  {
   "cell_type": "code",
   "execution_count": 120,
   "metadata": {},
   "outputs": [
    {
     "data": {
      "text/html": [
       "<div>\n",
       "<style scoped>\n",
       "    .dataframe tbody tr th:only-of-type {\n",
       "        vertical-align: middle;\n",
       "    }\n",
       "\n",
       "    .dataframe tbody tr th {\n",
       "        vertical-align: top;\n",
       "    }\n",
       "\n",
       "    .dataframe thead th {\n",
       "        text-align: right;\n",
       "    }\n",
       "</style>\n",
       "<table border=\"1\" class=\"dataframe\">\n",
       "  <thead>\n",
       "    <tr style=\"text-align: right;\">\n",
       "      <th></th>\n",
       "      <th>yearsExperience</th>\n",
       "      <th>milesFromMetropolis</th>\n",
       "    </tr>\n",
       "  </thead>\n",
       "  <tbody>\n",
       "    <tr>\n",
       "      <th>count</th>\n",
       "      <td>1000000.000000</td>\n",
       "      <td>1000000.000000</td>\n",
       "    </tr>\n",
       "    <tr>\n",
       "      <th>mean</th>\n",
       "      <td>11.992386</td>\n",
       "      <td>49.529260</td>\n",
       "    </tr>\n",
       "    <tr>\n",
       "      <th>std</th>\n",
       "      <td>7.212391</td>\n",
       "      <td>28.877733</td>\n",
       "    </tr>\n",
       "    <tr>\n",
       "      <th>min</th>\n",
       "      <td>0.000000</td>\n",
       "      <td>0.000000</td>\n",
       "    </tr>\n",
       "    <tr>\n",
       "      <th>25%</th>\n",
       "      <td>6.000000</td>\n",
       "      <td>25.000000</td>\n",
       "    </tr>\n",
       "    <tr>\n",
       "      <th>50%</th>\n",
       "      <td>12.000000</td>\n",
       "      <td>50.000000</td>\n",
       "    </tr>\n",
       "    <tr>\n",
       "      <th>75%</th>\n",
       "      <td>18.000000</td>\n",
       "      <td>75.000000</td>\n",
       "    </tr>\n",
       "    <tr>\n",
       "      <th>max</th>\n",
       "      <td>24.000000</td>\n",
       "      <td>99.000000</td>\n",
       "    </tr>\n",
       "  </tbody>\n",
       "</table>\n",
       "</div>"
      ],
      "text/plain": [
       "       yearsExperience  milesFromMetropolis\n",
       "count   1000000.000000       1000000.000000\n",
       "mean         11.992386            49.529260\n",
       "std           7.212391            28.877733\n",
       "min           0.000000             0.000000\n",
       "25%           6.000000            25.000000\n",
       "50%          12.000000            50.000000\n",
       "75%          18.000000            75.000000\n",
       "max          24.000000            99.000000"
      ]
     },
     "execution_count": 120,
     "metadata": {},
     "output_type": "execute_result"
    }
   ],
   "source": [
    "trainFeatDF.describe(include=[np.number])"
   ]
  },
  {
   "cell_type": "code",
   "execution_count": 121,
   "metadata": {
    "scrolled": true
   },
   "outputs": [
    {
     "data": {
      "text/html": [
       "<div>\n",
       "<style scoped>\n",
       "    .dataframe tbody tr th:only-of-type {\n",
       "        vertical-align: middle;\n",
       "    }\n",
       "\n",
       "    .dataframe tbody tr th {\n",
       "        vertical-align: top;\n",
       "    }\n",
       "\n",
       "    .dataframe thead th {\n",
       "        text-align: right;\n",
       "    }\n",
       "</style>\n",
       "<table border=\"1\" class=\"dataframe\">\n",
       "  <thead>\n",
       "    <tr style=\"text-align: right;\">\n",
       "      <th></th>\n",
       "      <th>jobId</th>\n",
       "      <th>companyId</th>\n",
       "      <th>jobType</th>\n",
       "      <th>degree</th>\n",
       "      <th>major</th>\n",
       "      <th>industry</th>\n",
       "    </tr>\n",
       "  </thead>\n",
       "  <tbody>\n",
       "    <tr>\n",
       "      <th>count</th>\n",
       "      <td>1000000</td>\n",
       "      <td>1000000</td>\n",
       "      <td>1000000</td>\n",
       "      <td>1000000</td>\n",
       "      <td>1000000</td>\n",
       "      <td>1000000</td>\n",
       "    </tr>\n",
       "    <tr>\n",
       "      <th>unique</th>\n",
       "      <td>1000000</td>\n",
       "      <td>63</td>\n",
       "      <td>8</td>\n",
       "      <td>5</td>\n",
       "      <td>9</td>\n",
       "      <td>7</td>\n",
       "    </tr>\n",
       "    <tr>\n",
       "      <th>top</th>\n",
       "      <td>JOB1362684559324</td>\n",
       "      <td>COMP39</td>\n",
       "      <td>SENIOR</td>\n",
       "      <td>HIGH_SCHOOL</td>\n",
       "      <td>NONE</td>\n",
       "      <td>WEB</td>\n",
       "    </tr>\n",
       "    <tr>\n",
       "      <th>freq</th>\n",
       "      <td>1</td>\n",
       "      <td>16193</td>\n",
       "      <td>125886</td>\n",
       "      <td>236976</td>\n",
       "      <td>532355</td>\n",
       "      <td>143206</td>\n",
       "    </tr>\n",
       "  </tbody>\n",
       "</table>\n",
       "</div>"
      ],
      "text/plain": [
       "                   jobId companyId  jobType       degree    major industry\n",
       "count            1000000   1000000  1000000      1000000  1000000  1000000\n",
       "unique           1000000        63        8            5        9        7\n",
       "top     JOB1362684559324    COMP39   SENIOR  HIGH_SCHOOL     NONE      WEB\n",
       "freq                   1     16193   125886       236976   532355   143206"
      ]
     },
     "execution_count": 121,
     "metadata": {},
     "output_type": "execute_result"
    }
   ],
   "source": [
    "trainFeatDF.describe(include=['O'])"
   ]
  },
  {
   "cell_type": "code",
   "execution_count": 122,
   "metadata": {},
   "outputs": [],
   "source": [
    "numericCols = ['yearsExperience', 'milesFromMetropolis']"
   ]
  },
  {
   "cell_type": "code",
   "execution_count": 123,
   "metadata": {},
   "outputs": [],
   "source": [
    "categoricCols = ['jobId', 'companyId', 'jobType', 'degree', 'major', 'industry']"
   ]
  },
  {
   "cell_type": "code",
   "execution_count": 124,
   "metadata": {},
   "outputs": [],
   "source": [
    "# Merge both train_features and train_salaries into one dataframe. Delete the original DFs."
   ]
  },
  {
   "cell_type": "code",
   "execution_count": 125,
   "metadata": {},
   "outputs": [],
   "source": [
    "trainDF = pd.merge(trainFeatDF, trainSalsDF, on='jobId')"
   ]
  },
  {
   "cell_type": "code",
   "execution_count": 126,
   "metadata": {},
   "outputs": [
    {
     "data": {
      "text/html": [
       "<div>\n",
       "<style scoped>\n",
       "    .dataframe tbody tr th:only-of-type {\n",
       "        vertical-align: middle;\n",
       "    }\n",
       "\n",
       "    .dataframe tbody tr th {\n",
       "        vertical-align: top;\n",
       "    }\n",
       "\n",
       "    .dataframe thead th {\n",
       "        text-align: right;\n",
       "    }\n",
       "</style>\n",
       "<table border=\"1\" class=\"dataframe\">\n",
       "  <thead>\n",
       "    <tr style=\"text-align: right;\">\n",
       "      <th></th>\n",
       "      <th>jobId</th>\n",
       "      <th>companyId</th>\n",
       "      <th>jobType</th>\n",
       "      <th>degree</th>\n",
       "      <th>major</th>\n",
       "      <th>industry</th>\n",
       "      <th>yearsExperience</th>\n",
       "      <th>milesFromMetropolis</th>\n",
       "      <th>salary</th>\n",
       "    </tr>\n",
       "  </thead>\n",
       "  <tbody>\n",
       "    <tr>\n",
       "      <th>0</th>\n",
       "      <td>JOB1362684407687</td>\n",
       "      <td>COMP37</td>\n",
       "      <td>CFO</td>\n",
       "      <td>MASTERS</td>\n",
       "      <td>MATH</td>\n",
       "      <td>HEALTH</td>\n",
       "      <td>10</td>\n",
       "      <td>83</td>\n",
       "      <td>130</td>\n",
       "    </tr>\n",
       "    <tr>\n",
       "      <th>1</th>\n",
       "      <td>JOB1362684407688</td>\n",
       "      <td>COMP19</td>\n",
       "      <td>CEO</td>\n",
       "      <td>HIGH_SCHOOL</td>\n",
       "      <td>NONE</td>\n",
       "      <td>WEB</td>\n",
       "      <td>3</td>\n",
       "      <td>73</td>\n",
       "      <td>101</td>\n",
       "    </tr>\n",
       "    <tr>\n",
       "      <th>2</th>\n",
       "      <td>JOB1362684407689</td>\n",
       "      <td>COMP52</td>\n",
       "      <td>VICE_PRESIDENT</td>\n",
       "      <td>DOCTORAL</td>\n",
       "      <td>PHYSICS</td>\n",
       "      <td>HEALTH</td>\n",
       "      <td>10</td>\n",
       "      <td>38</td>\n",
       "      <td>137</td>\n",
       "    </tr>\n",
       "    <tr>\n",
       "      <th>3</th>\n",
       "      <td>JOB1362684407690</td>\n",
       "      <td>COMP38</td>\n",
       "      <td>MANAGER</td>\n",
       "      <td>DOCTORAL</td>\n",
       "      <td>CHEMISTRY</td>\n",
       "      <td>AUTO</td>\n",
       "      <td>8</td>\n",
       "      <td>17</td>\n",
       "      <td>142</td>\n",
       "    </tr>\n",
       "    <tr>\n",
       "      <th>4</th>\n",
       "      <td>JOB1362684407691</td>\n",
       "      <td>COMP7</td>\n",
       "      <td>VICE_PRESIDENT</td>\n",
       "      <td>BACHELORS</td>\n",
       "      <td>PHYSICS</td>\n",
       "      <td>FINANCE</td>\n",
       "      <td>8</td>\n",
       "      <td>16</td>\n",
       "      <td>163</td>\n",
       "    </tr>\n",
       "  </tbody>\n",
       "</table>\n",
       "</div>"
      ],
      "text/plain": [
       "              jobId companyId         jobType       degree      major  \\\n",
       "0  JOB1362684407687    COMP37             CFO      MASTERS       MATH   \n",
       "1  JOB1362684407688    COMP19             CEO  HIGH_SCHOOL       NONE   \n",
       "2  JOB1362684407689    COMP52  VICE_PRESIDENT     DOCTORAL    PHYSICS   \n",
       "3  JOB1362684407690    COMP38         MANAGER     DOCTORAL  CHEMISTRY   \n",
       "4  JOB1362684407691     COMP7  VICE_PRESIDENT    BACHELORS    PHYSICS   \n",
       "\n",
       "  industry  yearsExperience  milesFromMetropolis  salary  \n",
       "0   HEALTH               10                   83     130  \n",
       "1      WEB                3                   73     101  \n",
       "2   HEALTH               10                   38     137  \n",
       "3     AUTO                8                   17     142  \n",
       "4  FINANCE                8                   16     163  "
      ]
     },
     "execution_count": 126,
     "metadata": {},
     "output_type": "execute_result"
    }
   ],
   "source": [
    "# Before deleting the original DFs, check that the new one is correct.\n",
    "trainDF.head()"
   ]
  },
  {
   "cell_type": "code",
   "execution_count": 127,
   "metadata": {},
   "outputs": [],
   "source": [
    "# Deleting the previous DFs to save memory. \n",
    "del trainFeatDF\n",
    "del trainSalsDF"
   ]
  },
  {
   "cell_type": "code",
   "execution_count": 128,
   "metadata": {},
   "outputs": [
    {
     "data": {
      "text/plain": [
       "COMP39    16193\n",
       "COMP35    16114\n",
       "COMP59    16066\n",
       "COMP30    16041\n",
       "COMP3     16028\n",
       "          ...  \n",
       "COMP17    15715\n",
       "COMP0     15666\n",
       "COMP2     15641\n",
       "COMP8     15638\n",
       "COMP57    15635\n",
       "Name: companyId, Length: 63, dtype: int64"
      ]
     },
     "execution_count": 128,
     "metadata": {},
     "output_type": "execute_result"
    }
   ],
   "source": [
    "trainDF['companyId'].value_counts()"
   ]
  },
  {
   "cell_type": "code",
   "execution_count": 129,
   "metadata": {},
   "outputs": [
    {
     "name": "stdout",
     "output_type": "stream",
     "text": [
      "<class 'pandas.core.frame.DataFrame'>\n",
      "Int64Index: 1000000 entries, 0 to 999999\n",
      "Data columns (total 9 columns):\n",
      " #   Column               Non-Null Count    Dtype  \n",
      "---  ------               --------------    -----  \n",
      " 0   jobId                1000000 non-null  object \n",
      " 1   companyId            1000000 non-null  object \n",
      " 2   jobType              1000000 non-null  object \n",
      " 3   degree               1000000 non-null  object \n",
      " 4   major                1000000 non-null  object \n",
      " 5   industry             1000000 non-null  object \n",
      " 6   yearsExperience      1000000 non-null  int64  \n",
      " 7   milesFromMetropolis  1000000 non-null  int64  \n",
      " 8   salary               1000000 non-null  float64\n",
      "dtypes: float64(1), int64(2), object(6)\n",
      "memory usage: 76.3+ MB\n"
     ]
    },
    {
     "data": {
      "text/plain": [
       "<bound method NDFrame.head of 0         130.0\n",
       "1         101.0\n",
       "2         137.0\n",
       "3         142.0\n",
       "4         163.0\n",
       "          ...  \n",
       "999995     88.0\n",
       "999996    160.0\n",
       "999997     64.0\n",
       "999998    149.0\n",
       "999999     88.0\n",
       "Name: salary, Length: 1000000, dtype: float64>"
      ]
     },
     "execution_count": 129,
     "metadata": {},
     "output_type": "execute_result"
    }
   ],
   "source": [
    "# Changing salary type to float, is a better representation for currency.\n",
    "\n",
    "trainDF['salary'] = trainDF['salary'].astype(float)\n",
    "\n",
    "trainDF.info()\n",
    "trainDF['salary'].head"
   ]
  },
  {
   "cell_type": "markdown",
   "metadata": {},
   "source": [
    "### ---- 4 Explore the data (EDA) ----"
   ]
  },
  {
   "cell_type": "markdown",
   "metadata": {},
   "source": [
    "Visualization of target variable (salary)"
   ]
  },
  {
   "cell_type": "code",
   "execution_count": 130,
   "metadata": {},
   "outputs": [],
   "source": [
    "#summarize each feature variable\n",
    "#summarize the target variable\n",
    "#look for correlation between each feature and the target\n",
    "#look for correlation between features"
   ]
  },
  {
   "cell_type": "code",
   "execution_count": 131,
   "metadata": {},
   "outputs": [
    {
     "data": {
      "image/png": "[encoded data removed]",
      "text/plain": [
       "<Figure size 864x432 with 2 Axes>"
      ]
     },
     "metadata": {
      "needs_background": "light"
     },
     "output_type": "display_data"
    }
   ],
   "source": [
    "plt.figure(figsize = (12, 6))\n",
    "plt.subplot(1, 2, 1)\n",
    "sns.boxplot(trainDF.salary)\n",
    "plt.subplot(1, 2, 2)\n",
    "sns.distplot(trainDF.salary, bins=20)\n",
    "plt.show()"
   ]
  },
  {
   "cell_type": "markdown",
   "metadata": {},
   "source": [
    "###### Use IQR rule to identify potential outliers\n",
    "\n",
    "More on IQR at: https://medium.com/@TheNewStat1/interquartile-range-iqr-ad671d9476d4"
   ]
  },
  {
   "cell_type": "code",
   "execution_count": 132,
   "metadata": {},
   "outputs": [
    {
     "name": "stdout",
     "output_type": "stream",
     "text": [
      "count    1000000.000000\n",
      "mean         116.061818\n",
      "std           38.717936\n",
      "min            0.000000\n",
      "25%           88.000000\n",
      "50%          114.000000\n",
      "75%          141.000000\n",
      "max          301.000000\n",
      "Name: salary, dtype: float64\n",
      "53.0\n",
      "The upper and lower bounds for the suspected bounds are 220.5 and 8.5 respectively.\n"
     ]
    }
   ],
   "source": [
    "stat = trainDF.salary.describe()\n",
    "print(stat)\n",
    "IQR = stat['75%'] - stat['25%']\n",
    "print(IQR)\n",
    "upper = stat['75%'] + 1.5 * IQR\n",
    "lower = stat['25%'] - 1.5 * IQR\n",
    "print('The upper and lower bounds for the suspected bounds are {} and {} respectively.'.format(upper, lower))\n"
   ]
  },
  {
   "cell_type": "code",
   "execution_count": 133,
   "metadata": {},
   "outputs": [
    {
     "data": {
      "text/html": [
       "<div>\n",
       "<style scoped>\n",
       "    .dataframe tbody tr th:only-of-type {\n",
       "        vertical-align: middle;\n",
       "    }\n",
       "\n",
       "    .dataframe tbody tr th {\n",
       "        vertical-align: top;\n",
       "    }\n",
       "\n",
       "    .dataframe thead th {\n",
       "        text-align: right;\n",
       "    }\n",
       "</style>\n",
       "<table border=\"1\" class=\"dataframe\">\n",
       "  <thead>\n",
       "    <tr style=\"text-align: right;\">\n",
       "      <th></th>\n",
       "      <th>jobId</th>\n",
       "      <th>companyId</th>\n",
       "      <th>jobType</th>\n",
       "      <th>degree</th>\n",
       "      <th>major</th>\n",
       "      <th>industry</th>\n",
       "      <th>yearsExperience</th>\n",
       "      <th>milesFromMetropolis</th>\n",
       "      <th>salary</th>\n",
       "    </tr>\n",
       "  </thead>\n",
       "  <tbody>\n",
       "    <tr>\n",
       "      <th>30559</th>\n",
       "      <td>JOB1362684438246</td>\n",
       "      <td>COMP44</td>\n",
       "      <td>JUNIOR</td>\n",
       "      <td>DOCTORAL</td>\n",
       "      <td>MATH</td>\n",
       "      <td>AUTO</td>\n",
       "      <td>11</td>\n",
       "      <td>7</td>\n",
       "      <td>0.0</td>\n",
       "    </tr>\n",
       "    <tr>\n",
       "      <th>495984</th>\n",
       "      <td>JOB1362684903671</td>\n",
       "      <td>COMP34</td>\n",
       "      <td>JUNIOR</td>\n",
       "      <td>NONE</td>\n",
       "      <td>NONE</td>\n",
       "      <td>OIL</td>\n",
       "      <td>1</td>\n",
       "      <td>25</td>\n",
       "      <td>0.0</td>\n",
       "    </tr>\n",
       "    <tr>\n",
       "      <th>652076</th>\n",
       "      <td>JOB1362685059763</td>\n",
       "      <td>COMP25</td>\n",
       "      <td>CTO</td>\n",
       "      <td>HIGH_SCHOOL</td>\n",
       "      <td>NONE</td>\n",
       "      <td>AUTO</td>\n",
       "      <td>6</td>\n",
       "      <td>60</td>\n",
       "      <td>0.0</td>\n",
       "    </tr>\n",
       "    <tr>\n",
       "      <th>816129</th>\n",
       "      <td>JOB1362685223816</td>\n",
       "      <td>COMP42</td>\n",
       "      <td>MANAGER</td>\n",
       "      <td>DOCTORAL</td>\n",
       "      <td>ENGINEERING</td>\n",
       "      <td>FINANCE</td>\n",
       "      <td>18</td>\n",
       "      <td>6</td>\n",
       "      <td>0.0</td>\n",
       "    </tr>\n",
       "    <tr>\n",
       "      <th>828156</th>\n",
       "      <td>JOB1362685235843</td>\n",
       "      <td>COMP40</td>\n",
       "      <td>VICE_PRESIDENT</td>\n",
       "      <td>MASTERS</td>\n",
       "      <td>ENGINEERING</td>\n",
       "      <td>WEB</td>\n",
       "      <td>3</td>\n",
       "      <td>29</td>\n",
       "      <td>0.0</td>\n",
       "    </tr>\n",
       "  </tbody>\n",
       "</table>\n",
       "</div>"
      ],
      "text/plain": [
       "                   jobId companyId         jobType       degree        major  \\\n",
       "30559   JOB1362684438246    COMP44          JUNIOR     DOCTORAL         MATH   \n",
       "495984  JOB1362684903671    COMP34          JUNIOR         NONE         NONE   \n",
       "652076  JOB1362685059763    COMP25             CTO  HIGH_SCHOOL         NONE   \n",
       "816129  JOB1362685223816    COMP42         MANAGER     DOCTORAL  ENGINEERING   \n",
       "828156  JOB1362685235843    COMP40  VICE_PRESIDENT      MASTERS  ENGINEERING   \n",
       "\n",
       "       industry  yearsExperience  milesFromMetropolis  salary  \n",
       "30559      AUTO               11                    7     0.0  \n",
       "495984      OIL                1                   25     0.0  \n",
       "652076     AUTO                6                   60     0.0  \n",
       "816129  FINANCE               18                    6     0.0  \n",
       "828156      WEB                3                   29     0.0  "
      ]
     },
     "execution_count": 133,
     "metadata": {},
     "output_type": "execute_result"
    }
   ],
   "source": [
    "# Checking for potential outliers below the lower bound.\n",
    "trainDF[trainDF.salary < 8.5]\n",
    "trainDF.loc[trainDF.salary < lower]"
   ]
  },
  {
   "cell_type": "code",
   "execution_count": 134,
   "metadata": {},
   "outputs": [
    {
     "data": {
      "text/plain": [
       "(1000000, 9)"
      ]
     },
     "execution_count": 134,
     "metadata": {},
     "output_type": "execute_result"
    }
   ],
   "source": [
    "trainDF.shape"
   ]
  },
  {
   "cell_type": "code",
   "execution_count": 135,
   "metadata": {},
   "outputs": [],
   "source": [
    "# Dropping these lower (zero) salaries since they don't add anything to our model.\n",
    "trainDF = trainDF[trainDF['salary'] > lower]"
   ]
  },
  {
   "cell_type": "code",
   "execution_count": 136,
   "metadata": {},
   "outputs": [
    {
     "data": {
      "text/plain": [
       "(999995, 9)"
      ]
     },
     "execution_count": 136,
     "metadata": {},
     "output_type": "execute_result"
    }
   ],
   "source": [
    "# Check to see if rows above were dropped\n",
    "trainDF.shape"
   ]
  },
  {
   "cell_type": "code",
   "execution_count": 137,
   "metadata": {},
   "outputs": [
    {
     "data": {
      "text/plain": [
       "CEO               2893\n",
       "CFO               1308\n",
       "CTO               1298\n",
       "VICE_PRESIDENT     520\n",
       "MANAGER            188\n",
       "SENIOR              50\n",
       "JUNIOR              16\n",
       "Name: jobType, dtype: int64"
      ]
     },
     "execution_count": 137,
     "metadata": {},
     "output_type": "execute_result"
    }
   ],
   "source": [
    "# Checking for potential outliers above the upper bound. \n",
    "\n",
    "trainDF.loc[trainDF.salary > 222.5, 'jobType'].value_counts()"
   ]
  },
  {
   "cell_type": "code",
   "execution_count": 138,
   "metadata": {},
   "outputs": [
    {
     "data": {
      "text/html": [
       "<div>\n",
       "<style scoped>\n",
       "    .dataframe tbody tr th:only-of-type {\n",
       "        vertical-align: middle;\n",
       "    }\n",
       "\n",
       "    .dataframe tbody tr th {\n",
       "        vertical-align: top;\n",
       "    }\n",
       "\n",
       "    .dataframe thead th {\n",
       "        text-align: right;\n",
       "    }\n",
       "</style>\n",
       "<table border=\"1\" class=\"dataframe\">\n",
       "  <thead>\n",
       "    <tr style=\"text-align: right;\">\n",
       "      <th></th>\n",
       "      <th>jobId</th>\n",
       "      <th>companyId</th>\n",
       "      <th>jobType</th>\n",
       "      <th>degree</th>\n",
       "      <th>major</th>\n",
       "      <th>industry</th>\n",
       "      <th>yearsExperience</th>\n",
       "      <th>milesFromMetropolis</th>\n",
       "      <th>salary</th>\n",
       "    </tr>\n",
       "  </thead>\n",
       "  <tbody>\n",
       "    <tr>\n",
       "      <th>1222</th>\n",
       "      <td>JOB1362684408909</td>\n",
       "      <td>COMP40</td>\n",
       "      <td>JUNIOR</td>\n",
       "      <td>MASTERS</td>\n",
       "      <td>COMPSCI</td>\n",
       "      <td>OIL</td>\n",
       "      <td>24</td>\n",
       "      <td>5</td>\n",
       "      <td>225.0</td>\n",
       "    </tr>\n",
       "    <tr>\n",
       "      <th>27710</th>\n",
       "      <td>JOB1362684435397</td>\n",
       "      <td>COMP21</td>\n",
       "      <td>JUNIOR</td>\n",
       "      <td>DOCTORAL</td>\n",
       "      <td>ENGINEERING</td>\n",
       "      <td>OIL</td>\n",
       "      <td>24</td>\n",
       "      <td>3</td>\n",
       "      <td>246.0</td>\n",
       "    </tr>\n",
       "    <tr>\n",
       "      <th>31355</th>\n",
       "      <td>JOB1362684439042</td>\n",
       "      <td>COMP45</td>\n",
       "      <td>JUNIOR</td>\n",
       "      <td>DOCTORAL</td>\n",
       "      <td>COMPSCI</td>\n",
       "      <td>FINANCE</td>\n",
       "      <td>24</td>\n",
       "      <td>0</td>\n",
       "      <td>225.0</td>\n",
       "    </tr>\n",
       "    <tr>\n",
       "      <th>100042</th>\n",
       "      <td>JOB1362684507729</td>\n",
       "      <td>COMP17</td>\n",
       "      <td>JUNIOR</td>\n",
       "      <td>DOCTORAL</td>\n",
       "      <td>BUSINESS</td>\n",
       "      <td>FINANCE</td>\n",
       "      <td>23</td>\n",
       "      <td>8</td>\n",
       "      <td>248.0</td>\n",
       "    </tr>\n",
       "    <tr>\n",
       "      <th>160333</th>\n",
       "      <td>JOB1362684568020</td>\n",
       "      <td>COMP18</td>\n",
       "      <td>JUNIOR</td>\n",
       "      <td>DOCTORAL</td>\n",
       "      <td>BUSINESS</td>\n",
       "      <td>FINANCE</td>\n",
       "      <td>22</td>\n",
       "      <td>3</td>\n",
       "      <td>223.0</td>\n",
       "    </tr>\n",
       "    <tr>\n",
       "      <th>303778</th>\n",
       "      <td>JOB1362684711465</td>\n",
       "      <td>COMP51</td>\n",
       "      <td>JUNIOR</td>\n",
       "      <td>MASTERS</td>\n",
       "      <td>ENGINEERING</td>\n",
       "      <td>WEB</td>\n",
       "      <td>24</td>\n",
       "      <td>2</td>\n",
       "      <td>226.0</td>\n",
       "    </tr>\n",
       "    <tr>\n",
       "      <th>348354</th>\n",
       "      <td>JOB1362684756041</td>\n",
       "      <td>COMP56</td>\n",
       "      <td>JUNIOR</td>\n",
       "      <td>DOCTORAL</td>\n",
       "      <td>ENGINEERING</td>\n",
       "      <td>OIL</td>\n",
       "      <td>23</td>\n",
       "      <td>25</td>\n",
       "      <td>226.0</td>\n",
       "    </tr>\n",
       "    <tr>\n",
       "      <th>500739</th>\n",
       "      <td>JOB1362684908426</td>\n",
       "      <td>COMP40</td>\n",
       "      <td>JUNIOR</td>\n",
       "      <td>DOCTORAL</td>\n",
       "      <td>ENGINEERING</td>\n",
       "      <td>OIL</td>\n",
       "      <td>21</td>\n",
       "      <td>0</td>\n",
       "      <td>227.0</td>\n",
       "    </tr>\n",
       "    <tr>\n",
       "      <th>627534</th>\n",
       "      <td>JOB1362685035221</td>\n",
       "      <td>COMP5</td>\n",
       "      <td>JUNIOR</td>\n",
       "      <td>DOCTORAL</td>\n",
       "      <td>ENGINEERING</td>\n",
       "      <td>OIL</td>\n",
       "      <td>24</td>\n",
       "      <td>29</td>\n",
       "      <td>230.0</td>\n",
       "    </tr>\n",
       "    <tr>\n",
       "      <th>645555</th>\n",
       "      <td>JOB1362685053242</td>\n",
       "      <td>COMP36</td>\n",
       "      <td>JUNIOR</td>\n",
       "      <td>DOCTORAL</td>\n",
       "      <td>BUSINESS</td>\n",
       "      <td>FINANCE</td>\n",
       "      <td>24</td>\n",
       "      <td>1</td>\n",
       "      <td>225.0</td>\n",
       "    </tr>\n",
       "    <tr>\n",
       "      <th>685775</th>\n",
       "      <td>JOB1362685093462</td>\n",
       "      <td>COMP38</td>\n",
       "      <td>JUNIOR</td>\n",
       "      <td>BACHELORS</td>\n",
       "      <td>ENGINEERING</td>\n",
       "      <td>OIL</td>\n",
       "      <td>24</td>\n",
       "      <td>13</td>\n",
       "      <td>225.0</td>\n",
       "    </tr>\n",
       "    <tr>\n",
       "      <th>743326</th>\n",
       "      <td>JOB1362685151013</td>\n",
       "      <td>COMP14</td>\n",
       "      <td>JUNIOR</td>\n",
       "      <td>DOCTORAL</td>\n",
       "      <td>BUSINESS</td>\n",
       "      <td>FINANCE</td>\n",
       "      <td>19</td>\n",
       "      <td>0</td>\n",
       "      <td>236.0</td>\n",
       "    </tr>\n",
       "    <tr>\n",
       "      <th>787674</th>\n",
       "      <td>JOB1362685195361</td>\n",
       "      <td>COMP43</td>\n",
       "      <td>JUNIOR</td>\n",
       "      <td>DOCTORAL</td>\n",
       "      <td>BUSINESS</td>\n",
       "      <td>FINANCE</td>\n",
       "      <td>18</td>\n",
       "      <td>15</td>\n",
       "      <td>232.0</td>\n",
       "    </tr>\n",
       "    <tr>\n",
       "      <th>796956</th>\n",
       "      <td>JOB1362685204643</td>\n",
       "      <td>COMP30</td>\n",
       "      <td>JUNIOR</td>\n",
       "      <td>MASTERS</td>\n",
       "      <td>BUSINESS</td>\n",
       "      <td>OIL</td>\n",
       "      <td>24</td>\n",
       "      <td>2</td>\n",
       "      <td>228.0</td>\n",
       "    </tr>\n",
       "    <tr>\n",
       "      <th>855219</th>\n",
       "      <td>JOB1362685262906</td>\n",
       "      <td>COMP13</td>\n",
       "      <td>JUNIOR</td>\n",
       "      <td>MASTERS</td>\n",
       "      <td>ENGINEERING</td>\n",
       "      <td>OIL</td>\n",
       "      <td>22</td>\n",
       "      <td>26</td>\n",
       "      <td>225.0</td>\n",
       "    </tr>\n",
       "    <tr>\n",
       "      <th>954368</th>\n",
       "      <td>JOB1362685362055</td>\n",
       "      <td>COMP11</td>\n",
       "      <td>JUNIOR</td>\n",
       "      <td>DOCTORAL</td>\n",
       "      <td>BUSINESS</td>\n",
       "      <td>OIL</td>\n",
       "      <td>24</td>\n",
       "      <td>26</td>\n",
       "      <td>223.0</td>\n",
       "    </tr>\n",
       "  </tbody>\n",
       "</table>\n",
       "</div>"
      ],
      "text/plain": [
       "                   jobId companyId jobType     degree        major industry  \\\n",
       "1222    JOB1362684408909    COMP40  JUNIOR    MASTERS      COMPSCI      OIL   \n",
       "27710   JOB1362684435397    COMP21  JUNIOR   DOCTORAL  ENGINEERING      OIL   \n",
       "31355   JOB1362684439042    COMP45  JUNIOR   DOCTORAL      COMPSCI  FINANCE   \n",
       "100042  JOB1362684507729    COMP17  JUNIOR   DOCTORAL     BUSINESS  FINANCE   \n",
       "160333  JOB1362684568020    COMP18  JUNIOR   DOCTORAL     BUSINESS  FINANCE   \n",
       "303778  JOB1362684711465    COMP51  JUNIOR    MASTERS  ENGINEERING      WEB   \n",
       "348354  JOB1362684756041    COMP56  JUNIOR   DOCTORAL  ENGINEERING      OIL   \n",
       "500739  JOB1362684908426    COMP40  JUNIOR   DOCTORAL  ENGINEERING      OIL   \n",
       "627534  JOB1362685035221     COMP5  JUNIOR   DOCTORAL  ENGINEERING      OIL   \n",
       "645555  JOB1362685053242    COMP36  JUNIOR   DOCTORAL     BUSINESS  FINANCE   \n",
       "685775  JOB1362685093462    COMP38  JUNIOR  BACHELORS  ENGINEERING      OIL   \n",
       "743326  JOB1362685151013    COMP14  JUNIOR   DOCTORAL     BUSINESS  FINANCE   \n",
       "787674  JOB1362685195361    COMP43  JUNIOR   DOCTORAL     BUSINESS  FINANCE   \n",
       "796956  JOB1362685204643    COMP30  JUNIOR    MASTERS     BUSINESS      OIL   \n",
       "855219  JOB1362685262906    COMP13  JUNIOR    MASTERS  ENGINEERING      OIL   \n",
       "954368  JOB1362685362055    COMP11  JUNIOR   DOCTORAL     BUSINESS      OIL   \n",
       "\n",
       "        yearsExperience  milesFromMetropolis  salary  \n",
       "1222                 24                    5   225.0  \n",
       "27710                24                    3   246.0  \n",
       "31355                24                    0   225.0  \n",
       "100042               23                    8   248.0  \n",
       "160333               22                    3   223.0  \n",
       "303778               24                    2   226.0  \n",
       "348354               23                   25   226.0  \n",
       "500739               21                    0   227.0  \n",
       "627534               24                   29   230.0  \n",
       "645555               24                    1   225.0  \n",
       "685775               24                   13   225.0  \n",
       "743326               19                    0   236.0  \n",
       "787674               18                   15   232.0  \n",
       "796956               24                    2   228.0  \n",
       "855219               22                   26   225.0  \n",
       "954368               24                   26   223.0  "
      ]
     },
     "execution_count": 138,
     "metadata": {},
     "output_type": "execute_result"
    }
   ],
   "source": [
    "# Checking for the most suspicious outliers above upper bound.\n",
    "\n",
    "trainDF[(trainDF.salary > 222.5) & (trainDF.jobType == 'JUNIOR')]"
   ]
  },
  {
   "cell_type": "code",
   "execution_count": 139,
   "metadata": {},
   "outputs": [],
   "source": [
    "# Junior salaries over the 75% percentile are rare (16 out of 1mil), but they could occur. \n",
    "# Therefore, these outliers are acceptible. "
   ]
  },
  {
   "cell_type": "code",
   "execution_count": 140,
   "metadata": {},
   "outputs": [
    {
     "data": {
      "text/plain": [
       "SENIOR            125886\n",
       "VICE_PRESIDENT    125234\n",
       "MANAGER           125120\n",
       "CTO               125045\n",
       "JANITOR           124971\n",
       "CEO               124778\n",
       "JUNIOR            124592\n",
       "CFO               124369\n",
       "Name: jobType, dtype: int64"
      ]
     },
     "execution_count": 140,
     "metadata": {},
     "output_type": "execute_result"
    }
   ],
   "source": [
    "# Value_counts gives you how many features of a column from a variable of type object.\n",
    "trainDF['jobType'].value_counts()"
   ]
  },
  {
   "cell_type": "code",
   "execution_count": 141,
   "metadata": {},
   "outputs": [
    {
     "data": {
      "text/html": [
       "<div>\n",
       "<style scoped>\n",
       "    .dataframe tbody tr th:only-of-type {\n",
       "        vertical-align: middle;\n",
       "    }\n",
       "\n",
       "    .dataframe tbody tr th {\n",
       "        vertical-align: top;\n",
       "    }\n",
       "\n",
       "    .dataframe thead th {\n",
       "        text-align: right;\n",
       "    }\n",
       "</style>\n",
       "<table border=\"1\" class=\"dataframe\">\n",
       "  <thead>\n",
       "    <tr style=\"text-align: right;\">\n",
       "      <th></th>\n",
       "      <th>yearsExperience</th>\n",
       "      <th>milesFromMetropolis</th>\n",
       "      <th>salary</th>\n",
       "    </tr>\n",
       "  </thead>\n",
       "  <tbody>\n",
       "    <tr>\n",
       "      <th>yearsExperience</th>\n",
       "      <td>1.000000</td>\n",
       "      <td>0.000672</td>\n",
       "      <td>0.375013</td>\n",
       "    </tr>\n",
       "    <tr>\n",
       "      <th>milesFromMetropolis</th>\n",
       "      <td>0.000672</td>\n",
       "      <td>1.000000</td>\n",
       "      <td>-0.297686</td>\n",
       "    </tr>\n",
       "    <tr>\n",
       "      <th>salary</th>\n",
       "      <td>0.375013</td>\n",
       "      <td>-0.297686</td>\n",
       "      <td>1.000000</td>\n",
       "    </tr>\n",
       "  </tbody>\n",
       "</table>\n",
       "</div>"
      ],
      "text/plain": [
       "                     yearsExperience  milesFromMetropolis    salary\n",
       "yearsExperience             1.000000             0.000672  0.375013\n",
       "milesFromMetropolis         0.000672             1.000000 -0.297686\n",
       "salary                      0.375013            -0.297686  1.000000"
      ]
     },
     "execution_count": 141,
     "metadata": {},
     "output_type": "execute_result"
    }
   ],
   "source": [
    "# Visualize correlation between variables of type number.\n",
    "\n",
    "trainDF[['yearsExperience', 'milesFromMetropolis', 'salary']].corr()"
   ]
  },
  {
   "cell_type": "code",
   "execution_count": 142,
   "metadata": {},
   "outputs": [],
   "source": [
    "# Function that creates plots to eplore the feature variables\n",
    "def plotFeats(trainDF, var): \n",
    "    '''\n",
    "    produce plot for each features\n",
    "    plot1(left), the distribution of samples on the feature\n",
    "    plot2(right), the dependance of salary on the feature\n",
    "    '''\n",
    "    plt.figure(figsize = (17, 4))\n",
    "    plt.subplot(1, 2, 1)\n",
    "    if trainDF[var].dtype == 'int64':\n",
    "        plt.hist(trainDF[var], bins=5)\n",
    "    else:\n",
    "        # change the object datatype of each variable to category /n\n",
    "        # type and order their level by the mean salary\n",
    "        mean = trainDF.groupby(var)[\"salary\"].mean()\n",
    "        trainDF[var] = trainDF[var].astype('category')\n",
    "        level = mean.sort_values().index.tolist()\n",
    "        trainDF[var].cat.reorder_categories(level, inplace=True)\n",
    "        trainDF[var].value_counts().plot(kind='bar')   \n",
    "    plt.xticks(rotation=45, size=8)\n",
    "    plt.xlabel(var)\n",
    "    plt.ylabel('Count')\n",
    "    \n",
    "    plt.subplot(1, 2, 2)\n",
    "    # There are many different companyIds so its better to visualize with a line graph\n",
    "    if trainDF[var].dtype == 'int64' or var == \"companyId\": \n",
    "        # Plot the mean salary for each category and shade the line /n\n",
    "        # between the (mean - std, mean + std)\n",
    "        mean = trainDF.groupby(var)[\"salary\"].mean()\n",
    "        std = trainDF.groupby(var)[\"salary\"].std()\n",
    "        mean.plot()\n",
    "        plt.fill_between(range(len(std.index)), mean.values-std.values, \n",
    "                         mean.values + std.values,alpha = 0.1)\n",
    "    else:\n",
    "        sns.boxplot(x= var, y=\"salary\", data= trainDF)\n",
    "    \n",
    "    plt.xticks(rotation=45)\n",
    "    plt.ylabel('Salary')\n",
    "    plt.show()"
   ]
  },
  {
   "cell_type": "code",
   "execution_count": 143,
   "metadata": {},
   "outputs": [
    {
     "data": {
      "image/png": "[encoded data removed]",
      "text/plain": [
       "<Figure size 1224x288 with 2 Axes>"
      ]
     },
     "metadata": {
      "needs_background": "light"
     },
     "output_type": "display_data"
    }
   ],
   "source": [
    "# The below code was used to sort and plot prior to completing the function above.\n",
    "\n",
    "#sorted_list = trainDF.groupby('jobType')['salary'].median().sort_values(ascending=False).index\n",
    "#boxPlotGraph = sns.boxplot(x=\"jobType\", y=\"salary\", data=trainDF, order=sorted_list)\n",
    "#plt.xticks(rotation=60)\n",
    "#plt.figure(figsize = (20, 20))\n",
    "\n",
    "plotFeats(trainDF, 'jobType')"
   ]
  },
  {
   "cell_type": "code",
   "execution_count": 144,
   "metadata": {},
   "outputs": [
    {
     "data": {
      "image/png": "[encoded data removed]",
      "text/plain": [
       "<Figure size 1224x288 with 2 Axes>"
      ]
     },
     "metadata": {
      "needs_background": "light"
     },
     "output_type": "display_data"
    }
   ],
   "source": [
    "plotFeats(trainDF, 'companyId')"
   ]
  },
  {
   "cell_type": "code",
   "execution_count": 145,
   "metadata": {},
   "outputs": [
    {
     "data": {
      "text/plain": [
       "<Figure size 1440x1440 with 0 Axes>"
      ]
     },
     "execution_count": 145,
     "metadata": {},
     "output_type": "execute_result"
    },
    {
     "data": {
      "image/png": "[encoded data removed]",
      "text/plain": [
       "<Figure size 432x288 with 1 Axes>"
      ]
     },
     "metadata": {
      "needs_background": "light"
     },
     "output_type": "display_data"
    },
    {
     "data": {
      "text/plain": [
       "<Figure size 1440x1440 with 0 Axes>"
      ]
     },
     "metadata": {},
     "output_type": "display_data"
    }
   ],
   "source": [
    "# Company Id looks a bit cluttered, but it's still visible that it's a poor predictor of salary, /n\n",
    "# since it shows a straight horizontal line across all features.\n",
    "# Here's another companyId visualization.\n",
    "\n",
    "boxPlotGraph = sns.boxplot(x=\"companyId\", y=\"salary\", data=trainDF, order=None)\n",
    "plt.xticks(rotation=60)\n",
    "plt.figure(figsize = (20, 20))"
   ]
  },
  {
   "cell_type": "code",
   "execution_count": 146,
   "metadata": {},
   "outputs": [
    {
     "data": {
      "image/png": "[encoded data removed]",
      "text/plain": [
       "<Figure size 1224x288 with 2 Axes>"
      ]
     },
     "metadata": {
      "needs_background": "light"
     },
     "output_type": "display_data"
    }
   ],
   "source": [
    "plotFeats(trainDF, 'degree')"
   ]
  },
  {
   "cell_type": "code",
   "execution_count": 147,
   "metadata": {},
   "outputs": [
    {
     "data": {
      "image/png": "[encoded data removed]",
      "text/plain": [
       "<Figure size 1224x288 with 2 Axes>"
      ]
     },
     "metadata": {
      "needs_background": "light"
     },
     "output_type": "display_data"
    }
   ],
   "source": [
    "plotFeats(trainDF, 'major')"
   ]
  },
  {
   "cell_type": "code",
   "execution_count": 148,
   "metadata": {},
   "outputs": [
    {
     "data": {
      "image/png": "[encoded data removed]",
      "text/plain": [
       "<Figure size 1224x288 with 2 Axes>"
      ]
     },
     "metadata": {
      "needs_background": "light"
     },
     "output_type": "display_data"
    }
   ],
   "source": [
    "plotFeats(trainDF, 'industry')"
   ]
  },
  {
   "cell_type": "code",
   "execution_count": 149,
   "metadata": {},
   "outputs": [
    {
     "data": {
      "image/png": "[encoded data removed]",
      "text/plain": [
       "<Figure size 1224x288 with 2 Axes>"
      ]
     },
     "metadata": {
      "needs_background": "light"
     },
     "output_type": "display_data"
    }
   ],
   "source": [
    "plotFeats(trainDF, 'yearsExperience')"
   ]
  },
  {
   "cell_type": "code",
   "execution_count": 150,
   "metadata": {},
   "outputs": [
    {
     "data": {
      "text/plain": [
       "<Figure size 1440x1440 with 0 Axes>"
      ]
     },
     "execution_count": 150,
     "metadata": {},
     "output_type": "execute_result"
    },
    {
     "data": {
      "image/png": "[encoded data removed]",
      "text/plain": [
       "<Figure size 432x288 with 1 Axes>"
      ]
     },
     "metadata": {
      "needs_background": "light"
     },
     "output_type": "display_data"
    },
    {
     "data": {
      "text/plain": [
       "<Figure size 1440x1440 with 0 Axes>"
      ]
     },
     "metadata": {},
     "output_type": "display_data"
    }
   ],
   "source": [
    "# Years of experience has a nice, clear correlation with salary. /n\n",
    "# It's a progressive line showing the higher the years of experience, the higher the salary.\n",
    "\n",
    "boxPlotGraph = sns.boxplot(x=\"yearsExperience\", y=\"salary\", data=trainDF)\n",
    "plt.xticks(rotation=60)\n",
    "plt.figure(figsize = (20, 20))"
   ]
  },
  {
   "cell_type": "code",
   "execution_count": 151,
   "metadata": {},
   "outputs": [
    {
     "data": {
      "image/png": "[encoded data removed]",
      "text/plain": [
       "<Figure size 1224x288 with 2 Axes>"
      ]
     },
     "metadata": {
      "needs_background": "light"
     },
     "output_type": "display_data"
    }
   ],
   "source": [
    "plotFeats(trainDF, 'milesFromMetropolis')"
   ]
  },
  {
   "cell_type": "code",
   "execution_count": 152,
   "metadata": {},
   "outputs": [
    {
     "data": {
      "text/plain": [
       "<matplotlib.axes._subplots.AxesSubplot at 0x11ab337f0>"
      ]
     },
     "execution_count": 152,
     "metadata": {},
     "output_type": "execute_result"
    },
    {
     "data": {
      "image/png": "[encoded data removed]",
      "text/plain": [
       "<Figure size 432x288 with 1 Axes>"
      ]
     },
     "metadata": {
      "needs_background": "light"
     },
     "output_type": "display_data"
    }
   ],
   "source": [
    "# Looks like the salary mean is around 100-105. \n",
    "\n",
    "trainDF.salary.hist() #add or remove ';' at the end for a small difference?"
   ]
  },
  {
   "cell_type": "code",
   "execution_count": 153,
   "metadata": {},
   "outputs": [],
   "source": [
    "# Encoding categorical data in a dataframe.\n",
    "def EncodeData(trainDF):    \n",
    "    for col in trainDF.columns:\n",
    "        if trainDF[col].dtype.name == 'category':\n",
    "            le = LabelEncoder()\n",
    "            trainDF[col] = le.fit_transform(trainDF[col])\n",
    "    return trainDF"
   ]
  },
  {
   "cell_type": "code",
   "execution_count": 154,
   "metadata": {},
   "outputs": [],
   "source": [
    "# Create copy of dataframe and encode the categorical data.\n",
    "baselineDF = trainDF.copy()\n",
    "baselineDF = EncodeData(baselineDF)"
   ]
  },
  {
   "cell_type": "code",
   "execution_count": 155,
   "metadata": {},
   "outputs": [
    {
     "data": {
      "image/png": "[encoded data removed]",
      "text/plain": [
       "<Figure size 792x576 with 2 Axes>"
      ]
     },
     "metadata": {
      "needs_background": "light"
     },
     "output_type": "display_data"
    }
   ],
   "source": [
    "# Plot Seaborn heatmap to visualize correlation between variables.\n",
    "plt.figure(figsize = (11, 8))\n",
    "corr = baselineDF.corr()\n",
    "sns.heatmap(corr,\n",
    "            xticklabels = corr.columns.values,\n",
    "            yticklabels = corr.columns.values,cmap = \"Greens\", vmin=-1, vmax=1, annot=True, linewidths=1)\n",
    "plt.title('Heatmap of Correlation Matrix')\n",
    "plt.xticks(rotation=45)\n",
    "plt.show()"
   ]
  },
  {
   "cell_type": "markdown",
   "metadata": {},
   "source": [
    "###### Based on the plotted heatmap, the strongest correlators are YoE and miles from metropolis.\n",
    "<br>\n",
    "We also see no collinearity between features, as well as companyId having near zero correlation with salary, so we could consider dropping it after the baseline model executes."
   ]
  },
  {
   "cell_type": "markdown",
   "metadata": {},
   "source": [
    "### ---- 5 Establish a baseline ----"
   ]
  },
  {
   "cell_type": "code",
   "execution_count": 156,
   "metadata": {},
   "outputs": [],
   "source": [
    "#select a reasonable metric (MSE in this case)\n",
    "#e.g. use \"average salary\" for each industry as your model and then measure MSE\n",
    "#during 5-fold cross-validation"
   ]
  },
  {
   "cell_type": "code",
   "execution_count": 157,
   "metadata": {},
   "outputs": [
    {
     "data": {
      "text/plain": [
       "Index(['jobId', 'companyId', 'jobType', 'degree', 'major', 'industry',\n",
       "       'yearsExperience', 'milesFromMetropolis', 'salary'],\n",
       "      dtype='object')"
      ]
     },
     "execution_count": 157,
     "metadata": {},
     "output_type": "execute_result"
    }
   ],
   "source": [
    "baselineDF.columns"
   ]
  },
  {
   "cell_type": "code",
   "execution_count": 158,
   "metadata": {},
   "outputs": [],
   "source": [
    "# Splitting features and targets\n",
    "featuresBaseline = baselineDF[['companyId', 'jobType', 'degree', 'major', 'industry',\n",
    "                            'yearsExperience', 'milesFromMetropolis', 'salary']]\n",
    "targetsBaseline = baselineDF[['salary']]\n",
    "# (optional)\n",
    "# del baselineDF"
   ]
  },
  {
   "cell_type": "code",
   "execution_count": 160,
   "metadata": {},
   "outputs": [
    {
     "name": "stdout",
     "output_type": "stream",
     "text": [
      "Baseline MSE Score:  5.659248084649311e-26\n"
     ]
    }
   ],
   "source": [
    "# Creating an extremely simple model and measure its efficacy.\n",
    "lr = LinearRegression()\n",
    "baselineLR_mse = cross_val_score(lr, featuresBaseline, targetsBaseline, scoring \n",
    "                                  = 'neg_mean_squared_error')\n",
    "baselineLR_mse = -1*baselineLR_mse.mean()\n",
    "print(\"Baseline MSE Score: \", baselineLR_mse)\n",
    "\n",
    "#'''In this case, MSE (mean squared error) is the best metric to measure the efficacy /n\n",
    "#    because the prediction here is on salaries, which are numerical in nature. '''\n",
    "# groupy for each industry and get the error from that. \n",
    "# Write MSE algorithm? Not here. See Part 3 - Develop. "
   ]
  },
  {
   "cell_type": "markdown",
   "metadata": {},
   "source": [
    "### ---- 6 Hypothesize solution ----"
   ]
  },
  {
   "cell_type": "code",
   "execution_count": 161,
   "metadata": {},
   "outputs": [],
   "source": [
    "# Brainstorming 3 models that may improve results over the baseline model."
   ]
  },
  {
   "cell_type": "code",
   "execution_count": 162,
   "metadata": {},
   "outputs": [
    {
     "data": {
      "text/plain": [
       "' Choose about 3 models based on the EDA that you think will be effective. '"
      ]
     },
     "execution_count": 162,
     "metadata": {},
     "output_type": "execute_result"
    }
   ],
   "source": [
    "''' Choose about 3 models based on the EDA that you think will be effective. '''"
   ]
  },
  {
   "cell_type": "markdown",
   "metadata": {},
   "source": [
    "Brainstorm 3 models that you think may improve results over the baseline model based on your EDA and explain why they're reasonable solutions here.\n",
    "\n",
    "Also write down any new features that you think you should try adding to the model based on your EDA, e.g. interaction variables, summary statistics for each group, etc"
   ]
  },
  {
   "cell_type": "markdown",
   "metadata": {},
   "source": [
    "## Part 3 - DEVELOP"
   ]
  },
  {
   "cell_type": "markdown",
   "metadata": {},
   "source": [
    "You will cycle through creating features, tuning models, and training/validing models (steps 7-9) until you've reached your efficacy goal\n",
    "\n",
    "#### Your metric will be MSE and your goal is:\n",
    " - <360 for entry-level data science roles\n",
    " - <320 for senior data science roles"
   ]
  },
  {
   "cell_type": "markdown",
   "metadata": {},
   "source": [
    "### ---- 7 Engineer features  ----"
   ]
  },
  {
   "cell_type": "code",
   "execution_count": 163,
   "metadata": {},
   "outputs": [],
   "source": [
    "#make sure that data is ready for modeling\n",
    "#create any new features needed to potentially enhance model"
   ]
  },
  {
   "cell_type": "code",
   "execution_count": 164,
   "metadata": {},
   "outputs": [],
   "source": [
    "# One hot encoding, create new features if needed. Tune models as shown below.\n",
    "\n",
    "categoryDF = trainDF[['jobType', 'degree', 'major', 'industry']]\n",
    "categoryDF = pd.get_dummies(categoryDF, drop_first=True)"
   ]
  },
  {
   "cell_type": "code",
   "execution_count": 165,
   "metadata": {},
   "outputs": [
    {
     "data": {
      "text/plain": [
       "(999995, 25)"
      ]
     },
     "execution_count": 165,
     "metadata": {},
     "output_type": "execute_result"
    }
   ],
   "source": [
    "categoryDF.shape"
   ]
  },
  {
   "cell_type": "code",
   "execution_count": 166,
   "metadata": {},
   "outputs": [],
   "source": [
    "# Normalizing values between 0 and 1 using Min/Max Scaler.\n",
    "\n",
    "normalDF = trainDF[['yearsExperience', 'milesFromMetropolis']]\n",
    "cols = normalDF.columns\n",
    "normalDF = MinMaxScaler().fit_transform(normalDF)\n",
    "normalDF = pd.DataFrame(normalDF, columns = cols)"
   ]
  },
  {
   "cell_type": "code",
   "execution_count": 167,
   "metadata": {},
   "outputs": [],
   "source": [
    "# Merging (concat) the converted categorical and numerical variables.\n",
    "\n",
    "featuresDF = pd.concat([categoryDF.reset_index(drop=True), normalDF], axis=1)\n",
    "targetsDF = trainDF[['salary']]\n",
    "#del categoryDF, normalDF"
   ]
  },
  {
   "cell_type": "code",
   "execution_count": 168,
   "metadata": {},
   "outputs": [
    {
     "data": {
      "text/plain": [
       "(999995, 27)"
      ]
     },
     "execution_count": 168,
     "metadata": {},
     "output_type": "execute_result"
    }
   ],
   "source": [
    "featuresDF.shape"
   ]
  },
  {
   "cell_type": "markdown",
   "metadata": {},
   "source": [
    "### ---- 8 Create models ----"
   ]
  },
  {
   "cell_type": "code",
   "execution_count": 169,
   "metadata": {},
   "outputs": [],
   "source": [
    "#create and tune the models that you brainstormed during part 2"
   ]
  },
  {
   "cell_type": "code",
   "execution_count": 170,
   "metadata": {},
   "outputs": [],
   "source": [
    "# Utilizing 5 Fold - Cross Validation (CV) of each model.\n",
    "\n",
    "def evalModel(model):\n",
    "    negMse = cross_val_score(model, featuresDF, targetsDF.values.ravel(), scoring\n",
    "                            = 'neg_mean_squared_error')\n",
    "    mse = -1 * negMse\n",
    "    stdMse = round(mse.std(), 2)\n",
    "    meanMse = round(mse.mean(), 2)\n",
    "    print('\\nModel:\\n', model)\n",
    "    print('    Standard Deviation of Cross Validation MSEs:\\n     ', stdMse)\n",
    "    print('    Mean 5-Fold Cross Validation MSE: \\n      ', meanMse)\n",
    "    return meanMse"
   ]
  },
  {
   "cell_type": "markdown",
   "metadata": {},
   "source": [
    "### ---- 9 Test models ----"
   ]
  },
  {
   "cell_type": "code",
   "execution_count": 171,
   "metadata": {},
   "outputs": [],
   "source": [
    "# Running 5-fold cross validation on models and measuring MSE"
   ]
  },
  {
   "cell_type": "markdown",
   "metadata": {},
   "source": [
    "###### Warning."
   ]
  },
  {
   "cell_type": "markdown",
   "metadata": {},
   "source": [
    "###### Warning!"
   ]
  },
  {
   "cell_type": "markdown",
   "metadata": {},
   "source": [
    "###### WARNING!\n",
    "\n",
    "Friendly reminder: the next cells take 30-60+ minutes (each) to run. Make sure to save this notebook and push/commit to Git for version control as a precautionary step. :)"
   ]
  },
  {
   "cell_type": "code",
   "execution_count": 178,
   "metadata": {},
   "outputs": [
    {
     "name": "stdout",
     "output_type": "stream",
     "text": [
      "Cross Validation of Models Initiated...\n",
      "\n",
      "\n",
      "Model:\n",
      " LinearRegression()\n",
      "    Standard Deviation of Cross Validation MSEs:\n",
      "      1.78\n",
      "    Mean 5-Fold Cross Validation MSE: \n",
      "       384.41\n",
      "\n",
      "Model:\n",
      " SGDRegressor(learning_rate='optimal', max_iter=200)\n",
      "    Standard Deviation of Cross Validation MSEs:\n",
      "      1.83\n",
      "    Mean 5-Fold Cross Validation MSE: \n",
      "       384.55\n",
      "\n",
      "Model:\n",
      " DecisionTreeRegressor(max_depth=15)\n",
      "    Standard Deviation of Cross Validation MSEs:\n",
      "      1.9\n",
      "    Mean 5-Fold Cross Validation MSE: \n",
      "       433.16\n",
      "\n",
      "Model:\n",
      " RandomForestRegressor(max_depth=30, max_features='sqrt', min_samples_split=60,\n",
      "                      n_estimators=150, n_jobs=-1)\n",
      "    Standard Deviation of Cross Validation MSEs:\n",
      "      1.69\n",
      "    Mean 5-Fold Cross Validation MSE: \n",
      "       372.27\n",
      "\n",
      "Model:\n",
      " XGBRegressor(base_score=None, booster=None, colsample_bylevel=None,\n",
      "             colsample_bynode=None, colsample_bytree=None, gamma=None,\n",
      "             gpu_id=None, importance_type='gain', interaction_constraints=None,\n",
      "             learning_rate=0.1, max_delta_step=None, max_depth=5,\n",
      "             min_child_weight=None, missing=nan, monotone_constraints=None,\n",
      "             n_estimators=500, n_jobs=-1, num_parallel_tree=None,\n",
      "             random_state=None, reg_alpha=None, reg_lambda=None,\n",
      "             scale_pos_weight=None, subsample=None, tree_method=None,\n",
      "             validate_parameters=None, verbosity=None)\n",
      "    Standard Deviation of Cross Validation MSEs:\n",
      "      1.34\n",
      "    Mean 5-Fold Cross Validation MSE: \n",
      "       356.62\n",
      "\n",
      "\n",
      "The model with the lowest average MSE to use for predictions is:\n",
      "\n",
      "XGBRegressor(base_score=None, booster=None, colsample_bylevel=None,\n",
      "             colsample_bynode=None, colsample_bytree=None, gamma=None,\n",
      "             gpu_id=None, importance_type='gain', interaction_constraints=None,\n",
      "             learning_rate=0.1, max_delta_step=None, max_depth=5,\n",
      "             min_child_weight=None, missing=nan, monotone_constraints=None,\n",
      "             n_estimators=500, n_jobs=-1, num_parallel_tree=None,\n",
      "             random_state=None, reg_alpha=None, reg_lambda=None,\n",
      "             scale_pos_weight=None, subsample=None, tree_method=None,\n",
      "             validate_parameters=None, verbosity=None)\n"
     ]
    }
   ],
   "source": [
    "# Looping through different models to obtain their MSE. Hyperparameters chosen manually (testing).\n",
    "\n",
    "models = []\n",
    "meanMse = {}\n",
    "\n",
    "lr = LinearRegression()\n",
    "\n",
    "sgd = SGDRegressor(max_iter=200, learning_rate='optimal')\n",
    "\n",
    "dtr = DecisionTreeRegressor(max_depth=15)\n",
    "\n",
    "rfr = RandomForestRegressor(n_estimators=150, n_jobs=-1, max_depth=30, \n",
    "                            min_samples_split=60, max_features='sqrt')\n",
    "xgb = xgboost.XGBRegressor(max_depth=5, n_estimators=500, learning_rate=0.1, n_jobs=-1)\n",
    "\n",
    "models.extend([lr, sgd, dtr, rfr, xgb])\n",
    "\n",
    "print('Cross Validation of Models Initiated...\\n')\n",
    "\n",
    "for model in models:\n",
    "    mseIter = evalModel(model)\n",
    "    meanMse.update({model:mseIter})\n",
    "    \n",
    "bestModel = min(meanMse, key=meanMse.get)\n",
    "\n",
    "print('\\n\\nThe model with the lowest average MSE to use for predictions is:\\n')\n",
    "print(bestModel)"
   ]
  },
  {
   "cell_type": "code",
   "execution_count": 179,
   "metadata": {},
   "outputs": [
    {
     "data": {
      "text/html": [
       "<div>\n",
       "<style scoped>\n",
       "    .dataframe tbody tr th:only-of-type {\n",
       "        vertical-align: middle;\n",
       "    }\n",
       "\n",
       "    .dataframe tbody tr th {\n",
       "        vertical-align: top;\n",
       "    }\n",
       "\n",
       "    .dataframe thead th {\n",
       "        text-align: right;\n",
       "    }\n",
       "</style>\n",
       "<table border=\"1\" class=\"dataframe\">\n",
       "  <thead>\n",
       "    <tr style=\"text-align: right;\">\n",
       "      <th></th>\n",
       "      <th>MSE-Score</th>\n",
       "    </tr>\n",
       "  </thead>\n",
       "  <tbody>\n",
       "    <tr>\n",
       "      <th>LR</th>\n",
       "      <td>384.41</td>\n",
       "    </tr>\n",
       "    <tr>\n",
       "      <th>SDG</th>\n",
       "      <td>384.55</td>\n",
       "    </tr>\n",
       "    <tr>\n",
       "      <th>DTR</th>\n",
       "      <td>433.16</td>\n",
       "    </tr>\n",
       "    <tr>\n",
       "      <th>RF</th>\n",
       "      <td>372.27</td>\n",
       "    </tr>\n",
       "    <tr>\n",
       "      <th>XGB</th>\n",
       "      <td>356.62</td>\n",
       "    </tr>\n",
       "  </tbody>\n",
       "</table>\n",
       "</div>"
      ],
      "text/plain": [
       "     MSE-Score\n",
       "LR      384.41\n",
       "SDG     384.55\n",
       "DTR     433.16\n",
       "RF      372.27\n",
       "XGB     356.62"
      ]
     },
     "execution_count": 179,
     "metadata": {},
     "output_type": "execute_result"
    }
   ],
   "source": [
    "# Creating a pandas dataframe from the meanMse dictionary.\n",
    "modelsDF = pd.DataFrame.from_dict(data = meanMse, orient='index', columns=['MSE-Score'])\n",
    "modelsDF.index = ['LR', 'SDG', 'DTR', 'RF', 'XGB']\n",
    "modelsDF"
   ]
  },
  {
   "cell_type": "code",
   "execution_count": 180,
   "metadata": {},
   "outputs": [
    {
     "data": {
      "text/plain": [
       "(array([0, 1, 2, 3, 4]), <a list of 5 Text xticklabel objects>)"
      ]
     },
     "execution_count": 180,
     "metadata": {},
     "output_type": "execute_result"
    },
    {
     "data": {
      "image/png": "[encoded data removed]",
      "text/plain": [
       "<Figure size 432x288 with 1 Axes>"
      ]
     },
     "metadata": {
      "needs_background": "light"
     },
     "output_type": "display_data"
    }
   ],
   "source": [
    "# Visualizing the accuracy results.\n",
    "modelsDF.plot(kind='bar')\n",
    "plt.xticks(rotation=45)"
   ]
  },
  {
   "cell_type": "markdown",
   "metadata": {},
   "source": [
    "### ---- 10 Select best model  ----"
   ]
  },
  {
   "cell_type": "markdown",
   "metadata": {},
   "source": [
    "###### Selecting the model with the lowest error as the \"production\" model \\n\n",
    "As we see above, XGB has the smallest MSE. Now, we'll fine tune it. \n"
   ]
  },
  {
   "cell_type": "code",
   "execution_count": 181,
   "metadata": {},
   "outputs": [],
   "source": [
    "trainX, testX, trainY, testY = train_test_split(featuresDF, targetsDF, \n",
    "                                                random_state=36, test_size=0.2)"
   ]
  },
  {
   "cell_type": "code",
   "execution_count": 189,
   "metadata": {},
   "outputs": [],
   "source": [
    "# Creating an array below to store the results, and a watchlist to keep track of performance.\n",
    "results = []\n",
    "\n",
    "eval_set = [(trainX, trainY), (testX, testY)]"
   ]
  },
  {
   "cell_type": "code",
   "execution_count": 183,
   "metadata": {},
   "outputs": [
    {
     "name": "stdout",
     "output_type": "stream",
     "text": [
      "(objective='reg:squarederror', **kwargs)\n"
     ]
    }
   ],
   "source": [
    "# Checking hyperparameters.\n",
    "\n",
    "print(inspect.signature(xgboost.XGBRegressor))"
   ]
  },
  {
   "cell_type": "code",
   "execution_count": 191,
   "metadata": {},
   "outputs": [
    {
     "data": {
      "text/html": [
       "<div>\n",
       "<style scoped>\n",
       "    .dataframe tbody tr th:only-of-type {\n",
       "        vertical-align: middle;\n",
       "    }\n",
       "\n",
       "    .dataframe tbody tr th {\n",
       "        vertical-align: top;\n",
       "    }\n",
       "\n",
       "    .dataframe thead th {\n",
       "        text-align: right;\n",
       "    }\n",
       "</style>\n",
       "<table border=\"1\" class=\"dataframe\">\n",
       "  <thead>\n",
       "    <tr style=\"text-align: right;\">\n",
       "      <th></th>\n",
       "      <th>train_error</th>\n",
       "      <th>test_error</th>\n",
       "    </tr>\n",
       "    <tr>\n",
       "      <th>n_estimators</th>\n",
       "      <th></th>\n",
       "      <th></th>\n",
       "    </tr>\n",
       "  </thead>\n",
       "  <tbody>\n",
       "    <tr>\n",
       "      <th>100</th>\n",
       "      <td>371.127086</td>\n",
       "      <td>370.351965</td>\n",
       "    </tr>\n",
       "    <tr>\n",
       "      <th>150</th>\n",
       "      <td>360.342180</td>\n",
       "      <td>360.007623</td>\n",
       "    </tr>\n",
       "    <tr>\n",
       "      <th>250</th>\n",
       "      <td>355.473944</td>\n",
       "      <td>355.823650</td>\n",
       "    </tr>\n",
       "    <tr>\n",
       "      <th>500</th>\n",
       "      <td>352.485315</td>\n",
       "      <td>354.533156</td>\n",
       "    </tr>\n",
       "    <tr>\n",
       "      <th>750</th>\n",
       "      <td>350.818615</td>\n",
       "      <td>354.412795</td>\n",
       "    </tr>\n",
       "    <tr>\n",
       "      <th>1000</th>\n",
       "      <td>349.442958</td>\n",
       "      <td>354.417789</td>\n",
       "    </tr>\n",
       "  </tbody>\n",
       "</table>\n",
       "</div>"
      ],
      "text/plain": [
       "              train_error  test_error\n",
       "n_estimators                         \n",
       "100            371.127086  370.351965\n",
       "150            360.342180  360.007623\n",
       "250            355.473944  355.823650\n",
       "500            352.485315  354.533156\n",
       "750            350.818615  354.412795\n",
       "1000           349.442958  354.417789"
      ]
     },
     "execution_count": 191,
     "metadata": {},
     "output_type": "execute_result"
    }
   ],
   "source": [
    "results = [] # resets it.\n",
    "\n",
    "# Enumerating through different n_estimators values and storing results.\n",
    "\n",
    "for n_estimators in [100, 150, 250, 500, 750, 1000]:\n",
    "    clf = xgboost.XGBRegressor(max_depth=5, learning_rate=0.1, n_estimators\n",
    "                               =n_estimators, n_jobs=-1)\n",
    "    clf.fit(trainX, trainY, eval_set = eval_set, verbose=False)\n",
    "    results.append(\n",
    "        {\n",
    "            'n_estimators': n_estimators, \n",
    "            'train_error': metrics.mean_squared_error(trainY, clf.predict(trainX)),\n",
    "            'test_error': metrics.mean_squared_error(testY, clf.predict(testX))\n",
    "        })\n",
    "\n",
    "# Showing results\n",
    "nEstimatorsLr = pd.DataFrame(results).set_index('n_estimators').sort_index()\n",
    "nEstimatorsLr"
   ]
  },
  {
   "cell_type": "code",
   "execution_count": 193,
   "metadata": {},
   "outputs": [
    {
     "data": {
      "text/plain": [
       "<matplotlib.axes._subplots.AxesSubplot at 0x11ba882b0>"
      ]
     },
     "execution_count": 193,
     "metadata": {},
     "output_type": "execute_result"
    },
    {
     "data": {
      "image/png": "[encoded data removed]",
      "text/plain": [
       "<Figure size 432x288 with 1 Axes>"
      ]
     },
     "metadata": {
      "needs_background": "light"
     },
     "output_type": "display_data"
    }
   ],
   "source": [
    "# Visualizing the n_estimator learning curve. \n",
    "nEstimatorsLr.plot(title='nEstimator Learning Curve')"
   ]
  },
  {
   "cell_type": "markdown",
   "metadata": {},
   "source": [
    "###### What does this Learning Curve tells us?\n",
    "The train error tends to go to zero as it exhausts all features in the dataset. The test however, plateaus at about 500, so optimally that's what we should use."
   ]
  },
  {
   "cell_type": "code",
   "execution_count": 194,
   "metadata": {},
   "outputs": [
    {
     "data": {
      "text/html": [
       "<div>\n",
       "<style scoped>\n",
       "    .dataframe tbody tr th:only-of-type {\n",
       "        vertical-align: middle;\n",
       "    }\n",
       "\n",
       "    .dataframe tbody tr th {\n",
       "        vertical-align: top;\n",
       "    }\n",
       "\n",
       "    .dataframe thead th {\n",
       "        text-align: right;\n",
       "    }\n",
       "</style>\n",
       "<table border=\"1\" class=\"dataframe\">\n",
       "  <thead>\n",
       "    <tr style=\"text-align: right;\">\n",
       "      <th></th>\n",
       "      <th>train_error</th>\n",
       "      <th>test_error</th>\n",
       "    </tr>\n",
       "    <tr>\n",
       "      <th>max_depth</th>\n",
       "      <th></th>\n",
       "      <th></th>\n",
       "    </tr>\n",
       "  </thead>\n",
       "  <tbody>\n",
       "    <tr>\n",
       "      <th>3</th>\n",
       "      <td>355.795346</td>\n",
       "      <td>354.367711</td>\n",
       "    </tr>\n",
       "    <tr>\n",
       "      <th>4</th>\n",
       "      <td>354.073766</td>\n",
       "      <td>354.009156</td>\n",
       "    </tr>\n",
       "    <tr>\n",
       "      <th>5</th>\n",
       "      <td>350.818615</td>\n",
       "      <td>354.412795</td>\n",
       "    </tr>\n",
       "    <tr>\n",
       "      <th>6</th>\n",
       "      <td>345.139602</td>\n",
       "      <td>355.553698</td>\n",
       "    </tr>\n",
       "    <tr>\n",
       "      <th>8</th>\n",
       "      <td>318.314143</td>\n",
       "      <td>361.335433</td>\n",
       "    </tr>\n",
       "    <tr>\n",
       "      <th>10</th>\n",
       "      <td>260.970582</td>\n",
       "      <td>376.796722</td>\n",
       "    </tr>\n",
       "  </tbody>\n",
       "</table>\n",
       "</div>"
      ],
      "text/plain": [
       "           train_error  test_error\n",
       "max_depth                         \n",
       "3           355.795346  354.367711\n",
       "4           354.073766  354.009156\n",
       "5           350.818615  354.412795\n",
       "6           345.139602  355.553698\n",
       "8           318.314143  361.335433\n",
       "10          260.970582  376.796722"
      ]
     },
     "execution_count": 194,
     "metadata": {},
     "output_type": "execute_result"
    }
   ],
   "source": [
    "results = [] # resets it again.\n",
    "\n",
    "# Enumerating different max_depth values and storing results.\n",
    "\n",
    "for max_depth in [3, 4, 5, 6, 8, 10]:\n",
    "    clf = xgboost.XGBRegressor(max_depth = max_depth, n_estimators = 750, learning_rate \n",
    "                              = 0.1, n_jobs=-1)\n",
    "    clf.fit(trainX, trainY, eval_set = eval_set, verbose = False)\n",
    "    results.append(\n",
    "        {\n",
    "            'max_depth': max_depth,\n",
    "            'train_error': metrics.mean_squared_error(trainY, clf.predict(trainX)),\n",
    "            'test_error': metrics.mean_squared_error(testY, clf.predict(testX))\n",
    "        })\n",
    "\n",
    "# Displaying results.\n",
    "maxDepthLr = pd.DataFrame(results).set_index('max_depth').sort_index()\n",
    "maxDepthLr"
   ]
  },
  {
   "cell_type": "code",
   "execution_count": 195,
   "metadata": {},
   "outputs": [
    {
     "data": {
      "text/plain": [
       "<matplotlib.axes._subplots.AxesSubplot at 0x11ae7dca0>"
      ]
     },
     "execution_count": 195,
     "metadata": {},
     "output_type": "execute_result"
    },
    {
     "data": {
      "image/png": "[encoded data removed]",
      "text/plain": [
       "<Figure size 432x288 with 1 Axes>"
      ]
     },
     "metadata": {
      "needs_background": "light"
     },
     "output_type": "display_data"
    }
   ],
   "source": [
    "# Visualizing the maxDepth learning curve. \n",
    "maxDepthLr.plot(title='maxDepth Learning Curve')"
   ]
  },
  {
   "cell_type": "markdown",
   "metadata": {},
   "source": [
    "###### What does the Max Depth Learning Curve tells us?\n",
    "The optimal value for maxDepth is around 4 and n_estimators is 750, while learning_rate is 0.1.\n",
    "After that point we see the test error curve increase. "
   ]
  },
  {
   "cell_type": "code",
   "execution_count": 196,
   "metadata": {},
   "outputs": [
    {
     "data": {
      "text/html": [
       "<div>\n",
       "<style scoped>\n",
       "    .dataframe tbody tr th:only-of-type {\n",
       "        vertical-align: middle;\n",
       "    }\n",
       "\n",
       "    .dataframe tbody tr th {\n",
       "        vertical-align: top;\n",
       "    }\n",
       "\n",
       "    .dataframe thead th {\n",
       "        text-align: right;\n",
       "    }\n",
       "</style>\n",
       "<table border=\"1\" class=\"dataframe\">\n",
       "  <thead>\n",
       "    <tr style=\"text-align: right;\">\n",
       "      <th></th>\n",
       "      <th>train_error</th>\n",
       "      <th>test_error</th>\n",
       "    </tr>\n",
       "    <tr>\n",
       "      <th>learning_rate</th>\n",
       "      <th></th>\n",
       "      <th></th>\n",
       "    </tr>\n",
       "  </thead>\n",
       "  <tbody>\n",
       "    <tr>\n",
       "      <th>0.05</th>\n",
       "      <td>355.565790</td>\n",
       "      <td>354.624322</td>\n",
       "    </tr>\n",
       "    <tr>\n",
       "      <th>0.10</th>\n",
       "      <td>354.073766</td>\n",
       "      <td>354.009156</td>\n",
       "    </tr>\n",
       "    <tr>\n",
       "      <th>0.20</th>\n",
       "      <td>352.762697</td>\n",
       "      <td>354.413865</td>\n",
       "    </tr>\n",
       "    <tr>\n",
       "      <th>0.30</th>\n",
       "      <td>351.212361</td>\n",
       "      <td>354.194263</td>\n",
       "    </tr>\n",
       "  </tbody>\n",
       "</table>\n",
       "</div>"
      ],
      "text/plain": [
       "               train_error  test_error\n",
       "learning_rate                         \n",
       "0.05            355.565790  354.624322\n",
       "0.10            354.073766  354.009156\n",
       "0.20            352.762697  354.413865\n",
       "0.30            351.212361  354.194263"
      ]
     },
     "execution_count": 196,
     "metadata": {},
     "output_type": "execute_result"
    }
   ],
   "source": [
    "results = [] # resetting the array again. \n",
    "\n",
    "# Enumerating through different learning_rate values and storing results.\n",
    "for learning_rate in [0.05, 0.1, 0.2, 0.3]:\n",
    "    clf = xgboost.XGBRegressor(max_depth=4, learning_rate=learning_rate, n_estimators=750, n_jobs=-1)\n",
    "    clf.fit(trainX, trainY, eval_set=eval_set, verbose=False)\n",
    "    results.append(\n",
    "        {\n",
    "            'learning_rate': learning_rate,\n",
    "            'train_error': metrics.mean_squared_error(trainY, clf.predict(trainX)),\n",
    "            'test_error': metrics.mean_squared_error(testY, clf.predict(testX))\n",
    "        })\n",
    "    \n",
    "# Displaying Results  \n",
    "learningRateLr = pd.DataFrame(results).set_index('learning_rate').sort_index()\n",
    "learningRateLr"
   ]
  },
  {
   "cell_type": "code",
   "execution_count": 197,
   "metadata": {},
   "outputs": [
    {
     "data": {
      "text/plain": [
       "<matplotlib.axes._subplots.AxesSubplot at 0x11aabeb20>"
      ]
     },
     "execution_count": 197,
     "metadata": {},
     "output_type": "execute_result"
    },
    {
     "data": {
      "image/png": "[encoded data removed]",
      "text/plain": [
       "<Figure size 432x288 with 1 Axes>"
      ]
     },
     "metadata": {
      "needs_background": "light"
     },
     "output_type": "display_data"
    }
   ],
   "source": [
    "# Visualizing the Learnin Rate learning curve. \n",
    "learningRateLr.plot(title='Learning Rate Learning Curve')"
   ]
  },
  {
   "cell_type": "markdown",
   "metadata": {},
   "source": [
    "###### What does the Learning Rate learning curve tells us?\n",
    "The optimal learning_rate value could be between 0.05 and 0.10 while max_depth=4 and n_estimators=750. The model with learning_rate=0.05 may have been unable to converge, therefore we will explore early stopping with this learning rate."
   ]
  },
  {
   "cell_type": "code",
   "execution_count": 198,
   "metadata": {},
   "outputs": [],
   "source": [
    "# Saving the best hyperparameter setting.\n",
    "bestModel = xgboost.XGBRegressor(learning_rate=0.05, max_depth=4, n_estimators=2000, n_jobs=-1)"
   ]
  },
  {
   "cell_type": "code",
   "execution_count": 199,
   "metadata": {},
   "outputs": [
    {
     "name": "stdout",
     "output_type": "stream",
     "text": [
      "[0]\tvalidation_0-rmse:116.21744\tvalidation_1-rmse:116.15193\n",
      "Multiple eval metrics have been passed: 'validation_1-rmse' will be used for early stopping.\n",
      "\n",
      "Will train until validation_1-rmse hasn't improved in 10 rounds.\n",
      "[1]\tvalidation_0-rmse:110.82274\tvalidation_1-rmse:110.77539\n",
      "[2]\tvalidation_0-rmse:105.73261\tvalidation_1-rmse:105.68675\n",
      "[3]\tvalidation_0-rmse:100.90406\tvalidation_1-rmse:100.86514\n",
      "[4]\tvalidation_0-rmse:96.36352\tvalidation_1-rmse:96.30730\n",
      "[5]\tvalidation_0-rmse:92.03447\tvalidation_1-rmse:91.98828\n",
      "[6]\tvalidation_0-rmse:87.95617\tvalidation_1-rmse:87.90863\n",
      "[7]\tvalidation_0-rmse:84.08439\tvalidation_1-rmse:84.04493\n",
      "[8]\tvalidation_0-rmse:80.43870\tvalidation_1-rmse:80.39296\n",
      "[9]\tvalidation_0-rmse:76.97772\tvalidation_1-rmse:76.92821\n",
      "[10]\tvalidation_0-rmse:73.71873\tvalidation_1-rmse:73.67345\n",
      "[11]\tvalidation_0-rmse:70.62183\tvalidation_1-rmse:70.57925\n",
      "[12]\tvalidation_0-rmse:67.71689\tvalidation_1-rmse:67.67374\n",
      "[13]\tvalidation_0-rmse:64.97330\tvalidation_1-rmse:64.93324\n",
      "[14]\tvalidation_0-rmse:62.38340\tvalidation_1-rmse:62.34172\n",
      "[15]\tvalidation_0-rmse:59.94820\tvalidation_1-rmse:59.90792\n",
      "[16]\tvalidation_0-rmse:57.63914\tvalidation_1-rmse:57.59883\n",
      "[17]\tvalidation_0-rmse:55.48462\tvalidation_1-rmse:55.44575\n",
      "[18]\tvalidation_0-rmse:53.43824\tvalidation_1-rmse:53.39782\n",
      "[19]\tvalidation_0-rmse:51.52294\tvalidation_1-rmse:51.48142\n",
      "[20]\tvalidation_0-rmse:49.71171\tvalidation_1-rmse:49.66976\n",
      "[21]\tvalidation_0-rmse:48.01226\tvalidation_1-rmse:47.97127\n",
      "[22]\tvalidation_0-rmse:46.42571\tvalidation_1-rmse:46.38392\n",
      "[23]\tvalidation_0-rmse:44.89393\tvalidation_1-rmse:44.85055\n",
      "[24]\tvalidation_0-rmse:43.49543\tvalidation_1-rmse:43.45407\n",
      "[25]\tvalidation_0-rmse:42.18024\tvalidation_1-rmse:42.13739\n",
      "[26]\tvalidation_0-rmse:40.94601\tvalidation_1-rmse:40.90233\n",
      "[27]\tvalidation_0-rmse:39.79712\tvalidation_1-rmse:39.75406\n",
      "[28]\tvalidation_0-rmse:38.67845\tvalidation_1-rmse:38.63354\n",
      "[29]\tvalidation_0-rmse:37.66912\tvalidation_1-rmse:37.62376\n",
      "[30]\tvalidation_0-rmse:36.65100\tvalidation_1-rmse:36.60284\n",
      "[31]\tvalidation_0-rmse:35.75820\tvalidation_1-rmse:35.71041\n",
      "[32]\tvalidation_0-rmse:34.94119\tvalidation_1-rmse:34.89290\n",
      "[33]\tvalidation_0-rmse:34.13701\tvalidation_1-rmse:34.08867\n",
      "[34]\tvalidation_0-rmse:33.41506\tvalidation_1-rmse:33.36755\n",
      "[35]\tvalidation_0-rmse:32.72620\tvalidation_1-rmse:32.67893\n",
      "[36]\tvalidation_0-rmse:32.02176\tvalidation_1-rmse:31.97317\n",
      "[37]\tvalidation_0-rmse:31.42692\tvalidation_1-rmse:31.37793\n",
      "[38]\tvalidation_0-rmse:30.88324\tvalidation_1-rmse:30.83606\n",
      "[39]\tvalidation_0-rmse:30.37889\tvalidation_1-rmse:30.33081\n",
      "[40]\tvalidation_0-rmse:29.87156\tvalidation_1-rmse:29.82306\n",
      "[41]\tvalidation_0-rmse:29.40698\tvalidation_1-rmse:29.35904\n",
      "[42]\tvalidation_0-rmse:28.99824\tvalidation_1-rmse:28.95029\n",
      "[43]\tvalidation_0-rmse:28.54663\tvalidation_1-rmse:28.49681\n",
      "[44]\tvalidation_0-rmse:28.18985\tvalidation_1-rmse:28.14106\n",
      "[45]\tvalidation_0-rmse:27.86061\tvalidation_1-rmse:27.81310\n",
      "[46]\tvalidation_0-rmse:27.48766\tvalidation_1-rmse:27.43909\n",
      "[47]\tvalidation_0-rmse:27.16364\tvalidation_1-rmse:27.11541\n",
      "[48]\tvalidation_0-rmse:26.86445\tvalidation_1-rmse:26.81651\n",
      "[49]\tvalidation_0-rmse:26.61493\tvalidation_1-rmse:26.56716\n",
      "[50]\tvalidation_0-rmse:26.32516\tvalidation_1-rmse:26.27620\n",
      "[51]\tvalidation_0-rmse:26.09530\tvalidation_1-rmse:26.04852\n",
      "[52]\tvalidation_0-rmse:25.89502\tvalidation_1-rmse:25.84742\n",
      "[53]\tvalidation_0-rmse:25.70268\tvalidation_1-rmse:25.65554\n",
      "[54]\tvalidation_0-rmse:25.48792\tvalidation_1-rmse:25.43969\n",
      "[55]\tvalidation_0-rmse:25.28888\tvalidation_1-rmse:25.24144\n",
      "[56]\tvalidation_0-rmse:25.11394\tvalidation_1-rmse:25.06657\n",
      "[57]\tvalidation_0-rmse:24.95126\tvalidation_1-rmse:24.90411\n",
      "[58]\tvalidation_0-rmse:24.79728\tvalidation_1-rmse:24.74970\n",
      "[59]\tvalidation_0-rmse:24.63613\tvalidation_1-rmse:24.58928\n",
      "[60]\tvalidation_0-rmse:24.46490\tvalidation_1-rmse:24.41669\n",
      "[61]\tvalidation_0-rmse:24.34367\tvalidation_1-rmse:24.29615\n",
      "[62]\tvalidation_0-rmse:24.22290\tvalidation_1-rmse:24.17740\n",
      "[63]\tvalidation_0-rmse:24.10532\tvalidation_1-rmse:24.05986\n",
      "[64]\tvalidation_0-rmse:23.96184\tvalidation_1-rmse:23.91589\n",
      "[65]\tvalidation_0-rmse:23.82607\tvalidation_1-rmse:23.77865\n",
      "[66]\tvalidation_0-rmse:23.70914\tvalidation_1-rmse:23.66327\n",
      "[67]\tvalidation_0-rmse:23.58440\tvalidation_1-rmse:23.53725\n",
      "[68]\tvalidation_0-rmse:23.50137\tvalidation_1-rmse:23.45391\n",
      "[69]\tvalidation_0-rmse:23.41261\tvalidation_1-rmse:23.36570\n",
      "[70]\tvalidation_0-rmse:23.31349\tvalidation_1-rmse:23.26671\n",
      "[71]\tvalidation_0-rmse:23.20494\tvalidation_1-rmse:23.15745\n",
      "[72]\tvalidation_0-rmse:23.12349\tvalidation_1-rmse:23.07821\n",
      "[73]\tvalidation_0-rmse:23.05629\tvalidation_1-rmse:23.01162\n",
      "[74]\tvalidation_0-rmse:22.95919\tvalidation_1-rmse:22.91345\n",
      "[75]\tvalidation_0-rmse:22.88848\tvalidation_1-rmse:22.84303\n",
      "[76]\tvalidation_0-rmse:22.80994\tvalidation_1-rmse:22.76484\n",
      "[77]\tvalidation_0-rmse:22.72946\tvalidation_1-rmse:22.68506\n",
      "[78]\tvalidation_0-rmse:22.64581\tvalidation_1-rmse:22.60024\n",
      "[79]\tvalidation_0-rmse:22.59203\tvalidation_1-rmse:22.54635\n",
      "[80]\tvalidation_0-rmse:22.51445\tvalidation_1-rmse:22.46761\n",
      "[81]\tvalidation_0-rmse:22.45810\tvalidation_1-rmse:22.41161\n",
      "[82]\tvalidation_0-rmse:22.39168\tvalidation_1-rmse:22.34585\n",
      "[83]\tvalidation_0-rmse:22.32622\tvalidation_1-rmse:22.28094\n",
      "[84]\tvalidation_0-rmse:22.28203\tvalidation_1-rmse:22.23652\n",
      "[85]\tvalidation_0-rmse:22.23990\tvalidation_1-rmse:22.19471\n",
      "[86]\tvalidation_0-rmse:22.18210\tvalidation_1-rmse:22.13723\n",
      "[87]\tvalidation_0-rmse:22.11716\tvalidation_1-rmse:22.07236\n",
      "[88]\tvalidation_0-rmse:22.05523\tvalidation_1-rmse:22.00996\n",
      "[89]\tvalidation_0-rmse:21.99674\tvalidation_1-rmse:21.95087\n",
      "[90]\tvalidation_0-rmse:21.94502\tvalidation_1-rmse:21.90011\n",
      "[91]\tvalidation_0-rmse:21.90958\tvalidation_1-rmse:21.86456\n",
      "[92]\tvalidation_0-rmse:21.86795\tvalidation_1-rmse:21.82285\n",
      "[93]\tvalidation_0-rmse:21.81495\tvalidation_1-rmse:21.76865\n",
      "[94]\tvalidation_0-rmse:21.76890\tvalidation_1-rmse:21.72320\n",
      "[95]\tvalidation_0-rmse:21.73427\tvalidation_1-rmse:21.68882\n",
      "[96]\tvalidation_0-rmse:21.70191\tvalidation_1-rmse:21.65676\n",
      "[97]\tvalidation_0-rmse:21.66510\tvalidation_1-rmse:21.62004\n",
      "[98]\tvalidation_0-rmse:21.62552\tvalidation_1-rmse:21.58037\n",
      "[99]\tvalidation_0-rmse:21.59783\tvalidation_1-rmse:21.55277\n",
      "[100]\tvalidation_0-rmse:21.55334\tvalidation_1-rmse:21.50803\n",
      "[101]\tvalidation_0-rmse:21.51457\tvalidation_1-rmse:21.46941\n",
      "[102]\tvalidation_0-rmse:21.47240\tvalidation_1-rmse:21.42704\n",
      "[103]\tvalidation_0-rmse:21.44715\tvalidation_1-rmse:21.40167\n",
      "[104]\tvalidation_0-rmse:21.41588\tvalidation_1-rmse:21.37051\n",
      "[105]\tvalidation_0-rmse:21.38116\tvalidation_1-rmse:21.33608\n",
      "[106]\tvalidation_0-rmse:21.35720\tvalidation_1-rmse:21.31184\n",
      "[107]\tvalidation_0-rmse:21.33369\tvalidation_1-rmse:21.28872\n",
      "[108]\tvalidation_0-rmse:21.29599\tvalidation_1-rmse:21.25057\n",
      "[109]\tvalidation_0-rmse:21.26030\tvalidation_1-rmse:21.21402\n",
      "[110]\tvalidation_0-rmse:21.23286\tvalidation_1-rmse:21.18702\n",
      "[111]\tvalidation_0-rmse:21.20140\tvalidation_1-rmse:21.15579\n",
      "[112]\tvalidation_0-rmse:21.18066\tvalidation_1-rmse:21.13500\n",
      "[113]\tvalidation_0-rmse:21.15916\tvalidation_1-rmse:21.11401\n",
      "[114]\tvalidation_0-rmse:21.13090\tvalidation_1-rmse:21.08611\n",
      "[115]\tvalidation_0-rmse:21.09816\tvalidation_1-rmse:21.05287\n",
      "[116]\tvalidation_0-rmse:21.06846\tvalidation_1-rmse:21.02310\n",
      "[117]\tvalidation_0-rmse:21.05065\tvalidation_1-rmse:21.00552\n",
      "[118]\tvalidation_0-rmse:21.01975\tvalidation_1-rmse:20.97437\n",
      "[119]\tvalidation_0-rmse:20.99096\tvalidation_1-rmse:20.94525\n",
      "[120]\tvalidation_0-rmse:20.96986\tvalidation_1-rmse:20.92425\n",
      "[121]\tvalidation_0-rmse:20.94403\tvalidation_1-rmse:20.89908\n",
      "[122]\tvalidation_0-rmse:20.92273\tvalidation_1-rmse:20.87765\n",
      "[123]\tvalidation_0-rmse:20.90578\tvalidation_1-rmse:20.86097\n",
      "[124]\tvalidation_0-rmse:20.87834\tvalidation_1-rmse:20.83312\n",
      "[125]\tvalidation_0-rmse:20.85133\tvalidation_1-rmse:20.80601\n",
      "[126]\tvalidation_0-rmse:20.83066\tvalidation_1-rmse:20.78541\n",
      "[127]\tvalidation_0-rmse:20.81483\tvalidation_1-rmse:20.76939\n",
      "[128]\tvalidation_0-rmse:20.79141\tvalidation_1-rmse:20.74613\n",
      "[129]\tvalidation_0-rmse:20.76598\tvalidation_1-rmse:20.72091\n",
      "[130]\tvalidation_0-rmse:20.74109\tvalidation_1-rmse:20.69570\n",
      "[131]\tvalidation_0-rmse:20.72590\tvalidation_1-rmse:20.68096\n",
      "[132]\tvalidation_0-rmse:20.70494\tvalidation_1-rmse:20.66024\n",
      "[133]\tvalidation_0-rmse:20.68756\tvalidation_1-rmse:20.64308\n",
      "[134]\tvalidation_0-rmse:20.66960\tvalidation_1-rmse:20.62520\n",
      "[135]\tvalidation_0-rmse:20.64660\tvalidation_1-rmse:20.60242\n"
     ]
    },
    {
     "name": "stdout",
     "output_type": "stream",
     "text": [
      "[136]\tvalidation_0-rmse:20.62426\tvalidation_1-rmse:20.57976\n",
      "[137]\tvalidation_0-rmse:20.60963\tvalidation_1-rmse:20.56504\n",
      "[138]\tvalidation_0-rmse:20.59024\tvalidation_1-rmse:20.54538\n",
      "[139]\tvalidation_0-rmse:20.57721\tvalidation_1-rmse:20.53245\n",
      "[140]\tvalidation_0-rmse:20.55685\tvalidation_1-rmse:20.51140\n",
      "[141]\tvalidation_0-rmse:20.53632\tvalidation_1-rmse:20.49091\n",
      "[142]\tvalidation_0-rmse:20.52026\tvalidation_1-rmse:20.47513\n",
      "[143]\tvalidation_0-rmse:20.50753\tvalidation_1-rmse:20.46265\n",
      "[144]\tvalidation_0-rmse:20.49188\tvalidation_1-rmse:20.44737\n",
      "[145]\tvalidation_0-rmse:20.47230\tvalidation_1-rmse:20.42802\n",
      "[146]\tvalidation_0-rmse:20.45845\tvalidation_1-rmse:20.41412\n",
      "[147]\tvalidation_0-rmse:20.44012\tvalidation_1-rmse:20.39607\n",
      "[148]\tvalidation_0-rmse:20.42687\tvalidation_1-rmse:20.38293\n",
      "[149]\tvalidation_0-rmse:20.40793\tvalidation_1-rmse:20.36420\n",
      "[150]\tvalidation_0-rmse:20.38968\tvalidation_1-rmse:20.34640\n",
      "[151]\tvalidation_0-rmse:20.37274\tvalidation_1-rmse:20.32864\n",
      "[152]\tvalidation_0-rmse:20.36037\tvalidation_1-rmse:20.31685\n",
      "[153]\tvalidation_0-rmse:20.34709\tvalidation_1-rmse:20.30389\n",
      "[154]\tvalidation_0-rmse:20.33753\tvalidation_1-rmse:20.29415\n",
      "[155]\tvalidation_0-rmse:20.32003\tvalidation_1-rmse:20.27639\n",
      "[156]\tvalidation_0-rmse:20.31049\tvalidation_1-rmse:20.26672\n",
      "[157]\tvalidation_0-rmse:20.29397\tvalidation_1-rmse:20.25006\n",
      "[158]\tvalidation_0-rmse:20.27799\tvalidation_1-rmse:20.23418\n",
      "[159]\tvalidation_0-rmse:20.26471\tvalidation_1-rmse:20.22101\n",
      "[160]\tvalidation_0-rmse:20.24940\tvalidation_1-rmse:20.20599\n",
      "[161]\tvalidation_0-rmse:20.24079\tvalidation_1-rmse:20.19736\n",
      "[162]\tvalidation_0-rmse:20.22847\tvalidation_1-rmse:20.18475\n",
      "[163]\tvalidation_0-rmse:20.21390\tvalidation_1-rmse:20.17007\n",
      "[164]\tvalidation_0-rmse:20.19955\tvalidation_1-rmse:20.15602\n",
      "[165]\tvalidation_0-rmse:20.18574\tvalidation_1-rmse:20.14206\n",
      "[166]\tvalidation_0-rmse:20.17149\tvalidation_1-rmse:20.12807\n",
      "[167]\tvalidation_0-rmse:20.16230\tvalidation_1-rmse:20.11880\n",
      "[168]\tvalidation_0-rmse:20.15423\tvalidation_1-rmse:20.11054\n",
      "[169]\tvalidation_0-rmse:20.14237\tvalidation_1-rmse:20.09849\n",
      "[170]\tvalidation_0-rmse:20.12909\tvalidation_1-rmse:20.08547\n",
      "[171]\tvalidation_0-rmse:20.11389\tvalidation_1-rmse:20.07040\n",
      "[172]\tvalidation_0-rmse:20.10128\tvalidation_1-rmse:20.05763\n",
      "[173]\tvalidation_0-rmse:20.09270\tvalidation_1-rmse:20.04946\n",
      "[174]\tvalidation_0-rmse:20.08587\tvalidation_1-rmse:20.04280\n",
      "[175]\tvalidation_0-rmse:20.07690\tvalidation_1-rmse:20.03379\n",
      "[176]\tvalidation_0-rmse:20.06469\tvalidation_1-rmse:20.02159\n",
      "[177]\tvalidation_0-rmse:20.05253\tvalidation_1-rmse:20.00961\n",
      "[178]\tvalidation_0-rmse:20.04046\tvalidation_1-rmse:19.99747\n",
      "[179]\tvalidation_0-rmse:20.03138\tvalidation_1-rmse:19.98806\n",
      "[180]\tvalidation_0-rmse:20.02232\tvalidation_1-rmse:19.97951\n",
      "[181]\tvalidation_0-rmse:20.01151\tvalidation_1-rmse:19.96860\n",
      "[182]\tvalidation_0-rmse:19.99988\tvalidation_1-rmse:19.95718\n",
      "[183]\tvalidation_0-rmse:19.99361\tvalidation_1-rmse:19.95074\n",
      "[184]\tvalidation_0-rmse:19.98254\tvalidation_1-rmse:19.94005\n",
      "[185]\tvalidation_0-rmse:19.97112\tvalidation_1-rmse:19.92830\n",
      "[186]\tvalidation_0-rmse:19.96372\tvalidation_1-rmse:19.92158\n",
      "[187]\tvalidation_0-rmse:19.95299\tvalidation_1-rmse:19.91097\n",
      "[188]\tvalidation_0-rmse:19.94272\tvalidation_1-rmse:19.90053\n",
      "[189]\tvalidation_0-rmse:19.93245\tvalidation_1-rmse:19.89010\n",
      "[190]\tvalidation_0-rmse:19.92244\tvalidation_1-rmse:19.88025\n",
      "[191]\tvalidation_0-rmse:19.91161\tvalidation_1-rmse:19.86934\n",
      "[192]\tvalidation_0-rmse:19.90172\tvalidation_1-rmse:19.85994\n",
      "[193]\tvalidation_0-rmse:19.89430\tvalidation_1-rmse:19.85256\n",
      "[194]\tvalidation_0-rmse:19.88713\tvalidation_1-rmse:19.84529\n",
      "[195]\tvalidation_0-rmse:19.87870\tvalidation_1-rmse:19.83703\n",
      "[196]\tvalidation_0-rmse:19.87249\tvalidation_1-rmse:19.83090\n",
      "[197]\tvalidation_0-rmse:19.86264\tvalidation_1-rmse:19.82155\n",
      "[198]\tvalidation_0-rmse:19.85276\tvalidation_1-rmse:19.81134\n",
      "[199]\tvalidation_0-rmse:19.84326\tvalidation_1-rmse:19.80208\n",
      "[200]\tvalidation_0-rmse:19.83351\tvalidation_1-rmse:19.79264\n",
      "[201]\tvalidation_0-rmse:19.82384\tvalidation_1-rmse:19.78250\n",
      "[202]\tvalidation_0-rmse:19.81487\tvalidation_1-rmse:19.77357\n",
      "[203]\tvalidation_0-rmse:19.80577\tvalidation_1-rmse:19.76461\n",
      "[204]\tvalidation_0-rmse:19.79698\tvalidation_1-rmse:19.75590\n",
      "[205]\tvalidation_0-rmse:19.79156\tvalidation_1-rmse:19.75064\n",
      "[206]\tvalidation_0-rmse:19.78351\tvalidation_1-rmse:19.74242\n",
      "[207]\tvalidation_0-rmse:19.77512\tvalidation_1-rmse:19.73413\n",
      "[208]\tvalidation_0-rmse:19.76901\tvalidation_1-rmse:19.72838\n",
      "[209]\tvalidation_0-rmse:19.76228\tvalidation_1-rmse:19.72192\n",
      "[210]\tvalidation_0-rmse:19.75643\tvalidation_1-rmse:19.71641\n",
      "[211]\tvalidation_0-rmse:19.74701\tvalidation_1-rmse:19.70673\n",
      "[212]\tvalidation_0-rmse:19.73874\tvalidation_1-rmse:19.69861\n",
      "[213]\tvalidation_0-rmse:19.73021\tvalidation_1-rmse:19.68987\n",
      "[214]\tvalidation_0-rmse:19.72549\tvalidation_1-rmse:19.68532\n",
      "[215]\tvalidation_0-rmse:19.71766\tvalidation_1-rmse:19.67722\n",
      "[216]\tvalidation_0-rmse:19.70955\tvalidation_1-rmse:19.66933\n",
      "[217]\tvalidation_0-rmse:19.70182\tvalidation_1-rmse:19.66165\n",
      "[218]\tvalidation_0-rmse:19.69669\tvalidation_1-rmse:19.65656\n",
      "[219]\tvalidation_0-rmse:19.68891\tvalidation_1-rmse:19.64871\n",
      "[220]\tvalidation_0-rmse:19.68025\tvalidation_1-rmse:19.64009\n",
      "[221]\tvalidation_0-rmse:19.67285\tvalidation_1-rmse:19.63282\n",
      "[222]\tvalidation_0-rmse:19.66597\tvalidation_1-rmse:19.62583\n",
      "[223]\tvalidation_0-rmse:19.65873\tvalidation_1-rmse:19.61903\n",
      "[224]\tvalidation_0-rmse:19.65176\tvalidation_1-rmse:19.61169\n",
      "[225]\tvalidation_0-rmse:19.64672\tvalidation_1-rmse:19.60686\n",
      "[226]\tvalidation_0-rmse:19.63862\tvalidation_1-rmse:19.59859\n",
      "[227]\tvalidation_0-rmse:19.63270\tvalidation_1-rmse:19.59288\n",
      "[228]\tvalidation_0-rmse:19.62788\tvalidation_1-rmse:19.58808\n",
      "[229]\tvalidation_0-rmse:19.62073\tvalidation_1-rmse:19.58116\n",
      "[230]\tvalidation_0-rmse:19.61523\tvalidation_1-rmse:19.57528\n",
      "[231]\tvalidation_0-rmse:19.60819\tvalidation_1-rmse:19.56855\n",
      "[232]\tvalidation_0-rmse:19.59891\tvalidation_1-rmse:19.55886\n",
      "[233]\tvalidation_0-rmse:19.59263\tvalidation_1-rmse:19.55251\n",
      "[234]\tvalidation_0-rmse:19.58594\tvalidation_1-rmse:19.54593\n",
      "[235]\tvalidation_0-rmse:19.58147\tvalidation_1-rmse:19.54139\n",
      "[236]\tvalidation_0-rmse:19.57498\tvalidation_1-rmse:19.53509\n",
      "[237]\tvalidation_0-rmse:19.56890\tvalidation_1-rmse:19.52908\n",
      "[238]\tvalidation_0-rmse:19.56277\tvalidation_1-rmse:19.52315\n",
      "[239]\tvalidation_0-rmse:19.55791\tvalidation_1-rmse:19.51827\n",
      "[240]\tvalidation_0-rmse:19.55208\tvalidation_1-rmse:19.51204\n",
      "[241]\tvalidation_0-rmse:19.54624\tvalidation_1-rmse:19.50656\n",
      "[242]\tvalidation_0-rmse:19.54044\tvalidation_1-rmse:19.50113\n",
      "[243]\tvalidation_0-rmse:19.53464\tvalidation_1-rmse:19.49510\n",
      "[244]\tvalidation_0-rmse:19.52967\tvalidation_1-rmse:19.49015\n",
      "[245]\tvalidation_0-rmse:19.52310\tvalidation_1-rmse:19.48349\n",
      "[246]\tvalidation_0-rmse:19.51930\tvalidation_1-rmse:19.47956\n",
      "[247]\tvalidation_0-rmse:19.51337\tvalidation_1-rmse:19.47398\n",
      "[248]\tvalidation_0-rmse:19.50810\tvalidation_1-rmse:19.46864\n",
      "[249]\tvalidation_0-rmse:19.50235\tvalidation_1-rmse:19.46269\n",
      "[250]\tvalidation_0-rmse:19.49739\tvalidation_1-rmse:19.45764\n",
      "[251]\tvalidation_0-rmse:19.49281\tvalidation_1-rmse:19.45336\n",
      "[252]\tvalidation_0-rmse:19.48743\tvalidation_1-rmse:19.44820\n",
      "[253]\tvalidation_0-rmse:19.48202\tvalidation_1-rmse:19.44289\n",
      "[254]\tvalidation_0-rmse:19.47666\tvalidation_1-rmse:19.43749\n",
      "[255]\tvalidation_0-rmse:19.47331\tvalidation_1-rmse:19.43464\n",
      "[256]\tvalidation_0-rmse:19.46702\tvalidation_1-rmse:19.42794\n",
      "[257]\tvalidation_0-rmse:19.46146\tvalidation_1-rmse:19.42242\n",
      "[258]\tvalidation_0-rmse:19.45654\tvalidation_1-rmse:19.41765\n",
      "[259]\tvalidation_0-rmse:19.45094\tvalidation_1-rmse:19.41194\n",
      "[260]\tvalidation_0-rmse:19.44792\tvalidation_1-rmse:19.40893\n",
      "[261]\tvalidation_0-rmse:19.44328\tvalidation_1-rmse:19.40441\n",
      "[262]\tvalidation_0-rmse:19.43854\tvalidation_1-rmse:19.39961\n",
      "[263]\tvalidation_0-rmse:19.43114\tvalidation_1-rmse:19.39231\n",
      "[264]\tvalidation_0-rmse:19.42690\tvalidation_1-rmse:19.38842\n",
      "[265]\tvalidation_0-rmse:19.42209\tvalidation_1-rmse:19.38368\n",
      "[266]\tvalidation_0-rmse:19.41760\tvalidation_1-rmse:19.37912\n",
      "[267]\tvalidation_0-rmse:19.41290\tvalidation_1-rmse:19.37431\n",
      "[268]\tvalidation_0-rmse:19.40828\tvalidation_1-rmse:19.36987\n",
      "[269]\tvalidation_0-rmse:19.40348\tvalidation_1-rmse:19.36493\n",
      "[270]\tvalidation_0-rmse:19.39945\tvalidation_1-rmse:19.36077\n",
      "[271]\tvalidation_0-rmse:19.39532\tvalidation_1-rmse:19.35667\n",
      "[272]\tvalidation_0-rmse:19.39068\tvalidation_1-rmse:19.35205\n"
     ]
    },
    {
     "name": "stdout",
     "output_type": "stream",
     "text": [
      "[273]\tvalidation_0-rmse:19.38820\tvalidation_1-rmse:19.34936\n",
      "[274]\tvalidation_0-rmse:19.38393\tvalidation_1-rmse:19.34545\n",
      "[275]\tvalidation_0-rmse:19.37972\tvalidation_1-rmse:19.34102\n",
      "[276]\tvalidation_0-rmse:19.37529\tvalidation_1-rmse:19.33695\n",
      "[277]\tvalidation_0-rmse:19.37119\tvalidation_1-rmse:19.33275\n",
      "[278]\tvalidation_0-rmse:19.36675\tvalidation_1-rmse:19.32824\n",
      "[279]\tvalidation_0-rmse:19.36204\tvalidation_1-rmse:19.32357\n",
      "[280]\tvalidation_0-rmse:19.35810\tvalidation_1-rmse:19.31973\n",
      "[281]\tvalidation_0-rmse:19.35488\tvalidation_1-rmse:19.31638\n",
      "[282]\tvalidation_0-rmse:19.35225\tvalidation_1-rmse:19.31387\n",
      "[283]\tvalidation_0-rmse:19.34839\tvalidation_1-rmse:19.31035\n",
      "[284]\tvalidation_0-rmse:19.34477\tvalidation_1-rmse:19.30646\n",
      "[285]\tvalidation_0-rmse:19.33985\tvalidation_1-rmse:19.30162\n",
      "[286]\tvalidation_0-rmse:19.33614\tvalidation_1-rmse:19.29793\n",
      "[287]\tvalidation_0-rmse:19.33357\tvalidation_1-rmse:19.29551\n",
      "[288]\tvalidation_0-rmse:19.32986\tvalidation_1-rmse:19.29170\n",
      "[289]\tvalidation_0-rmse:19.32619\tvalidation_1-rmse:19.28826\n",
      "[290]\tvalidation_0-rmse:19.32260\tvalidation_1-rmse:19.28472\n",
      "[291]\tvalidation_0-rmse:19.31890\tvalidation_1-rmse:19.28108\n",
      "[292]\tvalidation_0-rmse:19.31550\tvalidation_1-rmse:19.27760\n",
      "[293]\tvalidation_0-rmse:19.31079\tvalidation_1-rmse:19.27317\n",
      "[294]\tvalidation_0-rmse:19.30434\tvalidation_1-rmse:19.26637\n",
      "[295]\tvalidation_0-rmse:19.30081\tvalidation_1-rmse:19.26312\n",
      "[296]\tvalidation_0-rmse:19.29779\tvalidation_1-rmse:19.26012\n",
      "[297]\tvalidation_0-rmse:19.29559\tvalidation_1-rmse:19.25770\n",
      "[298]\tvalidation_0-rmse:19.29219\tvalidation_1-rmse:19.25442\n",
      "[299]\tvalidation_0-rmse:19.28847\tvalidation_1-rmse:19.25081\n",
      "[300]\tvalidation_0-rmse:19.28546\tvalidation_1-rmse:19.24771\n",
      "[301]\tvalidation_0-rmse:19.28152\tvalidation_1-rmse:19.24365\n",
      "[302]\tvalidation_0-rmse:19.27623\tvalidation_1-rmse:19.23843\n",
      "[303]\tvalidation_0-rmse:19.27287\tvalidation_1-rmse:19.23515\n",
      "[304]\tvalidation_0-rmse:19.26969\tvalidation_1-rmse:19.23211\n",
      "[305]\tvalidation_0-rmse:19.26693\tvalidation_1-rmse:19.22967\n",
      "[306]\tvalidation_0-rmse:19.26170\tvalidation_1-rmse:19.22420\n",
      "[307]\tvalidation_0-rmse:19.25842\tvalidation_1-rmse:19.22094\n",
      "[308]\tvalidation_0-rmse:19.25572\tvalidation_1-rmse:19.21829\n",
      "[309]\tvalidation_0-rmse:19.25254\tvalidation_1-rmse:19.21541\n",
      "[310]\tvalidation_0-rmse:19.24965\tvalidation_1-rmse:19.21250\n",
      "[311]\tvalidation_0-rmse:19.24706\tvalidation_1-rmse:19.20971\n",
      "[312]\tvalidation_0-rmse:19.24423\tvalidation_1-rmse:19.20693\n",
      "[313]\tvalidation_0-rmse:19.24107\tvalidation_1-rmse:19.20375\n",
      "[314]\tvalidation_0-rmse:19.23913\tvalidation_1-rmse:19.20169\n",
      "[315]\tvalidation_0-rmse:19.23690\tvalidation_1-rmse:19.19973\n",
      "[316]\tvalidation_0-rmse:19.23451\tvalidation_1-rmse:19.19729\n",
      "[317]\tvalidation_0-rmse:19.23167\tvalidation_1-rmse:19.19472\n",
      "[318]\tvalidation_0-rmse:19.22884\tvalidation_1-rmse:19.19194\n",
      "[319]\tvalidation_0-rmse:19.22542\tvalidation_1-rmse:19.18855\n",
      "[320]\tvalidation_0-rmse:19.22179\tvalidation_1-rmse:19.18502\n",
      "[321]\tvalidation_0-rmse:19.21912\tvalidation_1-rmse:19.18225\n",
      "[322]\tvalidation_0-rmse:19.21632\tvalidation_1-rmse:19.17960\n",
      "[323]\tvalidation_0-rmse:19.21332\tvalidation_1-rmse:19.17651\n",
      "[324]\tvalidation_0-rmse:19.21023\tvalidation_1-rmse:19.17342\n",
      "[325]\tvalidation_0-rmse:19.20767\tvalidation_1-rmse:19.17088\n",
      "[326]\tvalidation_0-rmse:19.20582\tvalidation_1-rmse:19.16902\n",
      "[327]\tvalidation_0-rmse:19.20320\tvalidation_1-rmse:19.16633\n",
      "[328]\tvalidation_0-rmse:19.20050\tvalidation_1-rmse:19.16349\n",
      "[329]\tvalidation_0-rmse:19.19789\tvalidation_1-rmse:19.16108\n",
      "[330]\tvalidation_0-rmse:19.19500\tvalidation_1-rmse:19.15824\n",
      "[331]\tvalidation_0-rmse:19.19252\tvalidation_1-rmse:19.15593\n",
      "[332]\tvalidation_0-rmse:19.19004\tvalidation_1-rmse:19.15336\n",
      "[333]\tvalidation_0-rmse:19.18759\tvalidation_1-rmse:19.15092\n",
      "[334]\tvalidation_0-rmse:19.18525\tvalidation_1-rmse:19.14851\n",
      "[335]\tvalidation_0-rmse:19.18202\tvalidation_1-rmse:19.14536\n",
      "[336]\tvalidation_0-rmse:19.17964\tvalidation_1-rmse:19.14305\n",
      "[337]\tvalidation_0-rmse:19.17698\tvalidation_1-rmse:19.14051\n",
      "[338]\tvalidation_0-rmse:19.17513\tvalidation_1-rmse:19.13874\n",
      "[339]\tvalidation_0-rmse:19.17250\tvalidation_1-rmse:19.13624\n",
      "[340]\tvalidation_0-rmse:19.17075\tvalidation_1-rmse:19.13465\n",
      "[341]\tvalidation_0-rmse:19.16853\tvalidation_1-rmse:19.13246\n",
      "[342]\tvalidation_0-rmse:19.16578\tvalidation_1-rmse:19.12976\n",
      "[343]\tvalidation_0-rmse:19.16207\tvalidation_1-rmse:19.12594\n",
      "[344]\tvalidation_0-rmse:19.15967\tvalidation_1-rmse:19.12336\n",
      "[345]\tvalidation_0-rmse:19.15621\tvalidation_1-rmse:19.12035\n",
      "[346]\tvalidation_0-rmse:19.15478\tvalidation_1-rmse:19.11900\n",
      "[347]\tvalidation_0-rmse:19.15262\tvalidation_1-rmse:19.11688\n",
      "[348]\tvalidation_0-rmse:19.15048\tvalidation_1-rmse:19.11468\n",
      "[349]\tvalidation_0-rmse:19.14808\tvalidation_1-rmse:19.11241\n",
      "[350]\tvalidation_0-rmse:19.14569\tvalidation_1-rmse:19.11010\n",
      "[351]\tvalidation_0-rmse:19.14332\tvalidation_1-rmse:19.10786\n",
      "[352]\tvalidation_0-rmse:19.14128\tvalidation_1-rmse:19.10566\n",
      "[353]\tvalidation_0-rmse:19.13876\tvalidation_1-rmse:19.10325\n",
      "[354]\tvalidation_0-rmse:19.13702\tvalidation_1-rmse:19.10166\n",
      "[355]\tvalidation_0-rmse:19.13503\tvalidation_1-rmse:19.09934\n",
      "[356]\tvalidation_0-rmse:19.13354\tvalidation_1-rmse:19.09803\n",
      "[357]\tvalidation_0-rmse:19.13146\tvalidation_1-rmse:19.09607\n",
      "[358]\tvalidation_0-rmse:19.12910\tvalidation_1-rmse:19.09372\n",
      "[359]\tvalidation_0-rmse:19.12721\tvalidation_1-rmse:19.09183\n",
      "[360]\tvalidation_0-rmse:19.12517\tvalidation_1-rmse:19.08985\n",
      "[361]\tvalidation_0-rmse:19.12335\tvalidation_1-rmse:19.08800\n",
      "[362]\tvalidation_0-rmse:19.12120\tvalidation_1-rmse:19.08600\n",
      "[363]\tvalidation_0-rmse:19.11975\tvalidation_1-rmse:19.08442\n",
      "[364]\tvalidation_0-rmse:19.11750\tvalidation_1-rmse:19.08243\n",
      "[365]\tvalidation_0-rmse:19.11631\tvalidation_1-rmse:19.08125\n",
      "[366]\tvalidation_0-rmse:19.11449\tvalidation_1-rmse:19.07935\n",
      "[367]\tvalidation_0-rmse:19.11334\tvalidation_1-rmse:19.07817\n",
      "[368]\tvalidation_0-rmse:19.10874\tvalidation_1-rmse:19.07385\n",
      "[369]\tvalidation_0-rmse:19.10682\tvalidation_1-rmse:19.07166\n",
      "[370]\tvalidation_0-rmse:19.10495\tvalidation_1-rmse:19.06992\n",
      "[371]\tvalidation_0-rmse:19.10327\tvalidation_1-rmse:19.06817\n",
      "[372]\tvalidation_0-rmse:19.10079\tvalidation_1-rmse:19.06592\n",
      "[373]\tvalidation_0-rmse:19.09920\tvalidation_1-rmse:19.06414\n",
      "[374]\tvalidation_0-rmse:19.09497\tvalidation_1-rmse:19.05999\n",
      "[375]\tvalidation_0-rmse:19.09286\tvalidation_1-rmse:19.05771\n",
      "[376]\tvalidation_0-rmse:19.09104\tvalidation_1-rmse:19.05612\n",
      "[377]\tvalidation_0-rmse:19.08941\tvalidation_1-rmse:19.05440\n",
      "[378]\tvalidation_0-rmse:19.08806\tvalidation_1-rmse:19.05316\n",
      "[379]\tvalidation_0-rmse:19.08667\tvalidation_1-rmse:19.05178\n",
      "[380]\tvalidation_0-rmse:19.08474\tvalidation_1-rmse:19.04993\n",
      "[381]\tvalidation_0-rmse:19.08069\tvalidation_1-rmse:19.04595\n",
      "[382]\tvalidation_0-rmse:19.07895\tvalidation_1-rmse:19.04414\n",
      "[383]\tvalidation_0-rmse:19.07731\tvalidation_1-rmse:19.04266\n",
      "[384]\tvalidation_0-rmse:19.07613\tvalidation_1-rmse:19.04156\n",
      "[385]\tvalidation_0-rmse:19.07343\tvalidation_1-rmse:19.03858\n",
      "[386]\tvalidation_0-rmse:19.07212\tvalidation_1-rmse:19.03739\n",
      "[387]\tvalidation_0-rmse:19.07107\tvalidation_1-rmse:19.03662\n",
      "[388]\tvalidation_0-rmse:19.06955\tvalidation_1-rmse:19.03480\n",
      "[389]\tvalidation_0-rmse:19.06768\tvalidation_1-rmse:19.03335\n",
      "[390]\tvalidation_0-rmse:19.06668\tvalidation_1-rmse:19.03239\n",
      "[391]\tvalidation_0-rmse:19.06468\tvalidation_1-rmse:19.03040\n",
      "[392]\tvalidation_0-rmse:19.06333\tvalidation_1-rmse:19.02894\n",
      "[393]\tvalidation_0-rmse:19.06180\tvalidation_1-rmse:19.02726\n",
      "[394]\tvalidation_0-rmse:19.05825\tvalidation_1-rmse:19.02393\n",
      "[395]\tvalidation_0-rmse:19.05658\tvalidation_1-rmse:19.02232\n",
      "[396]\tvalidation_0-rmse:19.05505\tvalidation_1-rmse:19.02099\n",
      "[397]\tvalidation_0-rmse:19.05323\tvalidation_1-rmse:19.01913\n",
      "[398]\tvalidation_0-rmse:19.05178\tvalidation_1-rmse:19.01763\n",
      "[399]\tvalidation_0-rmse:19.05035\tvalidation_1-rmse:19.01630\n",
      "[400]\tvalidation_0-rmse:19.04893\tvalidation_1-rmse:19.01466\n",
      "[401]\tvalidation_0-rmse:19.04792\tvalidation_1-rmse:19.01373\n",
      "[402]\tvalidation_0-rmse:19.04671\tvalidation_1-rmse:19.01282\n",
      "[403]\tvalidation_0-rmse:19.04510\tvalidation_1-rmse:19.01111\n",
      "[404]\tvalidation_0-rmse:19.04364\tvalidation_1-rmse:19.00986\n",
      "[405]\tvalidation_0-rmse:19.04215\tvalidation_1-rmse:19.00838\n",
      "[406]\tvalidation_0-rmse:19.04116\tvalidation_1-rmse:19.00737\n",
      "[407]\tvalidation_0-rmse:19.03976\tvalidation_1-rmse:19.00580\n",
      "[408]\tvalidation_0-rmse:19.03769\tvalidation_1-rmse:19.00405\n",
      "[409]\tvalidation_0-rmse:19.03634\tvalidation_1-rmse:19.00266\n"
     ]
    },
    {
     "name": "stdout",
     "output_type": "stream",
     "text": [
      "[410]\tvalidation_0-rmse:19.03535\tvalidation_1-rmse:19.00166\n",
      "[411]\tvalidation_0-rmse:19.03244\tvalidation_1-rmse:18.99891\n",
      "[412]\tvalidation_0-rmse:19.03134\tvalidation_1-rmse:18.99799\n",
      "[413]\tvalidation_0-rmse:19.03008\tvalidation_1-rmse:18.99666\n",
      "[414]\tvalidation_0-rmse:19.02871\tvalidation_1-rmse:18.99534\n",
      "[415]\tvalidation_0-rmse:19.02614\tvalidation_1-rmse:18.99256\n",
      "[416]\tvalidation_0-rmse:19.02461\tvalidation_1-rmse:18.99120\n",
      "[417]\tvalidation_0-rmse:19.02395\tvalidation_1-rmse:18.99043\n",
      "[418]\tvalidation_0-rmse:19.02327\tvalidation_1-rmse:18.98975\n",
      "[419]\tvalidation_0-rmse:19.02175\tvalidation_1-rmse:18.98842\n",
      "[420]\tvalidation_0-rmse:19.01914\tvalidation_1-rmse:18.98614\n",
      "[421]\tvalidation_0-rmse:19.01796\tvalidation_1-rmse:18.98503\n",
      "[422]\tvalidation_0-rmse:19.01677\tvalidation_1-rmse:18.98373\n",
      "[423]\tvalidation_0-rmse:19.01482\tvalidation_1-rmse:18.98192\n",
      "[424]\tvalidation_0-rmse:19.01357\tvalidation_1-rmse:18.98080\n",
      "[425]\tvalidation_0-rmse:19.01238\tvalidation_1-rmse:18.97959\n",
      "[426]\tvalidation_0-rmse:19.01115\tvalidation_1-rmse:18.97852\n",
      "[427]\tvalidation_0-rmse:19.00994\tvalidation_1-rmse:18.97720\n",
      "[428]\tvalidation_0-rmse:19.00886\tvalidation_1-rmse:18.97626\n",
      "[429]\tvalidation_0-rmse:19.00802\tvalidation_1-rmse:18.97547\n",
      "[430]\tvalidation_0-rmse:19.00691\tvalidation_1-rmse:18.97422\n",
      "[431]\tvalidation_0-rmse:19.00472\tvalidation_1-rmse:18.97197\n",
      "[432]\tvalidation_0-rmse:19.00407\tvalidation_1-rmse:18.97135\n",
      "[433]\tvalidation_0-rmse:19.00292\tvalidation_1-rmse:18.97030\n",
      "[434]\tvalidation_0-rmse:19.00073\tvalidation_1-rmse:18.96835\n",
      "[435]\tvalidation_0-rmse:18.99959\tvalidation_1-rmse:18.96691\n",
      "[436]\tvalidation_0-rmse:18.99881\tvalidation_1-rmse:18.96653\n",
      "[437]\tvalidation_0-rmse:18.99759\tvalidation_1-rmse:18.96525\n",
      "[438]\tvalidation_0-rmse:18.99644\tvalidation_1-rmse:18.96414\n",
      "[439]\tvalidation_0-rmse:18.99516\tvalidation_1-rmse:18.96298\n",
      "[440]\tvalidation_0-rmse:18.99421\tvalidation_1-rmse:18.96198\n",
      "[441]\tvalidation_0-rmse:18.99302\tvalidation_1-rmse:18.96088\n",
      "[442]\tvalidation_0-rmse:18.99120\tvalidation_1-rmse:18.95912\n",
      "[443]\tvalidation_0-rmse:18.99028\tvalidation_1-rmse:18.95817\n",
      "[444]\tvalidation_0-rmse:18.98932\tvalidation_1-rmse:18.95724\n",
      "[445]\tvalidation_0-rmse:18.98822\tvalidation_1-rmse:18.95611\n",
      "[446]\tvalidation_0-rmse:18.98726\tvalidation_1-rmse:18.95529\n",
      "[447]\tvalidation_0-rmse:18.98624\tvalidation_1-rmse:18.95415\n",
      "[448]\tvalidation_0-rmse:18.98549\tvalidation_1-rmse:18.95345\n",
      "[449]\tvalidation_0-rmse:18.98441\tvalidation_1-rmse:18.95239\n",
      "[450]\tvalidation_0-rmse:18.98340\tvalidation_1-rmse:18.95139\n",
      "[451]\tvalidation_0-rmse:18.98238\tvalidation_1-rmse:18.95036\n",
      "[452]\tvalidation_0-rmse:18.98138\tvalidation_1-rmse:18.94939\n",
      "[453]\tvalidation_0-rmse:18.98030\tvalidation_1-rmse:18.94826\n",
      "[454]\tvalidation_0-rmse:18.97957\tvalidation_1-rmse:18.94770\n",
      "[455]\tvalidation_0-rmse:18.97862\tvalidation_1-rmse:18.94669\n",
      "[456]\tvalidation_0-rmse:18.97668\tvalidation_1-rmse:18.94491\n",
      "[457]\tvalidation_0-rmse:18.97610\tvalidation_1-rmse:18.94437\n",
      "[458]\tvalidation_0-rmse:18.97512\tvalidation_1-rmse:18.94336\n",
      "[459]\tvalidation_0-rmse:18.97413\tvalidation_1-rmse:18.94239\n",
      "[460]\tvalidation_0-rmse:18.97253\tvalidation_1-rmse:18.94087\n",
      "[461]\tvalidation_0-rmse:18.97192\tvalidation_1-rmse:18.94041\n",
      "[462]\tvalidation_0-rmse:18.97099\tvalidation_1-rmse:18.93947\n",
      "[463]\tvalidation_0-rmse:18.97048\tvalidation_1-rmse:18.93894\n",
      "[464]\tvalidation_0-rmse:18.96965\tvalidation_1-rmse:18.93793\n",
      "[465]\tvalidation_0-rmse:18.96858\tvalidation_1-rmse:18.93713\n",
      "[466]\tvalidation_0-rmse:18.96701\tvalidation_1-rmse:18.93550\n",
      "[467]\tvalidation_0-rmse:18.96577\tvalidation_1-rmse:18.93435\n",
      "[468]\tvalidation_0-rmse:18.96495\tvalidation_1-rmse:18.93347\n",
      "[469]\tvalidation_0-rmse:18.96391\tvalidation_1-rmse:18.93267\n",
      "[470]\tvalidation_0-rmse:18.96310\tvalidation_1-rmse:18.93174\n",
      "[471]\tvalidation_0-rmse:18.96246\tvalidation_1-rmse:18.93119\n",
      "[472]\tvalidation_0-rmse:18.96206\tvalidation_1-rmse:18.93083\n",
      "[473]\tvalidation_0-rmse:18.96107\tvalidation_1-rmse:18.92984\n",
      "[474]\tvalidation_0-rmse:18.96018\tvalidation_1-rmse:18.92923\n",
      "[475]\tvalidation_0-rmse:18.95881\tvalidation_1-rmse:18.92769\n",
      "[476]\tvalidation_0-rmse:18.95766\tvalidation_1-rmse:18.92667\n",
      "[477]\tvalidation_0-rmse:18.95673\tvalidation_1-rmse:18.92575\n",
      "[478]\tvalidation_0-rmse:18.95593\tvalidation_1-rmse:18.92498\n",
      "[479]\tvalidation_0-rmse:18.95499\tvalidation_1-rmse:18.92409\n",
      "[480]\tvalidation_0-rmse:18.95459\tvalidation_1-rmse:18.92374\n",
      "[481]\tvalidation_0-rmse:18.95416\tvalidation_1-rmse:18.92338\n",
      "[482]\tvalidation_0-rmse:18.95359\tvalidation_1-rmse:18.92285\n",
      "[483]\tvalidation_0-rmse:18.95233\tvalidation_1-rmse:18.92143\n",
      "[484]\tvalidation_0-rmse:18.95112\tvalidation_1-rmse:18.92028\n",
      "[485]\tvalidation_0-rmse:18.95038\tvalidation_1-rmse:18.91957\n",
      "[486]\tvalidation_0-rmse:18.94957\tvalidation_1-rmse:18.91893\n",
      "[487]\tvalidation_0-rmse:18.94876\tvalidation_1-rmse:18.91812\n",
      "[488]\tvalidation_0-rmse:18.94813\tvalidation_1-rmse:18.91755\n",
      "[489]\tvalidation_0-rmse:18.94731\tvalidation_1-rmse:18.91681\n",
      "[490]\tvalidation_0-rmse:18.94652\tvalidation_1-rmse:18.91620\n",
      "[491]\tvalidation_0-rmse:18.94580\tvalidation_1-rmse:18.91534\n",
      "[492]\tvalidation_0-rmse:18.94511\tvalidation_1-rmse:18.91452\n",
      "[493]\tvalidation_0-rmse:18.94426\tvalidation_1-rmse:18.91390\n",
      "[494]\tvalidation_0-rmse:18.94352\tvalidation_1-rmse:18.91317\n",
      "[495]\tvalidation_0-rmse:18.94231\tvalidation_1-rmse:18.91202\n",
      "[496]\tvalidation_0-rmse:18.94155\tvalidation_1-rmse:18.91114\n",
      "[497]\tvalidation_0-rmse:18.94107\tvalidation_1-rmse:18.91080\n",
      "[498]\tvalidation_0-rmse:18.94034\tvalidation_1-rmse:18.91019\n",
      "[499]\tvalidation_0-rmse:18.93975\tvalidation_1-rmse:18.90953\n",
      "[500]\tvalidation_0-rmse:18.93911\tvalidation_1-rmse:18.90907\n",
      "[501]\tvalidation_0-rmse:18.93850\tvalidation_1-rmse:18.90833\n",
      "[502]\tvalidation_0-rmse:18.93809\tvalidation_1-rmse:18.90780\n",
      "[503]\tvalidation_0-rmse:18.93739\tvalidation_1-rmse:18.90718\n",
      "[504]\tvalidation_0-rmse:18.93689\tvalidation_1-rmse:18.90686\n",
      "[505]\tvalidation_0-rmse:18.93611\tvalidation_1-rmse:18.90631\n",
      "[506]\tvalidation_0-rmse:18.93521\tvalidation_1-rmse:18.90524\n",
      "[507]\tvalidation_0-rmse:18.93446\tvalidation_1-rmse:18.90461\n",
      "[508]\tvalidation_0-rmse:18.93395\tvalidation_1-rmse:18.90391\n",
      "[509]\tvalidation_0-rmse:18.93313\tvalidation_1-rmse:18.90330\n",
      "[510]\tvalidation_0-rmse:18.93255\tvalidation_1-rmse:18.90257\n",
      "[511]\tvalidation_0-rmse:18.93185\tvalidation_1-rmse:18.90204\n",
      "[512]\tvalidation_0-rmse:18.93148\tvalidation_1-rmse:18.90185\n",
      "[513]\tvalidation_0-rmse:18.93111\tvalidation_1-rmse:18.90156\n",
      "[514]\tvalidation_0-rmse:18.93008\tvalidation_1-rmse:18.90048\n",
      "[515]\tvalidation_0-rmse:18.92931\tvalidation_1-rmse:18.89989\n",
      "[516]\tvalidation_0-rmse:18.92879\tvalidation_1-rmse:18.89936\n",
      "[517]\tvalidation_0-rmse:18.92808\tvalidation_1-rmse:18.89862\n",
      "[518]\tvalidation_0-rmse:18.92744\tvalidation_1-rmse:18.89797\n",
      "[519]\tvalidation_0-rmse:18.92696\tvalidation_1-rmse:18.89755\n",
      "[520]\tvalidation_0-rmse:18.92641\tvalidation_1-rmse:18.89683\n",
      "[521]\tvalidation_0-rmse:18.92567\tvalidation_1-rmse:18.89628\n",
      "[522]\tvalidation_0-rmse:18.92511\tvalidation_1-rmse:18.89566\n",
      "[523]\tvalidation_0-rmse:18.92450\tvalidation_1-rmse:18.89519\n",
      "[524]\tvalidation_0-rmse:18.92408\tvalidation_1-rmse:18.89480\n",
      "[525]\tvalidation_0-rmse:18.92348\tvalidation_1-rmse:18.89411\n",
      "[526]\tvalidation_0-rmse:18.92290\tvalidation_1-rmse:18.89358\n",
      "[527]\tvalidation_0-rmse:18.92224\tvalidation_1-rmse:18.89300\n",
      "[528]\tvalidation_0-rmse:18.92189\tvalidation_1-rmse:18.89288\n",
      "[529]\tvalidation_0-rmse:18.92153\tvalidation_1-rmse:18.89259\n",
      "[530]\tvalidation_0-rmse:18.92085\tvalidation_1-rmse:18.89198\n",
      "[531]\tvalidation_0-rmse:18.92009\tvalidation_1-rmse:18.89105\n",
      "[532]\tvalidation_0-rmse:18.91942\tvalidation_1-rmse:18.89043\n",
      "[533]\tvalidation_0-rmse:18.91899\tvalidation_1-rmse:18.89014\n",
      "[534]\tvalidation_0-rmse:18.91841\tvalidation_1-rmse:18.88961\n",
      "[535]\tvalidation_0-rmse:18.91786\tvalidation_1-rmse:18.88906\n",
      "[536]\tvalidation_0-rmse:18.91705\tvalidation_1-rmse:18.88838\n",
      "[537]\tvalidation_0-rmse:18.91635\tvalidation_1-rmse:18.88774\n",
      "[538]\tvalidation_0-rmse:18.91591\tvalidation_1-rmse:18.88733\n",
      "[539]\tvalidation_0-rmse:18.91561\tvalidation_1-rmse:18.88709\n",
      "[540]\tvalidation_0-rmse:18.91506\tvalidation_1-rmse:18.88652\n",
      "[541]\tvalidation_0-rmse:18.91472\tvalidation_1-rmse:18.88627\n",
      "[542]\tvalidation_0-rmse:18.91407\tvalidation_1-rmse:18.88567\n",
      "[543]\tvalidation_0-rmse:18.91368\tvalidation_1-rmse:18.88517\n",
      "[544]\tvalidation_0-rmse:18.91314\tvalidation_1-rmse:18.88467\n",
      "[545]\tvalidation_0-rmse:18.91271\tvalidation_1-rmse:18.88438\n",
      "[546]\tvalidation_0-rmse:18.91227\tvalidation_1-rmse:18.88386\n"
     ]
    },
    {
     "name": "stdout",
     "output_type": "stream",
     "text": [
      "[547]\tvalidation_0-rmse:18.91167\tvalidation_1-rmse:18.88343\n",
      "[548]\tvalidation_0-rmse:18.91091\tvalidation_1-rmse:18.88257\n",
      "[549]\tvalidation_0-rmse:18.91054\tvalidation_1-rmse:18.88231\n",
      "[550]\tvalidation_0-rmse:18.91014\tvalidation_1-rmse:18.88188\n",
      "[551]\tvalidation_0-rmse:18.90973\tvalidation_1-rmse:18.88152\n",
      "[552]\tvalidation_0-rmse:18.90909\tvalidation_1-rmse:18.88085\n",
      "[553]\tvalidation_0-rmse:18.90880\tvalidation_1-rmse:18.88060\n",
      "[554]\tvalidation_0-rmse:18.90837\tvalidation_1-rmse:18.88021\n",
      "[555]\tvalidation_0-rmse:18.90776\tvalidation_1-rmse:18.87953\n",
      "[556]\tvalidation_0-rmse:18.90742\tvalidation_1-rmse:18.87914\n",
      "[557]\tvalidation_0-rmse:18.90691\tvalidation_1-rmse:18.87884\n",
      "[558]\tvalidation_0-rmse:18.90646\tvalidation_1-rmse:18.87842\n",
      "[559]\tvalidation_0-rmse:18.90590\tvalidation_1-rmse:18.87795\n",
      "[560]\tvalidation_0-rmse:18.90559\tvalidation_1-rmse:18.87774\n",
      "[561]\tvalidation_0-rmse:18.90521\tvalidation_1-rmse:18.87735\n",
      "[562]\tvalidation_0-rmse:18.90463\tvalidation_1-rmse:18.87683\n",
      "[563]\tvalidation_0-rmse:18.90408\tvalidation_1-rmse:18.87630\n",
      "[564]\tvalidation_0-rmse:18.90349\tvalidation_1-rmse:18.87592\n",
      "[565]\tvalidation_0-rmse:18.90316\tvalidation_1-rmse:18.87552\n",
      "[566]\tvalidation_0-rmse:18.90275\tvalidation_1-rmse:18.87535\n",
      "[567]\tvalidation_0-rmse:18.90254\tvalidation_1-rmse:18.87512\n",
      "[568]\tvalidation_0-rmse:18.90214\tvalidation_1-rmse:18.87465\n",
      "[569]\tvalidation_0-rmse:18.90189\tvalidation_1-rmse:18.87445\n",
      "[570]\tvalidation_0-rmse:18.90162\tvalidation_1-rmse:18.87425\n",
      "[571]\tvalidation_0-rmse:18.90124\tvalidation_1-rmse:18.87400\n",
      "[572]\tvalidation_0-rmse:18.90078\tvalidation_1-rmse:18.87360\n",
      "[573]\tvalidation_0-rmse:18.90023\tvalidation_1-rmse:18.87288\n",
      "[574]\tvalidation_0-rmse:18.89976\tvalidation_1-rmse:18.87261\n",
      "[575]\tvalidation_0-rmse:18.89941\tvalidation_1-rmse:18.87193\n",
      "[576]\tvalidation_0-rmse:18.89894\tvalidation_1-rmse:18.87154\n",
      "[577]\tvalidation_0-rmse:18.89842\tvalidation_1-rmse:18.87108\n",
      "[578]\tvalidation_0-rmse:18.89806\tvalidation_1-rmse:18.87066\n",
      "[579]\tvalidation_0-rmse:18.89768\tvalidation_1-rmse:18.87030\n",
      "[580]\tvalidation_0-rmse:18.89715\tvalidation_1-rmse:18.86982\n",
      "[581]\tvalidation_0-rmse:18.89669\tvalidation_1-rmse:18.86944\n",
      "[582]\tvalidation_0-rmse:18.89638\tvalidation_1-rmse:18.86908\n",
      "[583]\tvalidation_0-rmse:18.89612\tvalidation_1-rmse:18.86896\n",
      "[584]\tvalidation_0-rmse:18.89568\tvalidation_1-rmse:18.86845\n",
      "[585]\tvalidation_0-rmse:18.89516\tvalidation_1-rmse:18.86805\n",
      "[586]\tvalidation_0-rmse:18.89502\tvalidation_1-rmse:18.86781\n",
      "[587]\tvalidation_0-rmse:18.89462\tvalidation_1-rmse:18.86735\n",
      "[588]\tvalidation_0-rmse:18.89436\tvalidation_1-rmse:18.86705\n",
      "[589]\tvalidation_0-rmse:18.89394\tvalidation_1-rmse:18.86697\n",
      "[590]\tvalidation_0-rmse:18.89350\tvalidation_1-rmse:18.86638\n",
      "[591]\tvalidation_0-rmse:18.89327\tvalidation_1-rmse:18.86613\n",
      "[592]\tvalidation_0-rmse:18.89281\tvalidation_1-rmse:18.86582\n",
      "[593]\tvalidation_0-rmse:18.89266\tvalidation_1-rmse:18.86568\n",
      "[594]\tvalidation_0-rmse:18.89221\tvalidation_1-rmse:18.86545\n",
      "[595]\tvalidation_0-rmse:18.89174\tvalidation_1-rmse:18.86483\n",
      "[596]\tvalidation_0-rmse:18.89141\tvalidation_1-rmse:18.86454\n",
      "[597]\tvalidation_0-rmse:18.89104\tvalidation_1-rmse:18.86396\n",
      "[598]\tvalidation_0-rmse:18.89050\tvalidation_1-rmse:18.86367\n",
      "[599]\tvalidation_0-rmse:18.89014\tvalidation_1-rmse:18.86317\n",
      "[600]\tvalidation_0-rmse:18.88971\tvalidation_1-rmse:18.86274\n",
      "[601]\tvalidation_0-rmse:18.88937\tvalidation_1-rmse:18.86240\n",
      "[602]\tvalidation_0-rmse:18.88908\tvalidation_1-rmse:18.86214\n",
      "[603]\tvalidation_0-rmse:18.88860\tvalidation_1-rmse:18.86195\n",
      "[604]\tvalidation_0-rmse:18.88836\tvalidation_1-rmse:18.86174\n",
      "[605]\tvalidation_0-rmse:18.88793\tvalidation_1-rmse:18.86151\n",
      "[606]\tvalidation_0-rmse:18.88776\tvalidation_1-rmse:18.86121\n",
      "[607]\tvalidation_0-rmse:18.88738\tvalidation_1-rmse:18.86090\n",
      "[608]\tvalidation_0-rmse:18.88715\tvalidation_1-rmse:18.86078\n",
      "[609]\tvalidation_0-rmse:18.88663\tvalidation_1-rmse:18.86047\n",
      "[610]\tvalidation_0-rmse:18.88628\tvalidation_1-rmse:18.86015\n",
      "[611]\tvalidation_0-rmse:18.88586\tvalidation_1-rmse:18.85991\n",
      "[612]\tvalidation_0-rmse:18.88557\tvalidation_1-rmse:18.85940\n",
      "[613]\tvalidation_0-rmse:18.88511\tvalidation_1-rmse:18.85913\n",
      "[614]\tvalidation_0-rmse:18.88494\tvalidation_1-rmse:18.85902\n",
      "[615]\tvalidation_0-rmse:18.88473\tvalidation_1-rmse:18.85887\n",
      "[616]\tvalidation_0-rmse:18.88431\tvalidation_1-rmse:18.85850\n",
      "[617]\tvalidation_0-rmse:18.88402\tvalidation_1-rmse:18.85817\n",
      "[618]\tvalidation_0-rmse:18.88372\tvalidation_1-rmse:18.85791\n",
      "[619]\tvalidation_0-rmse:18.88334\tvalidation_1-rmse:18.85760\n",
      "[620]\tvalidation_0-rmse:18.88304\tvalidation_1-rmse:18.85745\n",
      "[621]\tvalidation_0-rmse:18.88278\tvalidation_1-rmse:18.85705\n",
      "[622]\tvalidation_0-rmse:18.88255\tvalidation_1-rmse:18.85689\n",
      "[623]\tvalidation_0-rmse:18.88230\tvalidation_1-rmse:18.85670\n",
      "[624]\tvalidation_0-rmse:18.88204\tvalidation_1-rmse:18.85640\n",
      "[625]\tvalidation_0-rmse:18.88159\tvalidation_1-rmse:18.85611\n",
      "[626]\tvalidation_0-rmse:18.88124\tvalidation_1-rmse:18.85577\n",
      "[627]\tvalidation_0-rmse:18.88092\tvalidation_1-rmse:18.85543\n",
      "[628]\tvalidation_0-rmse:18.88070\tvalidation_1-rmse:18.85513\n",
      "[629]\tvalidation_0-rmse:18.88042\tvalidation_1-rmse:18.85475\n",
      "[630]\tvalidation_0-rmse:18.88021\tvalidation_1-rmse:18.85459\n",
      "[631]\tvalidation_0-rmse:18.87979\tvalidation_1-rmse:18.85434\n",
      "[632]\tvalidation_0-rmse:18.87952\tvalidation_1-rmse:18.85397\n",
      "[633]\tvalidation_0-rmse:18.87927\tvalidation_1-rmse:18.85379\n",
      "[634]\tvalidation_0-rmse:18.87888\tvalidation_1-rmse:18.85349\n",
      "[635]\tvalidation_0-rmse:18.87856\tvalidation_1-rmse:18.85327\n",
      "[636]\tvalidation_0-rmse:18.87820\tvalidation_1-rmse:18.85288\n",
      "[637]\tvalidation_0-rmse:18.87789\tvalidation_1-rmse:18.85264\n",
      "[638]\tvalidation_0-rmse:18.87770\tvalidation_1-rmse:18.85248\n",
      "[639]\tvalidation_0-rmse:18.87736\tvalidation_1-rmse:18.85202\n",
      "[640]\tvalidation_0-rmse:18.87721\tvalidation_1-rmse:18.85196\n",
      "[641]\tvalidation_0-rmse:18.87709\tvalidation_1-rmse:18.85180\n",
      "[642]\tvalidation_0-rmse:18.87673\tvalidation_1-rmse:18.85160\n",
      "[643]\tvalidation_0-rmse:18.87638\tvalidation_1-rmse:18.85143\n",
      "[644]\tvalidation_0-rmse:18.87624\tvalidation_1-rmse:18.85105\n",
      "[645]\tvalidation_0-rmse:18.87598\tvalidation_1-rmse:18.85080\n",
      "[646]\tvalidation_0-rmse:18.87563\tvalidation_1-rmse:18.85041\n",
      "[647]\tvalidation_0-rmse:18.87531\tvalidation_1-rmse:18.85026\n",
      "[648]\tvalidation_0-rmse:18.87501\tvalidation_1-rmse:18.85003\n",
      "[649]\tvalidation_0-rmse:18.87474\tvalidation_1-rmse:18.84982\n",
      "[650]\tvalidation_0-rmse:18.87455\tvalidation_1-rmse:18.84972\n",
      "[651]\tvalidation_0-rmse:18.87436\tvalidation_1-rmse:18.84941\n",
      "[652]\tvalidation_0-rmse:18.87404\tvalidation_1-rmse:18.84926\n",
      "[653]\tvalidation_0-rmse:18.87377\tvalidation_1-rmse:18.84884\n",
      "[654]\tvalidation_0-rmse:18.87359\tvalidation_1-rmse:18.84863\n",
      "[655]\tvalidation_0-rmse:18.87325\tvalidation_1-rmse:18.84832\n",
      "[656]\tvalidation_0-rmse:18.87300\tvalidation_1-rmse:18.84812\n",
      "[657]\tvalidation_0-rmse:18.87267\tvalidation_1-rmse:18.84793\n",
      "[658]\tvalidation_0-rmse:18.87248\tvalidation_1-rmse:18.84761\n",
      "[659]\tvalidation_0-rmse:18.87219\tvalidation_1-rmse:18.84741\n",
      "[660]\tvalidation_0-rmse:18.87203\tvalidation_1-rmse:18.84719\n",
      "[661]\tvalidation_0-rmse:18.87182\tvalidation_1-rmse:18.84710\n",
      "[662]\tvalidation_0-rmse:18.87144\tvalidation_1-rmse:18.84689\n",
      "[663]\tvalidation_0-rmse:18.87116\tvalidation_1-rmse:18.84657\n",
      "[664]\tvalidation_0-rmse:18.87081\tvalidation_1-rmse:18.84626\n",
      "[665]\tvalidation_0-rmse:18.87057\tvalidation_1-rmse:18.84596\n",
      "[666]\tvalidation_0-rmse:18.87038\tvalidation_1-rmse:18.84576\n",
      "[667]\tvalidation_0-rmse:18.87014\tvalidation_1-rmse:18.84569\n",
      "[668]\tvalidation_0-rmse:18.86993\tvalidation_1-rmse:18.84546\n",
      "[669]\tvalidation_0-rmse:18.86979\tvalidation_1-rmse:18.84532\n",
      "[670]\tvalidation_0-rmse:18.86952\tvalidation_1-rmse:18.84498\n",
      "[671]\tvalidation_0-rmse:18.86931\tvalidation_1-rmse:18.84489\n",
      "[672]\tvalidation_0-rmse:18.86910\tvalidation_1-rmse:18.84465\n",
      "[673]\tvalidation_0-rmse:18.86874\tvalidation_1-rmse:18.84425\n",
      "[674]\tvalidation_0-rmse:18.86858\tvalidation_1-rmse:18.84413\n",
      "[675]\tvalidation_0-rmse:18.86834\tvalidation_1-rmse:18.84386\n",
      "[676]\tvalidation_0-rmse:18.86815\tvalidation_1-rmse:18.84366\n",
      "[677]\tvalidation_0-rmse:18.86785\tvalidation_1-rmse:18.84335\n",
      "[678]\tvalidation_0-rmse:18.86761\tvalidation_1-rmse:18.84329\n",
      "[679]\tvalidation_0-rmse:18.86742\tvalidation_1-rmse:18.84307\n",
      "[680]\tvalidation_0-rmse:18.86716\tvalidation_1-rmse:18.84285\n",
      "[681]\tvalidation_0-rmse:18.86687\tvalidation_1-rmse:18.84269\n",
      "[682]\tvalidation_0-rmse:18.86679\tvalidation_1-rmse:18.84255\n",
      "[683]\tvalidation_0-rmse:18.86644\tvalidation_1-rmse:18.84225\n"
     ]
    },
    {
     "name": "stdout",
     "output_type": "stream",
     "text": [
      "[684]\tvalidation_0-rmse:18.86617\tvalidation_1-rmse:18.84209\n",
      "[685]\tvalidation_0-rmse:18.86595\tvalidation_1-rmse:18.84167\n",
      "[686]\tvalidation_0-rmse:18.86577\tvalidation_1-rmse:18.84159\n",
      "[687]\tvalidation_0-rmse:18.86552\tvalidation_1-rmse:18.84139\n",
      "[688]\tvalidation_0-rmse:18.86525\tvalidation_1-rmse:18.84127\n",
      "[689]\tvalidation_0-rmse:18.86503\tvalidation_1-rmse:18.84101\n",
      "[690]\tvalidation_0-rmse:18.86493\tvalidation_1-rmse:18.84088\n",
      "[691]\tvalidation_0-rmse:18.86461\tvalidation_1-rmse:18.84061\n",
      "[692]\tvalidation_0-rmse:18.86441\tvalidation_1-rmse:18.84043\n",
      "[693]\tvalidation_0-rmse:18.86409\tvalidation_1-rmse:18.84020\n",
      "[694]\tvalidation_0-rmse:18.86390\tvalidation_1-rmse:18.84009\n",
      "[695]\tvalidation_0-rmse:18.86380\tvalidation_1-rmse:18.83997\n",
      "[696]\tvalidation_0-rmse:18.86349\tvalidation_1-rmse:18.83959\n",
      "[697]\tvalidation_0-rmse:18.86327\tvalidation_1-rmse:18.83950\n",
      "[698]\tvalidation_0-rmse:18.86309\tvalidation_1-rmse:18.83941\n",
      "[699]\tvalidation_0-rmse:18.86294\tvalidation_1-rmse:18.83916\n",
      "[700]\tvalidation_0-rmse:18.86260\tvalidation_1-rmse:18.83902\n",
      "[701]\tvalidation_0-rmse:18.86247\tvalidation_1-rmse:18.83872\n",
      "[702]\tvalidation_0-rmse:18.86217\tvalidation_1-rmse:18.83856\n",
      "[703]\tvalidation_0-rmse:18.86198\tvalidation_1-rmse:18.83837\n",
      "[704]\tvalidation_0-rmse:18.86186\tvalidation_1-rmse:18.83816\n",
      "[705]\tvalidation_0-rmse:18.86162\tvalidation_1-rmse:18.83795\n",
      "[706]\tvalidation_0-rmse:18.86145\tvalidation_1-rmse:18.83783\n",
      "[707]\tvalidation_0-rmse:18.86121\tvalidation_1-rmse:18.83761\n",
      "[708]\tvalidation_0-rmse:18.86105\tvalidation_1-rmse:18.83748\n",
      "[709]\tvalidation_0-rmse:18.86083\tvalidation_1-rmse:18.83733\n",
      "[710]\tvalidation_0-rmse:18.86065\tvalidation_1-rmse:18.83713\n",
      "[711]\tvalidation_0-rmse:18.86050\tvalidation_1-rmse:18.83698\n",
      "[712]\tvalidation_0-rmse:18.86022\tvalidation_1-rmse:18.83679\n",
      "[713]\tvalidation_0-rmse:18.86011\tvalidation_1-rmse:18.83655\n",
      "[714]\tvalidation_0-rmse:18.85975\tvalidation_1-rmse:18.83632\n",
      "[715]\tvalidation_0-rmse:18.85955\tvalidation_1-rmse:18.83622\n",
      "[716]\tvalidation_0-rmse:18.85940\tvalidation_1-rmse:18.83601\n",
      "[717]\tvalidation_0-rmse:18.85924\tvalidation_1-rmse:18.83598\n",
      "[718]\tvalidation_0-rmse:18.85916\tvalidation_1-rmse:18.83585\n",
      "[719]\tvalidation_0-rmse:18.85896\tvalidation_1-rmse:18.83568\n",
      "[720]\tvalidation_0-rmse:18.85876\tvalidation_1-rmse:18.83546\n",
      "[721]\tvalidation_0-rmse:18.85859\tvalidation_1-rmse:18.83526\n",
      "[722]\tvalidation_0-rmse:18.85833\tvalidation_1-rmse:18.83511\n",
      "[723]\tvalidation_0-rmse:18.85817\tvalidation_1-rmse:18.83493\n",
      "[724]\tvalidation_0-rmse:18.85805\tvalidation_1-rmse:18.83491\n",
      "[725]\tvalidation_0-rmse:18.85786\tvalidation_1-rmse:18.83478\n",
      "[726]\tvalidation_0-rmse:18.85759\tvalidation_1-rmse:18.83453\n",
      "[727]\tvalidation_0-rmse:18.85742\tvalidation_1-rmse:18.83439\n",
      "[728]\tvalidation_0-rmse:18.85720\tvalidation_1-rmse:18.83435\n",
      "[729]\tvalidation_0-rmse:18.85698\tvalidation_1-rmse:18.83413\n",
      "[730]\tvalidation_0-rmse:18.85686\tvalidation_1-rmse:18.83403\n",
      "[731]\tvalidation_0-rmse:18.85674\tvalidation_1-rmse:18.83387\n",
      "[732]\tvalidation_0-rmse:18.85646\tvalidation_1-rmse:18.83377\n",
      "[733]\tvalidation_0-rmse:18.85621\tvalidation_1-rmse:18.83350\n",
      "[734]\tvalidation_0-rmse:18.85597\tvalidation_1-rmse:18.83348\n",
      "[735]\tvalidation_0-rmse:18.85591\tvalidation_1-rmse:18.83335\n",
      "[736]\tvalidation_0-rmse:18.85580\tvalidation_1-rmse:18.83327\n",
      "[737]\tvalidation_0-rmse:18.85547\tvalidation_1-rmse:18.83301\n",
      "[738]\tvalidation_0-rmse:18.85539\tvalidation_1-rmse:18.83289\n",
      "[739]\tvalidation_0-rmse:18.85515\tvalidation_1-rmse:18.83274\n",
      "[740]\tvalidation_0-rmse:18.85502\tvalidation_1-rmse:18.83250\n",
      "[741]\tvalidation_0-rmse:18.85484\tvalidation_1-rmse:18.83232\n",
      "[742]\tvalidation_0-rmse:18.85468\tvalidation_1-rmse:18.83215\n",
      "[743]\tvalidation_0-rmse:18.85451\tvalidation_1-rmse:18.83198\n",
      "[744]\tvalidation_0-rmse:18.85435\tvalidation_1-rmse:18.83187\n",
      "[745]\tvalidation_0-rmse:18.85411\tvalidation_1-rmse:18.83176\n",
      "[746]\tvalidation_0-rmse:18.85397\tvalidation_1-rmse:18.83171\n",
      "[747]\tvalidation_0-rmse:18.85376\tvalidation_1-rmse:18.83145\n",
      "[748]\tvalidation_0-rmse:18.85360\tvalidation_1-rmse:18.83131\n",
      "[749]\tvalidation_0-rmse:18.85347\tvalidation_1-rmse:18.83120\n",
      "[750]\tvalidation_0-rmse:18.85323\tvalidation_1-rmse:18.83098\n",
      "[751]\tvalidation_0-rmse:18.85305\tvalidation_1-rmse:18.83087\n",
      "[752]\tvalidation_0-rmse:18.85293\tvalidation_1-rmse:18.83072\n",
      "[753]\tvalidation_0-rmse:18.85270\tvalidation_1-rmse:18.83055\n",
      "[754]\tvalidation_0-rmse:18.85258\tvalidation_1-rmse:18.83047\n",
      "[755]\tvalidation_0-rmse:18.85246\tvalidation_1-rmse:18.83043\n",
      "[756]\tvalidation_0-rmse:18.85236\tvalidation_1-rmse:18.83021\n",
      "[757]\tvalidation_0-rmse:18.85213\tvalidation_1-rmse:18.83009\n",
      "[758]\tvalidation_0-rmse:18.85213\tvalidation_1-rmse:18.82984\n",
      "[759]\tvalidation_0-rmse:18.85191\tvalidation_1-rmse:18.82982\n",
      "[760]\tvalidation_0-rmse:18.85175\tvalidation_1-rmse:18.82958\n",
      "[761]\tvalidation_0-rmse:18.85162\tvalidation_1-rmse:18.82961\n",
      "[762]\tvalidation_0-rmse:18.85149\tvalidation_1-rmse:18.82937\n",
      "[763]\tvalidation_0-rmse:18.85124\tvalidation_1-rmse:18.82928\n",
      "[764]\tvalidation_0-rmse:18.85103\tvalidation_1-rmse:18.82905\n",
      "[765]\tvalidation_0-rmse:18.85092\tvalidation_1-rmse:18.82891\n",
      "[766]\tvalidation_0-rmse:18.85078\tvalidation_1-rmse:18.82877\n",
      "[767]\tvalidation_0-rmse:18.85076\tvalidation_1-rmse:18.82870\n",
      "[768]\tvalidation_0-rmse:18.85049\tvalidation_1-rmse:18.82858\n",
      "[769]\tvalidation_0-rmse:18.85031\tvalidation_1-rmse:18.82845\n",
      "[770]\tvalidation_0-rmse:18.85017\tvalidation_1-rmse:18.82824\n",
      "[771]\tvalidation_0-rmse:18.85010\tvalidation_1-rmse:18.82820\n",
      "[772]\tvalidation_0-rmse:18.84994\tvalidation_1-rmse:18.82814\n",
      "[773]\tvalidation_0-rmse:18.84970\tvalidation_1-rmse:18.82803\n",
      "[774]\tvalidation_0-rmse:18.84964\tvalidation_1-rmse:18.82793\n",
      "[775]\tvalidation_0-rmse:18.84940\tvalidation_1-rmse:18.82782\n",
      "[776]\tvalidation_0-rmse:18.84922\tvalidation_1-rmse:18.82763\n",
      "[777]\tvalidation_0-rmse:18.84915\tvalidation_1-rmse:18.82752\n",
      "[778]\tvalidation_0-rmse:18.84895\tvalidation_1-rmse:18.82741\n",
      "[779]\tvalidation_0-rmse:18.84886\tvalidation_1-rmse:18.82721\n",
      "[780]\tvalidation_0-rmse:18.84870\tvalidation_1-rmse:18.82709\n",
      "[781]\tvalidation_0-rmse:18.84846\tvalidation_1-rmse:18.82700\n",
      "[782]\tvalidation_0-rmse:18.84839\tvalidation_1-rmse:18.82698\n",
      "[783]\tvalidation_0-rmse:18.84833\tvalidation_1-rmse:18.82681\n",
      "[784]\tvalidation_0-rmse:18.84821\tvalidation_1-rmse:18.82669\n",
      "[785]\tvalidation_0-rmse:18.84806\tvalidation_1-rmse:18.82659\n",
      "[786]\tvalidation_0-rmse:18.84788\tvalidation_1-rmse:18.82646\n",
      "[787]\tvalidation_0-rmse:18.84769\tvalidation_1-rmse:18.82632\n",
      "[788]\tvalidation_0-rmse:18.84760\tvalidation_1-rmse:18.82624\n",
      "[789]\tvalidation_0-rmse:18.84750\tvalidation_1-rmse:18.82614\n",
      "[790]\tvalidation_0-rmse:18.84733\tvalidation_1-rmse:18.82607\n",
      "[791]\tvalidation_0-rmse:18.84727\tvalidation_1-rmse:18.82592\n",
      "[792]\tvalidation_0-rmse:18.84703\tvalidation_1-rmse:18.82584\n",
      "[793]\tvalidation_0-rmse:18.84688\tvalidation_1-rmse:18.82572\n",
      "[794]\tvalidation_0-rmse:18.84675\tvalidation_1-rmse:18.82554\n",
      "[795]\tvalidation_0-rmse:18.84669\tvalidation_1-rmse:18.82538\n",
      "[796]\tvalidation_0-rmse:18.84658\tvalidation_1-rmse:18.82530\n",
      "[797]\tvalidation_0-rmse:18.84630\tvalidation_1-rmse:18.82498\n",
      "[798]\tvalidation_0-rmse:18.84630\tvalidation_1-rmse:18.82497\n",
      "[799]\tvalidation_0-rmse:18.84604\tvalidation_1-rmse:18.82479\n",
      "[800]\tvalidation_0-rmse:18.84592\tvalidation_1-rmse:18.82475\n",
      "[801]\tvalidation_0-rmse:18.84588\tvalidation_1-rmse:18.82470\n",
      "[802]\tvalidation_0-rmse:18.84571\tvalidation_1-rmse:18.82461\n",
      "[803]\tvalidation_0-rmse:18.84561\tvalidation_1-rmse:18.82455\n",
      "[804]\tvalidation_0-rmse:18.84543\tvalidation_1-rmse:18.82455\n",
      "[805]\tvalidation_0-rmse:18.84536\tvalidation_1-rmse:18.82435\n",
      "[806]\tvalidation_0-rmse:18.84524\tvalidation_1-rmse:18.82433\n",
      "[807]\tvalidation_0-rmse:18.84516\tvalidation_1-rmse:18.82423\n",
      "[808]\tvalidation_0-rmse:18.84493\tvalidation_1-rmse:18.82420\n",
      "[809]\tvalidation_0-rmse:18.84483\tvalidation_1-rmse:18.82399\n",
      "[810]\tvalidation_0-rmse:18.84473\tvalidation_1-rmse:18.82398\n",
      "[811]\tvalidation_0-rmse:18.84457\tvalidation_1-rmse:18.82390\n",
      "[812]\tvalidation_0-rmse:18.84447\tvalidation_1-rmse:18.82381\n",
      "[813]\tvalidation_0-rmse:18.84432\tvalidation_1-rmse:18.82379\n",
      "[814]\tvalidation_0-rmse:18.84418\tvalidation_1-rmse:18.82369\n",
      "[815]\tvalidation_0-rmse:18.84408\tvalidation_1-rmse:18.82351\n",
      "[816]\tvalidation_0-rmse:18.84387\tvalidation_1-rmse:18.82336\n",
      "[817]\tvalidation_0-rmse:18.84367\tvalidation_1-rmse:18.82327\n",
      "[818]\tvalidation_0-rmse:18.84363\tvalidation_1-rmse:18.82323\n",
      "[819]\tvalidation_0-rmse:18.84352\tvalidation_1-rmse:18.82308\n",
      "[820]\tvalidation_0-rmse:18.84348\tvalidation_1-rmse:18.82305\n"
     ]
    },
    {
     "name": "stdout",
     "output_type": "stream",
     "text": [
      "[821]\tvalidation_0-rmse:18.84333\tvalidation_1-rmse:18.82297\n",
      "[822]\tvalidation_0-rmse:18.84318\tvalidation_1-rmse:18.82294\n",
      "[823]\tvalidation_0-rmse:18.84308\tvalidation_1-rmse:18.82287\n",
      "[824]\tvalidation_0-rmse:18.84290\tvalidation_1-rmse:18.82286\n",
      "[825]\tvalidation_0-rmse:18.84272\tvalidation_1-rmse:18.82284\n",
      "[826]\tvalidation_0-rmse:18.84262\tvalidation_1-rmse:18.82263\n",
      "[827]\tvalidation_0-rmse:18.84260\tvalidation_1-rmse:18.82259\n",
      "[828]\tvalidation_0-rmse:18.84243\tvalidation_1-rmse:18.82246\n",
      "[829]\tvalidation_0-rmse:18.84226\tvalidation_1-rmse:18.82246\n",
      "[830]\tvalidation_0-rmse:18.84214\tvalidation_1-rmse:18.82228\n",
      "[831]\tvalidation_0-rmse:18.84202\tvalidation_1-rmse:18.82219\n",
      "[832]\tvalidation_0-rmse:18.84193\tvalidation_1-rmse:18.82212\n",
      "[833]\tvalidation_0-rmse:18.84179\tvalidation_1-rmse:18.82191\n",
      "[834]\tvalidation_0-rmse:18.84174\tvalidation_1-rmse:18.82191\n",
      "[835]\tvalidation_0-rmse:18.84158\tvalidation_1-rmse:18.82184\n",
      "[836]\tvalidation_0-rmse:18.84153\tvalidation_1-rmse:18.82188\n",
      "[837]\tvalidation_0-rmse:18.84141\tvalidation_1-rmse:18.82176\n",
      "[838]\tvalidation_0-rmse:18.84123\tvalidation_1-rmse:18.82165\n",
      "[839]\tvalidation_0-rmse:18.84122\tvalidation_1-rmse:18.82159\n",
      "[840]\tvalidation_0-rmse:18.84101\tvalidation_1-rmse:18.82146\n",
      "[841]\tvalidation_0-rmse:18.84094\tvalidation_1-rmse:18.82139\n",
      "[842]\tvalidation_0-rmse:18.84084\tvalidation_1-rmse:18.82131\n",
      "[843]\tvalidation_0-rmse:18.84070\tvalidation_1-rmse:18.82116\n",
      "[844]\tvalidation_0-rmse:18.84065\tvalidation_1-rmse:18.82109\n",
      "[845]\tvalidation_0-rmse:18.84048\tvalidation_1-rmse:18.82109\n",
      "[846]\tvalidation_0-rmse:18.84042\tvalidation_1-rmse:18.82102\n",
      "[847]\tvalidation_0-rmse:18.84026\tvalidation_1-rmse:18.82098\n",
      "[848]\tvalidation_0-rmse:18.84021\tvalidation_1-rmse:18.82080\n",
      "[849]\tvalidation_0-rmse:18.84009\tvalidation_1-rmse:18.82081\n",
      "[850]\tvalidation_0-rmse:18.84001\tvalidation_1-rmse:18.82090\n",
      "[851]\tvalidation_0-rmse:18.83992\tvalidation_1-rmse:18.82084\n",
      "[852]\tvalidation_0-rmse:18.83981\tvalidation_1-rmse:18.82056\n",
      "[853]\tvalidation_0-rmse:18.83968\tvalidation_1-rmse:18.82055\n",
      "[854]\tvalidation_0-rmse:18.83970\tvalidation_1-rmse:18.82053\n",
      "[855]\tvalidation_0-rmse:18.83951\tvalidation_1-rmse:18.82041\n",
      "[856]\tvalidation_0-rmse:18.83940\tvalidation_1-rmse:18.82034\n",
      "[857]\tvalidation_0-rmse:18.83931\tvalidation_1-rmse:18.82026\n",
      "[858]\tvalidation_0-rmse:18.83914\tvalidation_1-rmse:18.82009\n",
      "[859]\tvalidation_0-rmse:18.83908\tvalidation_1-rmse:18.82005\n",
      "[860]\tvalidation_0-rmse:18.83896\tvalidation_1-rmse:18.81994\n",
      "[861]\tvalidation_0-rmse:18.83891\tvalidation_1-rmse:18.81987\n",
      "[862]\tvalidation_0-rmse:18.83874\tvalidation_1-rmse:18.81977\n",
      "[863]\tvalidation_0-rmse:18.83867\tvalidation_1-rmse:18.81975\n",
      "[864]\tvalidation_0-rmse:18.83854\tvalidation_1-rmse:18.81970\n",
      "[865]\tvalidation_0-rmse:18.83842\tvalidation_1-rmse:18.81963\n",
      "[866]\tvalidation_0-rmse:18.83836\tvalidation_1-rmse:18.81968\n",
      "[867]\tvalidation_0-rmse:18.83814\tvalidation_1-rmse:18.81951\n",
      "[868]\tvalidation_0-rmse:18.83805\tvalidation_1-rmse:18.81950\n",
      "[869]\tvalidation_0-rmse:18.83793\tvalidation_1-rmse:18.81932\n",
      "[870]\tvalidation_0-rmse:18.83782\tvalidation_1-rmse:18.81930\n",
      "[871]\tvalidation_0-rmse:18.83771\tvalidation_1-rmse:18.81925\n",
      "[872]\tvalidation_0-rmse:18.83770\tvalidation_1-rmse:18.81915\n",
      "[873]\tvalidation_0-rmse:18.83762\tvalidation_1-rmse:18.81907\n",
      "[874]\tvalidation_0-rmse:18.83738\tvalidation_1-rmse:18.81902\n",
      "[875]\tvalidation_0-rmse:18.83731\tvalidation_1-rmse:18.81886\n",
      "[876]\tvalidation_0-rmse:18.83723\tvalidation_1-rmse:18.81887\n",
      "[877]\tvalidation_0-rmse:18.83711\tvalidation_1-rmse:18.81883\n",
      "[878]\tvalidation_0-rmse:18.83700\tvalidation_1-rmse:18.81879\n",
      "[879]\tvalidation_0-rmse:18.83691\tvalidation_1-rmse:18.81880\n",
      "[880]\tvalidation_0-rmse:18.83680\tvalidation_1-rmse:18.81861\n",
      "[881]\tvalidation_0-rmse:18.83672\tvalidation_1-rmse:18.81855\n",
      "[882]\tvalidation_0-rmse:18.83654\tvalidation_1-rmse:18.81844\n",
      "[883]\tvalidation_0-rmse:18.83645\tvalidation_1-rmse:18.81841\n",
      "[884]\tvalidation_0-rmse:18.83642\tvalidation_1-rmse:18.81835\n",
      "[885]\tvalidation_0-rmse:18.83633\tvalidation_1-rmse:18.81833\n",
      "[886]\tvalidation_0-rmse:18.83629\tvalidation_1-rmse:18.81833\n",
      "[887]\tvalidation_0-rmse:18.83608\tvalidation_1-rmse:18.81826\n",
      "[888]\tvalidation_0-rmse:18.83599\tvalidation_1-rmse:18.81813\n",
      "[889]\tvalidation_0-rmse:18.83592\tvalidation_1-rmse:18.81813\n",
      "[890]\tvalidation_0-rmse:18.83581\tvalidation_1-rmse:18.81804\n",
      "[891]\tvalidation_0-rmse:18.83563\tvalidation_1-rmse:18.81805\n",
      "[892]\tvalidation_0-rmse:18.83559\tvalidation_1-rmse:18.81794\n",
      "[893]\tvalidation_0-rmse:18.83546\tvalidation_1-rmse:18.81791\n",
      "[894]\tvalidation_0-rmse:18.83534\tvalidation_1-rmse:18.81777\n",
      "[895]\tvalidation_0-rmse:18.83522\tvalidation_1-rmse:18.81763\n",
      "[896]\tvalidation_0-rmse:18.83513\tvalidation_1-rmse:18.81759\n",
      "[897]\tvalidation_0-rmse:18.83504\tvalidation_1-rmse:18.81755\n",
      "[898]\tvalidation_0-rmse:18.83491\tvalidation_1-rmse:18.81754\n",
      "[899]\tvalidation_0-rmse:18.83484\tvalidation_1-rmse:18.81749\n",
      "[900]\tvalidation_0-rmse:18.83474\tvalidation_1-rmse:18.81743\n",
      "[901]\tvalidation_0-rmse:18.83471\tvalidation_1-rmse:18.81744\n",
      "[902]\tvalidation_0-rmse:18.83456\tvalidation_1-rmse:18.81746\n",
      "[903]\tvalidation_0-rmse:18.83453\tvalidation_1-rmse:18.81741\n",
      "[904]\tvalidation_0-rmse:18.83445\tvalidation_1-rmse:18.81735\n",
      "[905]\tvalidation_0-rmse:18.83418\tvalidation_1-rmse:18.81728\n",
      "[906]\tvalidation_0-rmse:18.83418\tvalidation_1-rmse:18.81718\n",
      "[907]\tvalidation_0-rmse:18.83411\tvalidation_1-rmse:18.81723\n",
      "[908]\tvalidation_0-rmse:18.83410\tvalidation_1-rmse:18.81712\n",
      "[909]\tvalidation_0-rmse:18.83396\tvalidation_1-rmse:18.81711\n",
      "[910]\tvalidation_0-rmse:18.83377\tvalidation_1-rmse:18.81703\n",
      "[911]\tvalidation_0-rmse:18.83375\tvalidation_1-rmse:18.81694\n",
      "[912]\tvalidation_0-rmse:18.83358\tvalidation_1-rmse:18.81686\n",
      "[913]\tvalidation_0-rmse:18.83351\tvalidation_1-rmse:18.81677\n",
      "[914]\tvalidation_0-rmse:18.83345\tvalidation_1-rmse:18.81668\n",
      "[915]\tvalidation_0-rmse:18.83339\tvalidation_1-rmse:18.81662\n",
      "[916]\tvalidation_0-rmse:18.83314\tvalidation_1-rmse:18.81661\n",
      "[917]\tvalidation_0-rmse:18.83307\tvalidation_1-rmse:18.81649\n",
      "[918]\tvalidation_0-rmse:18.83293\tvalidation_1-rmse:18.81647\n",
      "[919]\tvalidation_0-rmse:18.83281\tvalidation_1-rmse:18.81637\n",
      "[920]\tvalidation_0-rmse:18.83273\tvalidation_1-rmse:18.81628\n",
      "[921]\tvalidation_0-rmse:18.83263\tvalidation_1-rmse:18.81622\n",
      "[922]\tvalidation_0-rmse:18.83261\tvalidation_1-rmse:18.81620\n",
      "[923]\tvalidation_0-rmse:18.83252\tvalidation_1-rmse:18.81616\n",
      "[924]\tvalidation_0-rmse:18.83241\tvalidation_1-rmse:18.81599\n",
      "[925]\tvalidation_0-rmse:18.83230\tvalidation_1-rmse:18.81601\n",
      "[926]\tvalidation_0-rmse:18.83224\tvalidation_1-rmse:18.81605\n",
      "[927]\tvalidation_0-rmse:18.83216\tvalidation_1-rmse:18.81600\n",
      "[928]\tvalidation_0-rmse:18.83208\tvalidation_1-rmse:18.81595\n",
      "[929]\tvalidation_0-rmse:18.83193\tvalidation_1-rmse:18.81588\n",
      "[930]\tvalidation_0-rmse:18.83188\tvalidation_1-rmse:18.81582\n",
      "[931]\tvalidation_0-rmse:18.83186\tvalidation_1-rmse:18.81576\n",
      "[932]\tvalidation_0-rmse:18.83174\tvalidation_1-rmse:18.81578\n",
      "[933]\tvalidation_0-rmse:18.83177\tvalidation_1-rmse:18.81565\n",
      "[934]\tvalidation_0-rmse:18.83153\tvalidation_1-rmse:18.81557\n",
      "[935]\tvalidation_0-rmse:18.83149\tvalidation_1-rmse:18.81553\n",
      "[936]\tvalidation_0-rmse:18.83146\tvalidation_1-rmse:18.81549\n",
      "[937]\tvalidation_0-rmse:18.83132\tvalidation_1-rmse:18.81535\n",
      "[938]\tvalidation_0-rmse:18.83123\tvalidation_1-rmse:18.81534\n",
      "[939]\tvalidation_0-rmse:18.83113\tvalidation_1-rmse:18.81524\n",
      "[940]\tvalidation_0-rmse:18.83102\tvalidation_1-rmse:18.81517\n",
      "[941]\tvalidation_0-rmse:18.83101\tvalidation_1-rmse:18.81515\n",
      "[942]\tvalidation_0-rmse:18.83088\tvalidation_1-rmse:18.81510\n",
      "[943]\tvalidation_0-rmse:18.83085\tvalidation_1-rmse:18.81508\n",
      "[944]\tvalidation_0-rmse:18.83076\tvalidation_1-rmse:18.81507\n",
      "[945]\tvalidation_0-rmse:18.83058\tvalidation_1-rmse:18.81501\n",
      "[946]\tvalidation_0-rmse:18.83052\tvalidation_1-rmse:18.81493\n",
      "[947]\tvalidation_0-rmse:18.83034\tvalidation_1-rmse:18.81487\n",
      "[948]\tvalidation_0-rmse:18.83025\tvalidation_1-rmse:18.81491\n",
      "[949]\tvalidation_0-rmse:18.83021\tvalidation_1-rmse:18.81482\n",
      "[950]\tvalidation_0-rmse:18.83010\tvalidation_1-rmse:18.81486\n",
      "[951]\tvalidation_0-rmse:18.83001\tvalidation_1-rmse:18.81481\n",
      "[952]\tvalidation_0-rmse:18.82987\tvalidation_1-rmse:18.81472\n",
      "[953]\tvalidation_0-rmse:18.82972\tvalidation_1-rmse:18.81463\n",
      "[954]\tvalidation_0-rmse:18.82967\tvalidation_1-rmse:18.81461\n",
      "[955]\tvalidation_0-rmse:18.82963\tvalidation_1-rmse:18.81462\n",
      "[956]\tvalidation_0-rmse:18.82949\tvalidation_1-rmse:18.81453\n",
      "[957]\tvalidation_0-rmse:18.82937\tvalidation_1-rmse:18.81438\n"
     ]
    },
    {
     "name": "stdout",
     "output_type": "stream",
     "text": [
      "[958]\tvalidation_0-rmse:18.82931\tvalidation_1-rmse:18.81441\n",
      "[959]\tvalidation_0-rmse:18.82919\tvalidation_1-rmse:18.81437\n",
      "[960]\tvalidation_0-rmse:18.82911\tvalidation_1-rmse:18.81433\n",
      "[961]\tvalidation_0-rmse:18.82908\tvalidation_1-rmse:18.81431\n",
      "[962]\tvalidation_0-rmse:18.82906\tvalidation_1-rmse:18.81426\n",
      "[963]\tvalidation_0-rmse:18.82896\tvalidation_1-rmse:18.81417\n",
      "[964]\tvalidation_0-rmse:18.82887\tvalidation_1-rmse:18.81409\n",
      "[965]\tvalidation_0-rmse:18.82884\tvalidation_1-rmse:18.81409\n",
      "[966]\tvalidation_0-rmse:18.82866\tvalidation_1-rmse:18.81402\n",
      "[967]\tvalidation_0-rmse:18.82861\tvalidation_1-rmse:18.81393\n",
      "[968]\tvalidation_0-rmse:18.82852\tvalidation_1-rmse:18.81389\n",
      "[969]\tvalidation_0-rmse:18.82838\tvalidation_1-rmse:18.81387\n",
      "[970]\tvalidation_0-rmse:18.82834\tvalidation_1-rmse:18.81377\n",
      "[971]\tvalidation_0-rmse:18.82825\tvalidation_1-rmse:18.81375\n",
      "[972]\tvalidation_0-rmse:18.82820\tvalidation_1-rmse:18.81374\n",
      "[973]\tvalidation_0-rmse:18.82809\tvalidation_1-rmse:18.81375\n",
      "[974]\tvalidation_0-rmse:18.82803\tvalidation_1-rmse:18.81369\n",
      "[975]\tvalidation_0-rmse:18.82792\tvalidation_1-rmse:18.81359\n",
      "[976]\tvalidation_0-rmse:18.82765\tvalidation_1-rmse:18.81339\n",
      "[977]\tvalidation_0-rmse:18.82760\tvalidation_1-rmse:18.81335\n",
      "[978]\tvalidation_0-rmse:18.82750\tvalidation_1-rmse:18.81333\n",
      "[979]\tvalidation_0-rmse:18.82743\tvalidation_1-rmse:18.81330\n",
      "[980]\tvalidation_0-rmse:18.82733\tvalidation_1-rmse:18.81321\n",
      "[981]\tvalidation_0-rmse:18.82727\tvalidation_1-rmse:18.81319\n",
      "[982]\tvalidation_0-rmse:18.82719\tvalidation_1-rmse:18.81311\n",
      "[983]\tvalidation_0-rmse:18.82708\tvalidation_1-rmse:18.81306\n",
      "[984]\tvalidation_0-rmse:18.82690\tvalidation_1-rmse:18.81292\n",
      "[985]\tvalidation_0-rmse:18.82689\tvalidation_1-rmse:18.81289\n",
      "[986]\tvalidation_0-rmse:18.82677\tvalidation_1-rmse:18.81290\n",
      "[987]\tvalidation_0-rmse:18.82668\tvalidation_1-rmse:18.81286\n",
      "[988]\tvalidation_0-rmse:18.82658\tvalidation_1-rmse:18.81291\n",
      "[989]\tvalidation_0-rmse:18.82654\tvalidation_1-rmse:18.81285\n",
      "[990]\tvalidation_0-rmse:18.82640\tvalidation_1-rmse:18.81274\n",
      "[991]\tvalidation_0-rmse:18.82641\tvalidation_1-rmse:18.81266\n",
      "[992]\tvalidation_0-rmse:18.82629\tvalidation_1-rmse:18.81262\n",
      "[993]\tvalidation_0-rmse:18.82622\tvalidation_1-rmse:18.81268\n",
      "[994]\tvalidation_0-rmse:18.82618\tvalidation_1-rmse:18.81263\n",
      "[995]\tvalidation_0-rmse:18.82603\tvalidation_1-rmse:18.81258\n",
      "[996]\tvalidation_0-rmse:18.82597\tvalidation_1-rmse:18.81253\n",
      "[997]\tvalidation_0-rmse:18.82585\tvalidation_1-rmse:18.81252\n",
      "[998]\tvalidation_0-rmse:18.82576\tvalidation_1-rmse:18.81245\n",
      "[999]\tvalidation_0-rmse:18.82573\tvalidation_1-rmse:18.81248\n",
      "[1000]\tvalidation_0-rmse:18.82559\tvalidation_1-rmse:18.81245\n",
      "[1001]\tvalidation_0-rmse:18.82555\tvalidation_1-rmse:18.81239\n",
      "[1002]\tvalidation_0-rmse:18.82543\tvalidation_1-rmse:18.81242\n",
      "[1003]\tvalidation_0-rmse:18.82538\tvalidation_1-rmse:18.81237\n",
      "[1004]\tvalidation_0-rmse:18.82534\tvalidation_1-rmse:18.81234\n",
      "[1005]\tvalidation_0-rmse:18.82527\tvalidation_1-rmse:18.81224\n",
      "[1006]\tvalidation_0-rmse:18.82526\tvalidation_1-rmse:18.81215\n",
      "[1007]\tvalidation_0-rmse:18.82511\tvalidation_1-rmse:18.81209\n",
      "[1008]\tvalidation_0-rmse:18.82499\tvalidation_1-rmse:18.81212\n",
      "[1009]\tvalidation_0-rmse:18.82496\tvalidation_1-rmse:18.81210\n",
      "[1010]\tvalidation_0-rmse:18.82482\tvalidation_1-rmse:18.81212\n",
      "[1011]\tvalidation_0-rmse:18.82470\tvalidation_1-rmse:18.81209\n",
      "[1012]\tvalidation_0-rmse:18.82471\tvalidation_1-rmse:18.81201\n",
      "[1013]\tvalidation_0-rmse:18.82463\tvalidation_1-rmse:18.81195\n",
      "[1014]\tvalidation_0-rmse:18.82447\tvalidation_1-rmse:18.81189\n",
      "[1015]\tvalidation_0-rmse:18.82435\tvalidation_1-rmse:18.81181\n",
      "[1016]\tvalidation_0-rmse:18.82432\tvalidation_1-rmse:18.81168\n",
      "[1017]\tvalidation_0-rmse:18.82425\tvalidation_1-rmse:18.81167\n",
      "[1018]\tvalidation_0-rmse:18.82420\tvalidation_1-rmse:18.81160\n",
      "[1019]\tvalidation_0-rmse:18.82413\tvalidation_1-rmse:18.81155\n",
      "[1020]\tvalidation_0-rmse:18.82400\tvalidation_1-rmse:18.81154\n",
      "[1021]\tvalidation_0-rmse:18.82391\tvalidation_1-rmse:18.81152\n",
      "[1022]\tvalidation_0-rmse:18.82387\tvalidation_1-rmse:18.81147\n",
      "[1023]\tvalidation_0-rmse:18.82378\tvalidation_1-rmse:18.81143\n",
      "[1024]\tvalidation_0-rmse:18.82367\tvalidation_1-rmse:18.81142\n",
      "[1025]\tvalidation_0-rmse:18.82363\tvalidation_1-rmse:18.81136\n",
      "[1026]\tvalidation_0-rmse:18.82355\tvalidation_1-rmse:18.81128\n",
      "[1027]\tvalidation_0-rmse:18.82356\tvalidation_1-rmse:18.81120\n",
      "[1028]\tvalidation_0-rmse:18.82346\tvalidation_1-rmse:18.81121\n",
      "[1029]\tvalidation_0-rmse:18.82340\tvalidation_1-rmse:18.81117\n",
      "[1030]\tvalidation_0-rmse:18.82338\tvalidation_1-rmse:18.81116\n",
      "[1031]\tvalidation_0-rmse:18.82325\tvalidation_1-rmse:18.81110\n",
      "[1032]\tvalidation_0-rmse:18.82315\tvalidation_1-rmse:18.81102\n",
      "[1033]\tvalidation_0-rmse:18.82303\tvalidation_1-rmse:18.81094\n",
      "[1034]\tvalidation_0-rmse:18.82294\tvalidation_1-rmse:18.81096\n",
      "[1035]\tvalidation_0-rmse:18.82285\tvalidation_1-rmse:18.81096\n",
      "[1036]\tvalidation_0-rmse:18.82277\tvalidation_1-rmse:18.81092\n",
      "[1037]\tvalidation_0-rmse:18.82270\tvalidation_1-rmse:18.81076\n",
      "[1038]\tvalidation_0-rmse:18.82253\tvalidation_1-rmse:18.81065\n",
      "[1039]\tvalidation_0-rmse:18.82263\tvalidation_1-rmse:18.81057\n",
      "[1040]\tvalidation_0-rmse:18.82243\tvalidation_1-rmse:18.81054\n",
      "[1041]\tvalidation_0-rmse:18.82247\tvalidation_1-rmse:18.81052\n",
      "[1042]\tvalidation_0-rmse:18.82222\tvalidation_1-rmse:18.81037\n",
      "[1043]\tvalidation_0-rmse:18.82225\tvalidation_1-rmse:18.81031\n",
      "[1044]\tvalidation_0-rmse:18.82209\tvalidation_1-rmse:18.81030\n",
      "[1045]\tvalidation_0-rmse:18.82207\tvalidation_1-rmse:18.81030\n",
      "[1046]\tvalidation_0-rmse:18.82196\tvalidation_1-rmse:18.81024\n",
      "[1047]\tvalidation_0-rmse:18.82191\tvalidation_1-rmse:18.81026\n",
      "[1048]\tvalidation_0-rmse:18.82180\tvalidation_1-rmse:18.81025\n",
      "[1049]\tvalidation_0-rmse:18.82171\tvalidation_1-rmse:18.81021\n",
      "[1050]\tvalidation_0-rmse:18.82169\tvalidation_1-rmse:18.81019\n",
      "[1051]\tvalidation_0-rmse:18.82160\tvalidation_1-rmse:18.81017\n",
      "[1052]\tvalidation_0-rmse:18.82145\tvalidation_1-rmse:18.81005\n",
      "[1053]\tvalidation_0-rmse:18.82132\tvalidation_1-rmse:18.81003\n",
      "[1054]\tvalidation_0-rmse:18.82121\tvalidation_1-rmse:18.80992\n",
      "[1055]\tvalidation_0-rmse:18.82118\tvalidation_1-rmse:18.80981\n",
      "[1056]\tvalidation_0-rmse:18.82109\tvalidation_1-rmse:18.80989\n",
      "[1057]\tvalidation_0-rmse:18.82098\tvalidation_1-rmse:18.80985\n",
      "[1058]\tvalidation_0-rmse:18.82091\tvalidation_1-rmse:18.80978\n",
      "[1059]\tvalidation_0-rmse:18.82089\tvalidation_1-rmse:18.80967\n",
      "[1060]\tvalidation_0-rmse:18.82072\tvalidation_1-rmse:18.80962\n",
      "[1061]\tvalidation_0-rmse:18.82064\tvalidation_1-rmse:18.80964\n",
      "[1062]\tvalidation_0-rmse:18.82051\tvalidation_1-rmse:18.80945\n",
      "[1063]\tvalidation_0-rmse:18.82050\tvalidation_1-rmse:18.80945\n",
      "[1064]\tvalidation_0-rmse:18.82039\tvalidation_1-rmse:18.80939\n",
      "[1065]\tvalidation_0-rmse:18.82032\tvalidation_1-rmse:18.80938\n",
      "[1066]\tvalidation_0-rmse:18.82021\tvalidation_1-rmse:18.80935\n",
      "[1067]\tvalidation_0-rmse:18.82020\tvalidation_1-rmse:18.80934\n",
      "[1068]\tvalidation_0-rmse:18.82012\tvalidation_1-rmse:18.80936\n",
      "[1069]\tvalidation_0-rmse:18.82005\tvalidation_1-rmse:18.80938\n",
      "[1070]\tvalidation_0-rmse:18.81999\tvalidation_1-rmse:18.80933\n",
      "[1071]\tvalidation_0-rmse:18.81989\tvalidation_1-rmse:18.80926\n",
      "[1072]\tvalidation_0-rmse:18.81985\tvalidation_1-rmse:18.80924\n",
      "[1073]\tvalidation_0-rmse:18.81979\tvalidation_1-rmse:18.80914\n",
      "[1074]\tvalidation_0-rmse:18.81975\tvalidation_1-rmse:18.80915\n",
      "[1075]\tvalidation_0-rmse:18.81966\tvalidation_1-rmse:18.80906\n",
      "[1076]\tvalidation_0-rmse:18.81956\tvalidation_1-rmse:18.80903\n",
      "[1077]\tvalidation_0-rmse:18.81949\tvalidation_1-rmse:18.80899\n",
      "[1078]\tvalidation_0-rmse:18.81945\tvalidation_1-rmse:18.80896\n",
      "[1079]\tvalidation_0-rmse:18.81937\tvalidation_1-rmse:18.80893\n",
      "[1080]\tvalidation_0-rmse:18.81933\tvalidation_1-rmse:18.80898\n",
      "[1081]\tvalidation_0-rmse:18.81929\tvalidation_1-rmse:18.80899\n",
      "[1082]\tvalidation_0-rmse:18.81923\tvalidation_1-rmse:18.80891\n",
      "[1083]\tvalidation_0-rmse:18.81911\tvalidation_1-rmse:18.80887\n",
      "[1084]\tvalidation_0-rmse:18.81903\tvalidation_1-rmse:18.80877\n",
      "[1085]\tvalidation_0-rmse:18.81896\tvalidation_1-rmse:18.80873\n",
      "[1086]\tvalidation_0-rmse:18.81885\tvalidation_1-rmse:18.80865\n",
      "[1087]\tvalidation_0-rmse:18.81878\tvalidation_1-rmse:18.80860\n",
      "[1088]\tvalidation_0-rmse:18.81870\tvalidation_1-rmse:18.80861\n",
      "[1089]\tvalidation_0-rmse:18.81866\tvalidation_1-rmse:18.80854\n",
      "[1090]\tvalidation_0-rmse:18.81864\tvalidation_1-rmse:18.80850\n",
      "[1091]\tvalidation_0-rmse:18.81861\tvalidation_1-rmse:18.80850\n",
      "[1092]\tvalidation_0-rmse:18.81853\tvalidation_1-rmse:18.80848\n"
     ]
    },
    {
     "name": "stdout",
     "output_type": "stream",
     "text": [
      "[1093]\tvalidation_0-rmse:18.81838\tvalidation_1-rmse:18.80840\n",
      "[1094]\tvalidation_0-rmse:18.81835\tvalidation_1-rmse:18.80840\n",
      "[1095]\tvalidation_0-rmse:18.81830\tvalidation_1-rmse:18.80842\n",
      "[1096]\tvalidation_0-rmse:18.81829\tvalidation_1-rmse:18.80840\n",
      "[1097]\tvalidation_0-rmse:18.81815\tvalidation_1-rmse:18.80837\n",
      "[1098]\tvalidation_0-rmse:18.81803\tvalidation_1-rmse:18.80830\n",
      "[1099]\tvalidation_0-rmse:18.81800\tvalidation_1-rmse:18.80829\n",
      "[1100]\tvalidation_0-rmse:18.81788\tvalidation_1-rmse:18.80827\n",
      "[1101]\tvalidation_0-rmse:18.81780\tvalidation_1-rmse:18.80822\n",
      "[1102]\tvalidation_0-rmse:18.81777\tvalidation_1-rmse:18.80821\n",
      "[1103]\tvalidation_0-rmse:18.81770\tvalidation_1-rmse:18.80820\n",
      "[1104]\tvalidation_0-rmse:18.81768\tvalidation_1-rmse:18.80810\n",
      "[1105]\tvalidation_0-rmse:18.81765\tvalidation_1-rmse:18.80808\n",
      "[1106]\tvalidation_0-rmse:18.81756\tvalidation_1-rmse:18.80801\n",
      "[1107]\tvalidation_0-rmse:18.81742\tvalidation_1-rmse:18.80801\n",
      "[1108]\tvalidation_0-rmse:18.81746\tvalidation_1-rmse:18.80801\n",
      "[1109]\tvalidation_0-rmse:18.81743\tvalidation_1-rmse:18.80796\n",
      "[1110]\tvalidation_0-rmse:18.81729\tvalidation_1-rmse:18.80794\n",
      "[1111]\tvalidation_0-rmse:18.81721\tvalidation_1-rmse:18.80794\n",
      "[1112]\tvalidation_0-rmse:18.81714\tvalidation_1-rmse:18.80792\n",
      "[1113]\tvalidation_0-rmse:18.81710\tvalidation_1-rmse:18.80788\n",
      "[1114]\tvalidation_0-rmse:18.81699\tvalidation_1-rmse:18.80786\n",
      "[1115]\tvalidation_0-rmse:18.81696\tvalidation_1-rmse:18.80779\n",
      "[1116]\tvalidation_0-rmse:18.81692\tvalidation_1-rmse:18.80788\n",
      "[1117]\tvalidation_0-rmse:18.81681\tvalidation_1-rmse:18.80788\n",
      "[1118]\tvalidation_0-rmse:18.81673\tvalidation_1-rmse:18.80780\n",
      "[1119]\tvalidation_0-rmse:18.81667\tvalidation_1-rmse:18.80777\n",
      "[1120]\tvalidation_0-rmse:18.81657\tvalidation_1-rmse:18.80776\n",
      "[1121]\tvalidation_0-rmse:18.81651\tvalidation_1-rmse:18.80774\n",
      "[1122]\tvalidation_0-rmse:18.81648\tvalidation_1-rmse:18.80770\n",
      "[1123]\tvalidation_0-rmse:18.81641\tvalidation_1-rmse:18.80769\n",
      "[1124]\tvalidation_0-rmse:18.81635\tvalidation_1-rmse:18.80767\n",
      "[1125]\tvalidation_0-rmse:18.81628\tvalidation_1-rmse:18.80767\n",
      "[1126]\tvalidation_0-rmse:18.81618\tvalidation_1-rmse:18.80760\n",
      "[1127]\tvalidation_0-rmse:18.81606\tvalidation_1-rmse:18.80749\n",
      "[1128]\tvalidation_0-rmse:18.81600\tvalidation_1-rmse:18.80744\n",
      "[1129]\tvalidation_0-rmse:18.81600\tvalidation_1-rmse:18.80746\n",
      "[1130]\tvalidation_0-rmse:18.81590\tvalidation_1-rmse:18.80737\n",
      "[1131]\tvalidation_0-rmse:18.81583\tvalidation_1-rmse:18.80741\n",
      "[1132]\tvalidation_0-rmse:18.81580\tvalidation_1-rmse:18.80740\n",
      "[1133]\tvalidation_0-rmse:18.81572\tvalidation_1-rmse:18.80740\n",
      "[1134]\tvalidation_0-rmse:18.81562\tvalidation_1-rmse:18.80744\n",
      "[1135]\tvalidation_0-rmse:18.81557\tvalidation_1-rmse:18.80740\n",
      "[1136]\tvalidation_0-rmse:18.81561\tvalidation_1-rmse:18.80732\n",
      "[1137]\tvalidation_0-rmse:18.81545\tvalidation_1-rmse:18.80719\n",
      "[1138]\tvalidation_0-rmse:18.81542\tvalidation_1-rmse:18.80717\n",
      "[1139]\tvalidation_0-rmse:18.81540\tvalidation_1-rmse:18.80721\n",
      "[1140]\tvalidation_0-rmse:18.81526\tvalidation_1-rmse:18.80720\n",
      "[1141]\tvalidation_0-rmse:18.81519\tvalidation_1-rmse:18.80718\n",
      "[1142]\tvalidation_0-rmse:18.81510\tvalidation_1-rmse:18.80711\n",
      "[1143]\tvalidation_0-rmse:18.81513\tvalidation_1-rmse:18.80708\n",
      "[1144]\tvalidation_0-rmse:18.81492\tvalidation_1-rmse:18.80695\n",
      "[1145]\tvalidation_0-rmse:18.81481\tvalidation_1-rmse:18.80699\n",
      "[1146]\tvalidation_0-rmse:18.81480\tvalidation_1-rmse:18.80698\n",
      "[1147]\tvalidation_0-rmse:18.81476\tvalidation_1-rmse:18.80701\n",
      "[1148]\tvalidation_0-rmse:18.81472\tvalidation_1-rmse:18.80703\n",
      "[1149]\tvalidation_0-rmse:18.81471\tvalidation_1-rmse:18.80690\n",
      "[1150]\tvalidation_0-rmse:18.81461\tvalidation_1-rmse:18.80689\n",
      "[1151]\tvalidation_0-rmse:18.81459\tvalidation_1-rmse:18.80683\n",
      "[1152]\tvalidation_0-rmse:18.81449\tvalidation_1-rmse:18.80680\n",
      "[1153]\tvalidation_0-rmse:18.81444\tvalidation_1-rmse:18.80677\n",
      "[1154]\tvalidation_0-rmse:18.81443\tvalidation_1-rmse:18.80680\n",
      "[1155]\tvalidation_0-rmse:18.81436\tvalidation_1-rmse:18.80687\n",
      "[1156]\tvalidation_0-rmse:18.81430\tvalidation_1-rmse:18.80685\n",
      "[1157]\tvalidation_0-rmse:18.81424\tvalidation_1-rmse:18.80683\n",
      "[1158]\tvalidation_0-rmse:18.81413\tvalidation_1-rmse:18.80682\n",
      "[1159]\tvalidation_0-rmse:18.81411\tvalidation_1-rmse:18.80679\n",
      "[1160]\tvalidation_0-rmse:18.81407\tvalidation_1-rmse:18.80671\n",
      "[1161]\tvalidation_0-rmse:18.81402\tvalidation_1-rmse:18.80681\n",
      "[1162]\tvalidation_0-rmse:18.81393\tvalidation_1-rmse:18.80680\n",
      "[1163]\tvalidation_0-rmse:18.81393\tvalidation_1-rmse:18.80676\n",
      "[1164]\tvalidation_0-rmse:18.81394\tvalidation_1-rmse:18.80675\n",
      "[1165]\tvalidation_0-rmse:18.81381\tvalidation_1-rmse:18.80672\n",
      "[1166]\tvalidation_0-rmse:18.81376\tvalidation_1-rmse:18.80669\n",
      "[1167]\tvalidation_0-rmse:18.81380\tvalidation_1-rmse:18.80662\n",
      "[1168]\tvalidation_0-rmse:18.81369\tvalidation_1-rmse:18.80659\n",
      "[1169]\tvalidation_0-rmse:18.81358\tvalidation_1-rmse:18.80659\n",
      "[1170]\tvalidation_0-rmse:18.81355\tvalidation_1-rmse:18.80651\n",
      "[1171]\tvalidation_0-rmse:18.81348\tvalidation_1-rmse:18.80654\n",
      "[1172]\tvalidation_0-rmse:18.81340\tvalidation_1-rmse:18.80652\n",
      "[1173]\tvalidation_0-rmse:18.81331\tvalidation_1-rmse:18.80653\n",
      "[1174]\tvalidation_0-rmse:18.81330\tvalidation_1-rmse:18.80650\n",
      "[1175]\tvalidation_0-rmse:18.81321\tvalidation_1-rmse:18.80648\n",
      "[1176]\tvalidation_0-rmse:18.81310\tvalidation_1-rmse:18.80658\n",
      "[1177]\tvalidation_0-rmse:18.81308\tvalidation_1-rmse:18.80661\n",
      "[1178]\tvalidation_0-rmse:18.81303\tvalidation_1-rmse:18.80655\n",
      "[1179]\tvalidation_0-rmse:18.81291\tvalidation_1-rmse:18.80645\n",
      "[1180]\tvalidation_0-rmse:18.81285\tvalidation_1-rmse:18.80640\n",
      "[1181]\tvalidation_0-rmse:18.81284\tvalidation_1-rmse:18.80645\n",
      "[1182]\tvalidation_0-rmse:18.81276\tvalidation_1-rmse:18.80646\n",
      "[1183]\tvalidation_0-rmse:18.81271\tvalidation_1-rmse:18.80644\n",
      "[1184]\tvalidation_0-rmse:18.81261\tvalidation_1-rmse:18.80645\n",
      "[1185]\tvalidation_0-rmse:18.81260\tvalidation_1-rmse:18.80643\n",
      "[1186]\tvalidation_0-rmse:18.81254\tvalidation_1-rmse:18.80644\n",
      "[1187]\tvalidation_0-rmse:18.81258\tvalidation_1-rmse:18.80641\n",
      "[1188]\tvalidation_0-rmse:18.81247\tvalidation_1-rmse:18.80638\n",
      "[1189]\tvalidation_0-rmse:18.81243\tvalidation_1-rmse:18.80629\n",
      "[1190]\tvalidation_0-rmse:18.81233\tvalidation_1-rmse:18.80630\n",
      "[1191]\tvalidation_0-rmse:18.81227\tvalidation_1-rmse:18.80629\n",
      "[1192]\tvalidation_0-rmse:18.81219\tvalidation_1-rmse:18.80626\n",
      "[1193]\tvalidation_0-rmse:18.81213\tvalidation_1-rmse:18.80629\n",
      "[1194]\tvalidation_0-rmse:18.81209\tvalidation_1-rmse:18.80626\n",
      "[1195]\tvalidation_0-rmse:18.81203\tvalidation_1-rmse:18.80623\n",
      "[1196]\tvalidation_0-rmse:18.81196\tvalidation_1-rmse:18.80623\n",
      "[1197]\tvalidation_0-rmse:18.81188\tvalidation_1-rmse:18.80620\n",
      "[1198]\tvalidation_0-rmse:18.81182\tvalidation_1-rmse:18.80621\n",
      "[1199]\tvalidation_0-rmse:18.81184\tvalidation_1-rmse:18.80617\n",
      "[1200]\tvalidation_0-rmse:18.81168\tvalidation_1-rmse:18.80610\n",
      "[1201]\tvalidation_0-rmse:18.81170\tvalidation_1-rmse:18.80604\n",
      "[1202]\tvalidation_0-rmse:18.81154\tvalidation_1-rmse:18.80606\n",
      "[1203]\tvalidation_0-rmse:18.81153\tvalidation_1-rmse:18.80601\n",
      "[1204]\tvalidation_0-rmse:18.81151\tvalidation_1-rmse:18.80601\n",
      "[1205]\tvalidation_0-rmse:18.81148\tvalidation_1-rmse:18.80602\n",
      "[1206]\tvalidation_0-rmse:18.81145\tvalidation_1-rmse:18.80607\n",
      "[1207]\tvalidation_0-rmse:18.81137\tvalidation_1-rmse:18.80590\n",
      "[1208]\tvalidation_0-rmse:18.81131\tvalidation_1-rmse:18.80594\n",
      "[1209]\tvalidation_0-rmse:18.81125\tvalidation_1-rmse:18.80593\n",
      "[1210]\tvalidation_0-rmse:18.81118\tvalidation_1-rmse:18.80591\n",
      "[1211]\tvalidation_0-rmse:18.81110\tvalidation_1-rmse:18.80584\n",
      "[1212]\tvalidation_0-rmse:18.81104\tvalidation_1-rmse:18.80584\n",
      "[1213]\tvalidation_0-rmse:18.81093\tvalidation_1-rmse:18.80591\n",
      "[1214]\tvalidation_0-rmse:18.81078\tvalidation_1-rmse:18.80573\n",
      "[1215]\tvalidation_0-rmse:18.81065\tvalidation_1-rmse:18.80549\n",
      "[1216]\tvalidation_0-rmse:18.81049\tvalidation_1-rmse:18.80545\n",
      "[1217]\tvalidation_0-rmse:18.81043\tvalidation_1-rmse:18.80548\n",
      "[1218]\tvalidation_0-rmse:18.81040\tvalidation_1-rmse:18.80547\n",
      "[1219]\tvalidation_0-rmse:18.81038\tvalidation_1-rmse:18.80541\n",
      "[1220]\tvalidation_0-rmse:18.81035\tvalidation_1-rmse:18.80542\n",
      "[1221]\tvalidation_0-rmse:18.81030\tvalidation_1-rmse:18.80533\n",
      "[1222]\tvalidation_0-rmse:18.81029\tvalidation_1-rmse:18.80530\n",
      "[1223]\tvalidation_0-rmse:18.81021\tvalidation_1-rmse:18.80529\n",
      "[1224]\tvalidation_0-rmse:18.81020\tvalidation_1-rmse:18.80524\n",
      "[1225]\tvalidation_0-rmse:18.81015\tvalidation_1-rmse:18.80524\n",
      "[1226]\tvalidation_0-rmse:18.81008\tvalidation_1-rmse:18.80525\n",
      "[1227]\tvalidation_0-rmse:18.81002\tvalidation_1-rmse:18.80522\n"
     ]
    },
    {
     "name": "stdout",
     "output_type": "stream",
     "text": [
      "[1228]\tvalidation_0-rmse:18.81003\tvalidation_1-rmse:18.80524\n",
      "[1229]\tvalidation_0-rmse:18.80991\tvalidation_1-rmse:18.80525\n",
      "[1230]\tvalidation_0-rmse:18.80986\tvalidation_1-rmse:18.80528\n",
      "[1231]\tvalidation_0-rmse:18.80980\tvalidation_1-rmse:18.80527\n",
      "[1232]\tvalidation_0-rmse:18.80978\tvalidation_1-rmse:18.80521\n",
      "[1233]\tvalidation_0-rmse:18.80975\tvalidation_1-rmse:18.80521\n",
      "[1234]\tvalidation_0-rmse:18.80970\tvalidation_1-rmse:18.80517\n",
      "[1235]\tvalidation_0-rmse:18.80961\tvalidation_1-rmse:18.80520\n",
      "[1236]\tvalidation_0-rmse:18.80960\tvalidation_1-rmse:18.80515\n",
      "[1237]\tvalidation_0-rmse:18.80955\tvalidation_1-rmse:18.80517\n",
      "[1238]\tvalidation_0-rmse:18.80950\tvalidation_1-rmse:18.80514\n",
      "[1239]\tvalidation_0-rmse:18.80945\tvalidation_1-rmse:18.80514\n",
      "[1240]\tvalidation_0-rmse:18.80941\tvalidation_1-rmse:18.80511\n",
      "[1241]\tvalidation_0-rmse:18.80932\tvalidation_1-rmse:18.80502\n",
      "[1242]\tvalidation_0-rmse:18.80924\tvalidation_1-rmse:18.80504\n",
      "[1243]\tvalidation_0-rmse:18.80923\tvalidation_1-rmse:18.80508\n",
      "[1244]\tvalidation_0-rmse:18.80919\tvalidation_1-rmse:18.80515\n",
      "[1245]\tvalidation_0-rmse:18.80911\tvalidation_1-rmse:18.80505\n",
      "[1246]\tvalidation_0-rmse:18.80904\tvalidation_1-rmse:18.80498\n",
      "[1247]\tvalidation_0-rmse:18.80900\tvalidation_1-rmse:18.80493\n",
      "[1248]\tvalidation_0-rmse:18.80891\tvalidation_1-rmse:18.80497\n",
      "[1249]\tvalidation_0-rmse:18.80890\tvalidation_1-rmse:18.80491\n",
      "[1250]\tvalidation_0-rmse:18.80883\tvalidation_1-rmse:18.80492\n",
      "[1251]\tvalidation_0-rmse:18.80873\tvalidation_1-rmse:18.80490\n",
      "[1252]\tvalidation_0-rmse:18.80872\tvalidation_1-rmse:18.80488\n",
      "[1253]\tvalidation_0-rmse:18.80863\tvalidation_1-rmse:18.80490\n",
      "[1254]\tvalidation_0-rmse:18.80865\tvalidation_1-rmse:18.80486\n",
      "[1255]\tvalidation_0-rmse:18.80854\tvalidation_1-rmse:18.80485\n",
      "[1256]\tvalidation_0-rmse:18.80852\tvalidation_1-rmse:18.80478\n",
      "[1257]\tvalidation_0-rmse:18.80850\tvalidation_1-rmse:18.80477\n",
      "[1258]\tvalidation_0-rmse:18.80847\tvalidation_1-rmse:18.80476\n",
      "[1259]\tvalidation_0-rmse:18.80843\tvalidation_1-rmse:18.80474\n",
      "[1260]\tvalidation_0-rmse:18.80835\tvalidation_1-rmse:18.80472\n",
      "[1261]\tvalidation_0-rmse:18.80830\tvalidation_1-rmse:18.80468\n",
      "[1262]\tvalidation_0-rmse:18.80823\tvalidation_1-rmse:18.80467\n",
      "[1263]\tvalidation_0-rmse:18.80817\tvalidation_1-rmse:18.80462\n",
      "[1264]\tvalidation_0-rmse:18.80809\tvalidation_1-rmse:18.80470\n",
      "[1265]\tvalidation_0-rmse:18.80808\tvalidation_1-rmse:18.80471\n",
      "[1266]\tvalidation_0-rmse:18.80805\tvalidation_1-rmse:18.80469\n",
      "[1267]\tvalidation_0-rmse:18.80795\tvalidation_1-rmse:18.80468\n",
      "[1268]\tvalidation_0-rmse:18.80793\tvalidation_1-rmse:18.80468\n",
      "[1269]\tvalidation_0-rmse:18.80786\tvalidation_1-rmse:18.80471\n",
      "[1270]\tvalidation_0-rmse:18.80776\tvalidation_1-rmse:18.80469\n",
      "[1271]\tvalidation_0-rmse:18.80777\tvalidation_1-rmse:18.80461\n",
      "[1272]\tvalidation_0-rmse:18.80765\tvalidation_1-rmse:18.80445\n",
      "[1273]\tvalidation_0-rmse:18.80757\tvalidation_1-rmse:18.80453\n",
      "[1274]\tvalidation_0-rmse:18.80747\tvalidation_1-rmse:18.80451\n",
      "[1275]\tvalidation_0-rmse:18.80745\tvalidation_1-rmse:18.80450\n",
      "[1276]\tvalidation_0-rmse:18.80749\tvalidation_1-rmse:18.80441\n",
      "[1277]\tvalidation_0-rmse:18.80741\tvalidation_1-rmse:18.80439\n",
      "[1278]\tvalidation_0-rmse:18.80727\tvalidation_1-rmse:18.80439\n",
      "[1279]\tvalidation_0-rmse:18.80722\tvalidation_1-rmse:18.80437\n",
      "[1280]\tvalidation_0-rmse:18.80724\tvalidation_1-rmse:18.80435\n",
      "[1281]\tvalidation_0-rmse:18.80718\tvalidation_1-rmse:18.80438\n",
      "[1282]\tvalidation_0-rmse:18.80716\tvalidation_1-rmse:18.80442\n",
      "[1283]\tvalidation_0-rmse:18.80709\tvalidation_1-rmse:18.80435\n",
      "[1284]\tvalidation_0-rmse:18.80709\tvalidation_1-rmse:18.80434\n",
      "[1285]\tvalidation_0-rmse:18.80703\tvalidation_1-rmse:18.80432\n",
      "[1286]\tvalidation_0-rmse:18.80698\tvalidation_1-rmse:18.80434\n",
      "[1287]\tvalidation_0-rmse:18.80692\tvalidation_1-rmse:18.80424\n",
      "[1288]\tvalidation_0-rmse:18.80679\tvalidation_1-rmse:18.80414\n",
      "[1289]\tvalidation_0-rmse:18.80672\tvalidation_1-rmse:18.80413\n",
      "[1290]\tvalidation_0-rmse:18.80662\tvalidation_1-rmse:18.80416\n",
      "[1291]\tvalidation_0-rmse:18.80659\tvalidation_1-rmse:18.80419\n",
      "[1292]\tvalidation_0-rmse:18.80653\tvalidation_1-rmse:18.80419\n",
      "[1293]\tvalidation_0-rmse:18.80651\tvalidation_1-rmse:18.80419\n",
      "[1294]\tvalidation_0-rmse:18.80650\tvalidation_1-rmse:18.80420\n",
      "[1295]\tvalidation_0-rmse:18.80649\tvalidation_1-rmse:18.80417\n",
      "[1296]\tvalidation_0-rmse:18.80643\tvalidation_1-rmse:18.80412\n",
      "[1297]\tvalidation_0-rmse:18.80637\tvalidation_1-rmse:18.80417\n",
      "[1298]\tvalidation_0-rmse:18.80627\tvalidation_1-rmse:18.80420\n",
      "[1299]\tvalidation_0-rmse:18.80629\tvalidation_1-rmse:18.80413\n",
      "[1300]\tvalidation_0-rmse:18.80625\tvalidation_1-rmse:18.80413\n",
      "[1301]\tvalidation_0-rmse:18.80618\tvalidation_1-rmse:18.80417\n",
      "[1302]\tvalidation_0-rmse:18.80613\tvalidation_1-rmse:18.80413\n",
      "[1303]\tvalidation_0-rmse:18.80611\tvalidation_1-rmse:18.80406\n",
      "[1304]\tvalidation_0-rmse:18.80603\tvalidation_1-rmse:18.80406\n",
      "[1305]\tvalidation_0-rmse:18.80600\tvalidation_1-rmse:18.80402\n",
      "[1306]\tvalidation_0-rmse:18.80594\tvalidation_1-rmse:18.80403\n",
      "[1307]\tvalidation_0-rmse:18.80584\tvalidation_1-rmse:18.80395\n",
      "[1308]\tvalidation_0-rmse:18.80585\tvalidation_1-rmse:18.80394\n",
      "[1309]\tvalidation_0-rmse:18.80583\tvalidation_1-rmse:18.80393\n",
      "[1310]\tvalidation_0-rmse:18.80572\tvalidation_1-rmse:18.80398\n",
      "[1311]\tvalidation_0-rmse:18.80565\tvalidation_1-rmse:18.80396\n",
      "[1312]\tvalidation_0-rmse:18.80571\tvalidation_1-rmse:18.80394\n",
      "[1313]\tvalidation_0-rmse:18.80563\tvalidation_1-rmse:18.80392\n",
      "[1314]\tvalidation_0-rmse:18.80557\tvalidation_1-rmse:18.80385\n",
      "[1315]\tvalidation_0-rmse:18.80557\tvalidation_1-rmse:18.80386\n",
      "[1316]\tvalidation_0-rmse:18.80546\tvalidation_1-rmse:18.80384\n",
      "[1317]\tvalidation_0-rmse:18.80537\tvalidation_1-rmse:18.80381\n",
      "[1318]\tvalidation_0-rmse:18.80529\tvalidation_1-rmse:18.80378\n",
      "[1319]\tvalidation_0-rmse:18.80528\tvalidation_1-rmse:18.80379\n",
      "[1320]\tvalidation_0-rmse:18.80525\tvalidation_1-rmse:18.80376\n",
      "[1321]\tvalidation_0-rmse:18.80518\tvalidation_1-rmse:18.80371\n",
      "[1322]\tvalidation_0-rmse:18.80514\tvalidation_1-rmse:18.80372\n",
      "[1323]\tvalidation_0-rmse:18.80507\tvalidation_1-rmse:18.80372\n",
      "[1324]\tvalidation_0-rmse:18.80505\tvalidation_1-rmse:18.80373\n",
      "[1325]\tvalidation_0-rmse:18.80497\tvalidation_1-rmse:18.80372\n",
      "[1326]\tvalidation_0-rmse:18.80493\tvalidation_1-rmse:18.80372\n",
      "[1327]\tvalidation_0-rmse:18.80494\tvalidation_1-rmse:18.80371\n",
      "[1328]\tvalidation_0-rmse:18.80488\tvalidation_1-rmse:18.80367\n",
      "[1329]\tvalidation_0-rmse:18.80485\tvalidation_1-rmse:18.80365\n",
      "[1330]\tvalidation_0-rmse:18.80479\tvalidation_1-rmse:18.80363\n",
      "[1331]\tvalidation_0-rmse:18.80473\tvalidation_1-rmse:18.80359\n",
      "[1332]\tvalidation_0-rmse:18.80469\tvalidation_1-rmse:18.80355\n",
      "[1333]\tvalidation_0-rmse:18.80460\tvalidation_1-rmse:18.80353\n",
      "[1334]\tvalidation_0-rmse:18.80453\tvalidation_1-rmse:18.80348\n",
      "[1335]\tvalidation_0-rmse:18.80443\tvalidation_1-rmse:18.80340\n",
      "[1336]\tvalidation_0-rmse:18.80440\tvalidation_1-rmse:18.80340\n",
      "[1337]\tvalidation_0-rmse:18.80430\tvalidation_1-rmse:18.80341\n",
      "[1338]\tvalidation_0-rmse:18.80426\tvalidation_1-rmse:18.80332\n",
      "[1339]\tvalidation_0-rmse:18.80423\tvalidation_1-rmse:18.80331\n",
      "[1340]\tvalidation_0-rmse:18.80419\tvalidation_1-rmse:18.80332\n",
      "[1341]\tvalidation_0-rmse:18.80413\tvalidation_1-rmse:18.80327\n",
      "[1342]\tvalidation_0-rmse:18.80407\tvalidation_1-rmse:18.80330\n",
      "[1343]\tvalidation_0-rmse:18.80404\tvalidation_1-rmse:18.80332\n",
      "[1344]\tvalidation_0-rmse:18.80401\tvalidation_1-rmse:18.80329\n",
      "[1345]\tvalidation_0-rmse:18.80396\tvalidation_1-rmse:18.80325\n",
      "[1346]\tvalidation_0-rmse:18.80390\tvalidation_1-rmse:18.80332\n",
      "[1347]\tvalidation_0-rmse:18.80382\tvalidation_1-rmse:18.80321\n",
      "[1348]\tvalidation_0-rmse:18.80374\tvalidation_1-rmse:18.80317\n",
      "[1349]\tvalidation_0-rmse:18.80371\tvalidation_1-rmse:18.80312\n",
      "[1350]\tvalidation_0-rmse:18.80367\tvalidation_1-rmse:18.80316\n",
      "[1351]\tvalidation_0-rmse:18.80364\tvalidation_1-rmse:18.80317\n",
      "[1352]\tvalidation_0-rmse:18.80355\tvalidation_1-rmse:18.80317\n",
      "[1353]\tvalidation_0-rmse:18.80353\tvalidation_1-rmse:18.80311\n",
      "[1354]\tvalidation_0-rmse:18.80344\tvalidation_1-rmse:18.80309\n",
      "[1355]\tvalidation_0-rmse:18.80339\tvalidation_1-rmse:18.80311\n",
      "[1356]\tvalidation_0-rmse:18.80337\tvalidation_1-rmse:18.80312\n",
      "[1357]\tvalidation_0-rmse:18.80333\tvalidation_1-rmse:18.80310\n",
      "[1358]\tvalidation_0-rmse:18.80329\tvalidation_1-rmse:18.80315\n",
      "[1359]\tvalidation_0-rmse:18.80320\tvalidation_1-rmse:18.80313\n",
      "[1360]\tvalidation_0-rmse:18.80315\tvalidation_1-rmse:18.80315\n",
      "[1361]\tvalidation_0-rmse:18.80311\tvalidation_1-rmse:18.80305\n",
      "[1362]\tvalidation_0-rmse:18.80305\tvalidation_1-rmse:18.80304\n"
     ]
    },
    {
     "name": "stdout",
     "output_type": "stream",
     "text": [
      "[1363]\tvalidation_0-rmse:18.80297\tvalidation_1-rmse:18.80292\n",
      "[1364]\tvalidation_0-rmse:18.80288\tvalidation_1-rmse:18.80290\n",
      "[1365]\tvalidation_0-rmse:18.80289\tvalidation_1-rmse:18.80284\n",
      "[1366]\tvalidation_0-rmse:18.80285\tvalidation_1-rmse:18.80287\n",
      "[1367]\tvalidation_0-rmse:18.80283\tvalidation_1-rmse:18.80280\n",
      "[1368]\tvalidation_0-rmse:18.80279\tvalidation_1-rmse:18.80275\n",
      "[1369]\tvalidation_0-rmse:18.80269\tvalidation_1-rmse:18.80277\n",
      "[1370]\tvalidation_0-rmse:18.80266\tvalidation_1-rmse:18.80273\n",
      "[1371]\tvalidation_0-rmse:18.80258\tvalidation_1-rmse:18.80279\n",
      "[1372]\tvalidation_0-rmse:18.80254\tvalidation_1-rmse:18.80282\n",
      "[1373]\tvalidation_0-rmse:18.80258\tvalidation_1-rmse:18.80280\n",
      "[1374]\tvalidation_0-rmse:18.80251\tvalidation_1-rmse:18.80279\n",
      "[1375]\tvalidation_0-rmse:18.80243\tvalidation_1-rmse:18.80277\n",
      "[1376]\tvalidation_0-rmse:18.80236\tvalidation_1-rmse:18.80277\n",
      "[1377]\tvalidation_0-rmse:18.80238\tvalidation_1-rmse:18.80274\n",
      "[1378]\tvalidation_0-rmse:18.80230\tvalidation_1-rmse:18.80275\n",
      "[1379]\tvalidation_0-rmse:18.80228\tvalidation_1-rmse:18.80269\n",
      "[1380]\tvalidation_0-rmse:18.80221\tvalidation_1-rmse:18.80265\n",
      "[1381]\tvalidation_0-rmse:18.80222\tvalidation_1-rmse:18.80260\n",
      "[1382]\tvalidation_0-rmse:18.80214\tvalidation_1-rmse:18.80260\n",
      "[1383]\tvalidation_0-rmse:18.80210\tvalidation_1-rmse:18.80258\n",
      "[1384]\tvalidation_0-rmse:18.80207\tvalidation_1-rmse:18.80259\n",
      "[1385]\tvalidation_0-rmse:18.80197\tvalidation_1-rmse:18.80251\n",
      "[1386]\tvalidation_0-rmse:18.80192\tvalidation_1-rmse:18.80253\n",
      "[1387]\tvalidation_0-rmse:18.80191\tvalidation_1-rmse:18.80245\n",
      "[1388]\tvalidation_0-rmse:18.80184\tvalidation_1-rmse:18.80251\n",
      "[1389]\tvalidation_0-rmse:18.80178\tvalidation_1-rmse:18.80251\n",
      "[1390]\tvalidation_0-rmse:18.80180\tvalidation_1-rmse:18.80249\n",
      "[1391]\tvalidation_0-rmse:18.80163\tvalidation_1-rmse:18.80255\n",
      "[1392]\tvalidation_0-rmse:18.80157\tvalidation_1-rmse:18.80252\n",
      "[1393]\tvalidation_0-rmse:18.80155\tvalidation_1-rmse:18.80244\n",
      "[1394]\tvalidation_0-rmse:18.80154\tvalidation_1-rmse:18.80246\n",
      "[1395]\tvalidation_0-rmse:18.80147\tvalidation_1-rmse:18.80246\n",
      "[1396]\tvalidation_0-rmse:18.80139\tvalidation_1-rmse:18.80244\n",
      "[1397]\tvalidation_0-rmse:18.80133\tvalidation_1-rmse:18.80246\n",
      "[1398]\tvalidation_0-rmse:18.80130\tvalidation_1-rmse:18.80250\n",
      "[1399]\tvalidation_0-rmse:18.80127\tvalidation_1-rmse:18.80250\n",
      "[1400]\tvalidation_0-rmse:18.80118\tvalidation_1-rmse:18.80249\n",
      "[1401]\tvalidation_0-rmse:18.80103\tvalidation_1-rmse:18.80246\n",
      "[1402]\tvalidation_0-rmse:18.80106\tvalidation_1-rmse:18.80243\n",
      "[1403]\tvalidation_0-rmse:18.80100\tvalidation_1-rmse:18.80240\n",
      "[1404]\tvalidation_0-rmse:18.80094\tvalidation_1-rmse:18.80234\n",
      "[1405]\tvalidation_0-rmse:18.80091\tvalidation_1-rmse:18.80232\n",
      "[1406]\tvalidation_0-rmse:18.80087\tvalidation_1-rmse:18.80235\n",
      "[1407]\tvalidation_0-rmse:18.80080\tvalidation_1-rmse:18.80240\n",
      "[1408]\tvalidation_0-rmse:18.80077\tvalidation_1-rmse:18.80235\n",
      "[1409]\tvalidation_0-rmse:18.80072\tvalidation_1-rmse:18.80237\n",
      "[1410]\tvalidation_0-rmse:18.80073\tvalidation_1-rmse:18.80232\n",
      "[1411]\tvalidation_0-rmse:18.80066\tvalidation_1-rmse:18.80233\n",
      "[1412]\tvalidation_0-rmse:18.80066\tvalidation_1-rmse:18.80226\n",
      "[1413]\tvalidation_0-rmse:18.80057\tvalidation_1-rmse:18.80222\n",
      "[1414]\tvalidation_0-rmse:18.80048\tvalidation_1-rmse:18.80218\n",
      "[1415]\tvalidation_0-rmse:18.80049\tvalidation_1-rmse:18.80213\n",
      "[1416]\tvalidation_0-rmse:18.80044\tvalidation_1-rmse:18.80214\n",
      "[1417]\tvalidation_0-rmse:18.80037\tvalidation_1-rmse:18.80220\n",
      "[1418]\tvalidation_0-rmse:18.80025\tvalidation_1-rmse:18.80207\n",
      "[1419]\tvalidation_0-rmse:18.80021\tvalidation_1-rmse:18.80198\n",
      "[1420]\tvalidation_0-rmse:18.80019\tvalidation_1-rmse:18.80199\n",
      "[1421]\tvalidation_0-rmse:18.80015\tvalidation_1-rmse:18.80197\n",
      "[1422]\tvalidation_0-rmse:18.80007\tvalidation_1-rmse:18.80191\n",
      "[1423]\tvalidation_0-rmse:18.80002\tvalidation_1-rmse:18.80194\n",
      "[1424]\tvalidation_0-rmse:18.79998\tvalidation_1-rmse:18.80193\n",
      "[1425]\tvalidation_0-rmse:18.79993\tvalidation_1-rmse:18.80183\n",
      "[1426]\tvalidation_0-rmse:18.79986\tvalidation_1-rmse:18.80184\n",
      "[1427]\tvalidation_0-rmse:18.79982\tvalidation_1-rmse:18.80186\n",
      "[1428]\tvalidation_0-rmse:18.79981\tvalidation_1-rmse:18.80191\n",
      "[1429]\tvalidation_0-rmse:18.79977\tvalidation_1-rmse:18.80182\n",
      "[1430]\tvalidation_0-rmse:18.79971\tvalidation_1-rmse:18.80188\n",
      "[1431]\tvalidation_0-rmse:18.79959\tvalidation_1-rmse:18.80186\n",
      "[1432]\tvalidation_0-rmse:18.79956\tvalidation_1-rmse:18.80181\n",
      "[1433]\tvalidation_0-rmse:18.79954\tvalidation_1-rmse:18.80179\n",
      "[1434]\tvalidation_0-rmse:18.79944\tvalidation_1-rmse:18.80178\n",
      "[1435]\tvalidation_0-rmse:18.79941\tvalidation_1-rmse:18.80177\n",
      "[1436]\tvalidation_0-rmse:18.79941\tvalidation_1-rmse:18.80181\n",
      "[1437]\tvalidation_0-rmse:18.79935\tvalidation_1-rmse:18.80174\n",
      "[1438]\tvalidation_0-rmse:18.79931\tvalidation_1-rmse:18.80174\n",
      "[1439]\tvalidation_0-rmse:18.79931\tvalidation_1-rmse:18.80176\n",
      "[1440]\tvalidation_0-rmse:18.79925\tvalidation_1-rmse:18.80159\n",
      "[1441]\tvalidation_0-rmse:18.79919\tvalidation_1-rmse:18.80162\n",
      "[1442]\tvalidation_0-rmse:18.79917\tvalidation_1-rmse:18.80163\n",
      "[1443]\tvalidation_0-rmse:18.79918\tvalidation_1-rmse:18.80162\n",
      "[1444]\tvalidation_0-rmse:18.79910\tvalidation_1-rmse:18.80162\n",
      "[1445]\tvalidation_0-rmse:18.79910\tvalidation_1-rmse:18.80159\n",
      "[1446]\tvalidation_0-rmse:18.79907\tvalidation_1-rmse:18.80163\n",
      "[1447]\tvalidation_0-rmse:18.79903\tvalidation_1-rmse:18.80155\n",
      "[1448]\tvalidation_0-rmse:18.79899\tvalidation_1-rmse:18.80160\n",
      "[1449]\tvalidation_0-rmse:18.79889\tvalidation_1-rmse:18.80158\n",
      "[1450]\tvalidation_0-rmse:18.79890\tvalidation_1-rmse:18.80154\n",
      "[1451]\tvalidation_0-rmse:18.79888\tvalidation_1-rmse:18.80148\n",
      "[1452]\tvalidation_0-rmse:18.79891\tvalidation_1-rmse:18.80152\n",
      "[1453]\tvalidation_0-rmse:18.79884\tvalidation_1-rmse:18.80153\n",
      "[1454]\tvalidation_0-rmse:18.79878\tvalidation_1-rmse:18.80152\n",
      "[1455]\tvalidation_0-rmse:18.79877\tvalidation_1-rmse:18.80146\n",
      "[1456]\tvalidation_0-rmse:18.79875\tvalidation_1-rmse:18.80147\n",
      "[1457]\tvalidation_0-rmse:18.79870\tvalidation_1-rmse:18.80139\n",
      "[1458]\tvalidation_0-rmse:18.79864\tvalidation_1-rmse:18.80143\n",
      "[1459]\tvalidation_0-rmse:18.79866\tvalidation_1-rmse:18.80145\n",
      "[1460]\tvalidation_0-rmse:18.79860\tvalidation_1-rmse:18.80146\n",
      "[1461]\tvalidation_0-rmse:18.79851\tvalidation_1-rmse:18.80145\n",
      "[1462]\tvalidation_0-rmse:18.79848\tvalidation_1-rmse:18.80135\n",
      "[1463]\tvalidation_0-rmse:18.79842\tvalidation_1-rmse:18.80129\n",
      "[1464]\tvalidation_0-rmse:18.79847\tvalidation_1-rmse:18.80130\n",
      "[1465]\tvalidation_0-rmse:18.79844\tvalidation_1-rmse:18.80130\n",
      "[1466]\tvalidation_0-rmse:18.79834\tvalidation_1-rmse:18.80132\n",
      "[1467]\tvalidation_0-rmse:18.79822\tvalidation_1-rmse:18.80124\n",
      "[1468]\tvalidation_0-rmse:18.79821\tvalidation_1-rmse:18.80125\n",
      "[1469]\tvalidation_0-rmse:18.79821\tvalidation_1-rmse:18.80121\n",
      "[1470]\tvalidation_0-rmse:18.79815\tvalidation_1-rmse:18.80125\n",
      "[1471]\tvalidation_0-rmse:18.79812\tvalidation_1-rmse:18.80132\n",
      "[1472]\tvalidation_0-rmse:18.79811\tvalidation_1-rmse:18.80127\n",
      "[1473]\tvalidation_0-rmse:18.79805\tvalidation_1-rmse:18.80127\n",
      "[1474]\tvalidation_0-rmse:18.79794\tvalidation_1-rmse:18.80123\n",
      "[1475]\tvalidation_0-rmse:18.79797\tvalidation_1-rmse:18.80123\n",
      "[1476]\tvalidation_0-rmse:18.79796\tvalidation_1-rmse:18.80128\n",
      "[1477]\tvalidation_0-rmse:18.79792\tvalidation_1-rmse:18.80126\n",
      "[1478]\tvalidation_0-rmse:18.79789\tvalidation_1-rmse:18.80126\n",
      "[1479]\tvalidation_0-rmse:18.79783\tvalidation_1-rmse:18.80123\n",
      "Stopping. Best iteration:\n",
      "[1469]\tvalidation_0-rmse:18.79821\tvalidation_1-rmse:18.80121\n",
      "\n"
     ]
    },
    {
     "data": {
      "text/plain": [
       "XGBRegressor(base_score=0.5, booster='gbtree', colsample_bylevel=1,\n",
       "             colsample_bynode=1, colsample_bytree=1, gamma=0, gpu_id=-1,\n",
       "             importance_type='gain', interaction_constraints='',\n",
       "             learning_rate=0.05, max_delta_step=0, max_depth=4,\n",
       "             min_child_weight=1, missing=nan, monotone_constraints='()',\n",
       "             n_estimators=2000, n_jobs=-1, num_parallel_tree=1, random_state=0,\n",
       "             reg_alpha=0, reg_lambda=1, scale_pos_weight=1, subsample=1,\n",
       "             tree_method='exact', validate_parameters=1, verbosity=None)"
      ]
     },
     "execution_count": 199,
     "metadata": {},
     "output_type": "execute_result"
    }
   ],
   "source": [
    "# Fitting the training set and applying early stopping.\n",
    "bestModel.fit(trainX, trainY, early_stopping_rounds=10, eval_set=eval_set, verbose=True)"
   ]
  },
  {
   "cell_type": "code",
   "execution_count": 200,
   "metadata": {},
   "outputs": [],
   "source": [
    "# Saving the best hyperparameter setting with n_estimators from early stopping.\n",
    "bestModel = xgboost.XGBRegressor(learning_rate=0.05, max_depth=4, n_estimators=1500, n_jobs=-1)"
   ]
  },
  {
   "cell_type": "code",
   "execution_count": 202,
   "metadata": {},
   "outputs": [
    {
     "name": "stdout",
     "output_type": "stream",
     "text": [
      "\n",
      "Model:\n",
      " XGBRegressor(base_score=None, booster=None, colsample_bylevel=None,\n",
      "             colsample_bynode=None, colsample_bytree=None, gamma=None,\n",
      "             gpu_id=None, importance_type='gain', interaction_constraints=None,\n",
      "             learning_rate=0.05, max_delta_step=None, max_depth=4,\n",
      "             min_child_weight=None, missing=nan, monotone_constraints=None,\n",
      "             n_estimators=1500, n_jobs=-1, num_parallel_tree=None,\n",
      "             random_state=None, reg_alpha=None, reg_lambda=None,\n",
      "             scale_pos_weight=None, subsample=None, tree_method=None,\n",
      "             validate_parameters=None, verbosity=None)\n",
      "    Standard Deviation of Cross Validation MSEs:\n",
      "      1.37\n",
      "    Mean 5-Fold Cross Validation MSE: \n",
      "       355.62\n"
     ]
    },
    {
     "data": {
      "text/plain": [
       "355.62"
      ]
     },
     "execution_count": 202,
     "metadata": {},
     "output_type": "execute_result"
    }
   ],
   "source": [
    "# Running the model in the same way as the intial test to see improvement of MSE.\n",
    "evalModel(bestModel)"
   ]
  },
  {
   "cell_type": "markdown",
   "metadata": {},
   "source": [
    "###### Conclusion\n",
    "While the model has not improved by much after some fine-tuning, these new hyperparameters will still be utilized for deployment."
   ]
  },
  {
   "cell_type": "markdown",
   "metadata": {},
   "source": [
    "## Part 4 - DEPLOY"
   ]
  },
  {
   "cell_type": "markdown",
   "metadata": {},
   "source": [
    "### ---- 11 Automate pipeline ----"
   ]
  },
  {
   "cell_type": "code",
   "execution_count": 203,
   "metadata": {},
   "outputs": [],
   "source": [
    "#write script that trains model on entire training set, saves model to disk,\n",
    "#and scores the \"test\" dataset"
   ]
  },
  {
   "cell_type": "code",
   "execution_count": 204,
   "metadata": {},
   "outputs": [],
   "source": [
    "# Creating a function that trains model on entire training set and saves the model to disk.\n",
    "\n",
    "def trainedCleanModelDF(raw_train_features, raw_train_targets):\n",
    "    \n",
    "    # Loading csv files\n",
    "    featuresDF = pd.read_csv(raw_train_features)\n",
    "    targetsDF = pd.read_csv(raw_train_targets) \n",
    "\n",
    "    # Cleaning feature and target dataframes per analysis above\n",
    "    df = pd.merge(featuresDF, targetsDF, on='jobId')\n",
    "    df = df[df['salary'] > 8.5]\n",
    "    categoriesDF = df[['jobType', 'degree', 'major', 'industry']]\n",
    "    categoriesDF = pd.get_dummies(categoriesDF, drop_first=True)\n",
    "    featuresDF = pd.concat([categoriesDF, df[['yearsExperience', 'milesFromMetropolis']]], axis=1)\n",
    "    targetsDF = df[['salary']]\n",
    "    del categoriesDF, df\n",
    "    \n",
    "    # Implement best model discovered per analysis above\n",
    "    model = xgboost.XGBRegressor(learning_rate=0.05, max_depth=4, n_estimators=1500)\n",
    "    model.fit(featuresDF, targetsDF)\n",
    "    \n",
    "    # Save model to disk\n",
    "    model_file = 'model'\n",
    "    pickle.dump(model, open(model_file, 'wb'))\n",
    "    \n",
    "    # Informs user that process is complete\n",
    "    print(\"Data prepraration and model creation complete.\")"
   ]
  },
  {
   "cell_type": "code",
   "execution_count": 205,
   "metadata": {},
   "outputs": [],
   "source": [
    "# Script that prepares data, predicts salaries, and exports results\n",
    "# This class will be saved in a .py file for private use - See \"Salary_Prediction_Module.py\"\n",
    "class salaryPredictionModel():\n",
    "    \n",
    "    # Read the 'model' file which was saved\n",
    "    def __init__(self, model_file):\n",
    "        self.xgb = pickle.load(open(model_file, 'rb'))\n",
    "    \n",
    "    # Takes data, prepares data, makes predictions from trained model, and exports results to csv file\n",
    "    def exportPredictions(self, data_file):\n",
    "\n",
    "        # Load csv file\n",
    "        df_pred_features = pd.read_csv(data_file)\n",
    "    \n",
    "        # Saves jobId column for output file\n",
    "        df_pred_jobId = pd.DataFrame(df_pred_features['jobId'])\n",
    "    \n",
    "        # Prepares data to be fed into the model\n",
    "        df_pred_categories = df_pred_features[['jobType', 'degree', 'major', 'industry']]\n",
    "        df_pred_categories = pd.get_dummies(df_pred_categories, drop_first=True)\n",
    "        df_pred_features = pd.concat([df_pred_categories, df_pred_features[['yearsExperience','milesFromMetropolis']]], axis=1)\n",
    "        del df_pred_categories\n",
    "    \n",
    "        # Loads model from disk, predicts salaries, and exports results to .csv file\n",
    "        df_pred = pd.DataFrame(self.xgb.predict(df_pred_features))\n",
    "        df_pred.columns = ['salary']\n",
    "        df_pred = pd.concat([df_pred_jobId,df_pred], axis=1)\n",
    "        df_pred.to_csv('predicted_salaries.csv')\n",
    "        del df_pred_jobId\n",
    "        \n",
    "        # Informs user that process is complete\n",
    "        print(\"Predictions exported to .csv file.\")\n",
    "    \n",
    "    # Plot feature importance of model and save figure to .jpg file\n",
    "    def exportFeatureImportance(self):\n",
    "        fig, ax = plt.subplots(figsize=(12, 8))\n",
    "        xgboost.plot_importance(self.xgb, height=0.6, ax=ax)\n",
    "        fig.savefig('feature_importance.jpg')\n",
    "    \n",
    "        # Informs user that process is complete\n",
    "        print(\"Feature importances exported to .jpg file.\")"
   ]
  },
  {
   "cell_type": "markdown",
   "metadata": {},
   "source": [
    "### ---- 12 Deploy solution ----"
   ]
  },
  {
   "cell_type": "code",
   "execution_count": 206,
   "metadata": {},
   "outputs": [],
   "source": [
    "#save your prediction to a csv file or optionally save them as a table in a SQL database\n",
    "#additionally, you want to save a visualization and summary of your prediction and feature \\n\n",
    "#importances these visualizations and summaries will be extremely useful to business stakeholders"
   ]
  },
  {
   "cell_type": "code",
   "execution_count": 207,
   "metadata": {},
   "outputs": [
    {
     "name": "stdout",
     "output_type": "stream",
     "text": [
      "Data prepraration and model creation complete.\n"
     ]
    }
   ],
   "source": [
    "# Use pipeline to prepare data, fit to model, and save to disk\n",
    "trainedCleanModelDF(\"data/train_features.csv\", \"data/train_salaries.csv\")\n"
   ]
  },
  {
   "cell_type": "code",
   "execution_count": 209,
   "metadata": {},
   "outputs": [],
   "source": [
    "# Load and initialize the saved model\n",
    "model = salaryPredictionModel('model')"
   ]
  },
  {
   "cell_type": "code",
   "execution_count": 211,
   "metadata": {},
   "outputs": [
    {
     "name": "stdout",
     "output_type": "stream",
     "text": [
      "Predictions exported to .csv file.\n"
     ]
    }
   ],
   "source": [
    "# Prepare new data and export predictions to .csv file\n",
    "model.exportPredictions(\"data/test_features.csv\")"
   ]
  },
  {
   "cell_type": "code",
   "execution_count": 213,
   "metadata": {},
   "outputs": [
    {
     "name": "stdout",
     "output_type": "stream",
     "text": [
      "Feature importances exported to .jpg file.\n"
     ]
    },
    {
     "data": {
      "image/png": "[encoded data removed]",
      "text/plain": [
       "<Figure size 864x576 with 1 Axes>"
      ]
     },
     "metadata": {
      "needs_background": "light"
     },
     "output_type": "display_data"
    }
   ],
   "source": [
    "# Export feature importance chart\n",
    "model.exportFeatureImportance()"
   ]
  },
  {
   "cell_type": "markdown",
   "metadata": {},
   "source": [
    "### ---- 13 Measure efficacy ----\n",
    "We'll skip this step since we don't have the outcomes for the test data"
   ]
  },
  {
   "cell_type": "code",
   "execution_count": null,
   "metadata": {},
   "outputs": [],
   "source": []
  },
  {
   "cell_type": "code",
   "execution_count": 8,
   "metadata": {},
   "outputs": [
    {
     "name": "stdout",
     "output_type": "stream",
     "text": [
      "Collecting package metadata (current_repodata.json): done\n",
      "Solving environment: done\n",
      "\n",
      "## Package Plan ##\n",
      "\n",
      "  environment location: /Applications/anaconda3\n",
      "\n",
      "  added / updated specs:\n",
      "    - conda\n",
      "\n",
      "\n",
      "The following packages will be downloaded:\n",
      "\n",
      "    package                    |            build\n",
      "    ---------------------------|-----------------\n",
      "    _py-xgboost-mutex-2.0      |            cpu_0           8 KB\n",
      "    backports.functools_lru_cache-1.6.1|     pyhd3eb1b0_0          12 KB\n",
      "    backports.tempfile-1.0     |     pyhd3eb1b0_1          11 KB\n",
      "    conda-4.9.2                |   py38hecd8cb5_0         2.9 MB\n",
      "    conda-package-handling-1.7.2|   py38h22f3db7_0         1.5 MB\n",
      "    ------------------------------------------------------------\n",
      "                                           Total:         4.4 MB\n",
      "\n",
      "The following packages will be UPDATED:\n",
      "\n",
      "  conda-package-han~                   1.6.1-py38h1de35cc_0 --> 1.7.2-py38h22f3db7_0\n",
      "\n",
      "The following packages will be SUPERSEDED by a higher-priority channel:\n",
      "\n",
      "  _py-xgboost-mutex                             conda-forge --> pkgs/main\n",
      "  conda              conda-forge::conda-4.9.2-py38h50d1736~ --> pkgs/main::conda-4.9.2-py38hecd8cb5_0\n",
      "\n",
      "The following packages will be DOWNGRADED:\n",
      "\n",
      "  backports.functoo~                             1.6.1-py_0 --> 1.6.1-pyhd3eb1b0_0\n",
      "  backports.tempfile                               1.0-py_1 --> 1.0-pyhd3eb1b0_1\n",
      "\n",
      "\n",
      "\n",
      "Downloading and Extracting Packages\n",
      "conda-4.9.2          | 2.9 MB    | ##################################### | 100% \n",
      "backports.functools_ | 12 KB     | ##################################### | 100% \n",
      "backports.tempfile-1 | 11 KB     | ##################################### | 100% \n",
      "_py-xgboost-mutex-2. | 8 KB      | ##################################### | 100% \n",
      "conda-package-handli | 1.5 MB    | ##################################### | 100% \n",
      "Preparing transaction: done\n",
      "Verifying transaction: done\n",
      "Executing transaction: done\n",
      "\n",
      "Note: you may need to restart the kernel to use updated packages.\n"
     ]
    }
   ],
   "source": [
    "#Had to update conda to install package/lib below.\n",
    "#conda update -n base -c defaults conda"
   ]
  },
  {
   "cell_type": "code",
   "execution_count": 6,
   "metadata": {},
   "outputs": [
    {
     "name": "stdout",
     "output_type": "stream",
     "text": [
      "Collecting package metadata (current_repodata.json): done\n",
      "Solving environment: failed with initial frozen solve. Retrying with flexible solve.\n",
      "Solving environment: failed with repodata from current_repodata.json, will retry with next repodata source.\n",
      "Collecting package metadata (repodata.json): done\n",
      "Solving environment: done\n",
      "\n",
      "\n",
      "==> WARNING: A newer version of conda exists. <==\n",
      "  current version: 4.8.3\n",
      "  latest version: 4.9.2\n",
      "\n",
      "Please update conda by running\n",
      "\n",
      "    $ conda update -n base -c defaults conda\n",
      "\n",
      "\n",
      "\n",
      "## Package Plan ##\n",
      "\n",
      "  environment location: /Applications/anaconda3\n",
      "\n",
      "  added / updated specs:\n",
      "    - xgboost\n",
      "\n",
      "\n",
      "The following packages will be downloaded:\n",
      "\n",
      "    package                    |            build\n",
      "    ---------------------------|-----------------\n",
      "    _py-xgboost-mutex-2.0      |            cpu_0           8 KB  conda-forge\n",
      "    conda-4.9.2                |   py38h50d1736_0         3.1 MB  conda-forge\n",
      "    libxgboost-1.1.1           |       h4a8c4bd_0         1.9 MB  conda-forge\n",
      "    py-xgboost-1.1.1           |   py38h32f6830_0         1.0 MB  conda-forge\n",
      "    python_abi-3.8             |           1_cp38           4 KB  conda-forge\n",
      "    xgboost-1.1.1              |   py38hc84c608_0          11 KB  conda-forge\n",
      "    ------------------------------------------------------------\n",
      "                                           Total:         6.0 MB\n",
      "\n",
      "The following NEW packages will be INSTALLED:\n",
      "\n",
      "  _py-xgboost-mutex  conda-forge/osx-64::_py-xgboost-mutex-2.0-cpu_0\n",
      "  libxgboost         conda-forge/osx-64::libxgboost-1.1.1-h4a8c4bd_0\n",
      "  py-xgboost         conda-forge/osx-64::py-xgboost-1.1.1-py38h32f6830_0\n",
      "  python_abi         conda-forge/osx-64::python_abi-3.8-1_cp38\n",
      "  xgboost            conda-forge/osx-64::xgboost-1.1.1-py38hc84c608_0\n",
      "\n",
      "The following packages will be UPDATED:\n",
      "\n",
      "  conda                       pkgs/main::conda-4.8.3-py38_0 --> conda-forge::conda-4.9.2-py38h50d1736_0\n",
      "\n",
      "\n",
      "\n",
      "Downloading and Extracting Packages\n",
      "conda-4.9.2          | 3.1 MB    | ##################################### | 100% \n",
      "_py-xgboost-mutex-2. | 8 KB      | ##################################### | 100% \n",
      "python_abi-3.8       | 4 KB      | ##################################### | 100% \n",
      "xgboost-1.1.1        | 11 KB     | ##################################### | 100% \n",
      "libxgboost-1.1.1     | 1.9 MB    | ##################################### | 100% \n",
      "py-xgboost-1.1.1     | 1.0 MB    | ##################################### | 100% \n",
      "Preparing transaction: done\n",
      "Verifying transaction: done\n",
      "Executing transaction: done\n",
      "\n",
      "Note: you may need to restart the kernel to use updated packages.\n"
     ]
    }
   ],
   "source": [
    "# Installed XGBoost for Machine Learning algorithms\n",
    "# conda install -c conda-forge xgboost"
   ]
  }
 ],
 "metadata": {
  "kernelspec": {
   "display_name": "Python 3",
   "language": "python",
   "name": "python3"
  },
  "language_info": {
   "codemirror_mode": {
    "name": "ipython",
    "version": 3
   },
   "file_extension": ".py",
   "mimetype": "text/x-python",
   "name": "python",
   "nbconvert_exporter": "python",
   "pygments_lexer": "ipython3",
   "version": "3.8.3"
  }
 },
 "nbformat": 4,
 "nbformat_minor": 2
}
